{
 "cells": [
  {
   "cell_type": "markdown",
   "id": "4f094220",
   "metadata": {},
   "source": [
    "# 线性回归"
   ]
  },
  {
   "cell_type": "markdown",
   "id": "68c72b2a",
   "metadata": {},
   "source": [
    "## 相关性判断"
   ]
  },
  {
   "cell_type": "markdown",
   "id": "cdeb5776",
   "metadata": {},
   "source": [
    "### 相关系数计算"
   ]
  },
  {
   "cell_type": "markdown",
   "id": "2defd64c",
   "metadata": {},
   "source": [
    "![jupyter](./class_nine_1.png)"
   ]
  },
  {
   "cell_type": "code",
   "execution_count": 1,
   "id": "a26b8d32",
   "metadata": {},
   "outputs": [],
   "source": [
    "import pandas as pd\n",
    "import numpy as np"
   ]
  },
  {
   "cell_type": "code",
   "execution_count": 3,
   "id": "6f606f86",
   "metadata": {},
   "outputs": [
    {
     "data": {
      "text/html": [
       "<div>\n",
       "<style scoped>\n",
       "    .dataframe tbody tr th:only-of-type {\n",
       "        vertical-align: middle;\n",
       "    }\n",
       "\n",
       "    .dataframe tbody tr th {\n",
       "        vertical-align: top;\n",
       "    }\n",
       "\n",
       "    .dataframe thead th {\n",
       "        text-align: right;\n",
       "    }\n",
       "</style>\n",
       "<table border=\"1\" class=\"dataframe\">\n",
       "  <thead>\n",
       "    <tr style=\"text-align: right;\">\n",
       "      <th></th>\n",
       "      <th>YearsExperience</th>\n",
       "      <th>Salary</th>\n",
       "    </tr>\n",
       "  </thead>\n",
       "  <tbody>\n",
       "    <tr>\n",
       "      <th>0</th>\n",
       "      <td>1.1</td>\n",
       "      <td>39343.0</td>\n",
       "    </tr>\n",
       "    <tr>\n",
       "      <th>1</th>\n",
       "      <td>1.3</td>\n",
       "      <td>46205.0</td>\n",
       "    </tr>\n",
       "    <tr>\n",
       "      <th>2</th>\n",
       "      <td>1.5</td>\n",
       "      <td>37731.0</td>\n",
       "    </tr>\n",
       "    <tr>\n",
       "      <th>3</th>\n",
       "      <td>2.0</td>\n",
       "      <td>43525.0</td>\n",
       "    </tr>\n",
       "    <tr>\n",
       "      <th>4</th>\n",
       "      <td>2.2</td>\n",
       "      <td>39891.0</td>\n",
       "    </tr>\n",
       "  </tbody>\n",
       "</table>\n",
       "</div>"
      ],
      "text/plain": [
       "   YearsExperience   Salary\n",
       "0              1.1  39343.0\n",
       "1              1.3  46205.0\n",
       "2              1.5  37731.0\n",
       "3              2.0  43525.0\n",
       "4              2.2  39891.0"
      ]
     },
     "execution_count": 3,
     "metadata": {},
     "output_type": "execute_result"
    }
   ],
   "source": [
    "income = pd.read_csv(r'./data_for_pandas/Salary_Data.csv')\n",
    "income.head()"
   ]
  },
  {
   "cell_type": "code",
   "execution_count": 4,
   "id": "4567af6f",
   "metadata": {},
   "outputs": [
    {
     "data": {
      "text/plain": [
       "0.9782416184887598"
      ]
     },
     "execution_count": 4,
     "metadata": {},
     "output_type": "execute_result"
    }
   ],
   "source": [
    "#计算两个变量之间的相关系数\n",
    "income.Salary.corr(income.YearsExperience)"
   ]
  },
  {
   "cell_type": "code",
   "execution_count": 6,
   "id": "eed29730",
   "metadata": {},
   "outputs": [
    {
     "data": {
      "text/html": [
       "<div>\n",
       "<style scoped>\n",
       "    .dataframe tbody tr th:only-of-type {\n",
       "        vertical-align: middle;\n",
       "    }\n",
       "\n",
       "    .dataframe tbody tr th {\n",
       "        vertical-align: top;\n",
       "    }\n",
       "\n",
       "    .dataframe thead th {\n",
       "        text-align: right;\n",
       "    }\n",
       "</style>\n",
       "<table border=\"1\" class=\"dataframe\">\n",
       "  <thead>\n",
       "    <tr style=\"text-align: right;\">\n",
       "      <th></th>\n",
       "      <th>RD_Spend</th>\n",
       "      <th>Administration</th>\n",
       "      <th>Marketing_Spend</th>\n",
       "      <th>State</th>\n",
       "      <th>Profit</th>\n",
       "    </tr>\n",
       "  </thead>\n",
       "  <tbody>\n",
       "    <tr>\n",
       "      <th>0</th>\n",
       "      <td>165349.20</td>\n",
       "      <td>136897.80</td>\n",
       "      <td>471784.10</td>\n",
       "      <td>New York</td>\n",
       "      <td>192261.83</td>\n",
       "    </tr>\n",
       "    <tr>\n",
       "      <th>1</th>\n",
       "      <td>162597.70</td>\n",
       "      <td>151377.59</td>\n",
       "      <td>443898.53</td>\n",
       "      <td>California</td>\n",
       "      <td>191792.06</td>\n",
       "    </tr>\n",
       "    <tr>\n",
       "      <th>2</th>\n",
       "      <td>153441.51</td>\n",
       "      <td>101145.55</td>\n",
       "      <td>407934.54</td>\n",
       "      <td>Florida</td>\n",
       "      <td>191050.39</td>\n",
       "    </tr>\n",
       "    <tr>\n",
       "      <th>3</th>\n",
       "      <td>144372.41</td>\n",
       "      <td>118671.85</td>\n",
       "      <td>383199.62</td>\n",
       "      <td>New York</td>\n",
       "      <td>182901.99</td>\n",
       "    </tr>\n",
       "    <tr>\n",
       "      <th>4</th>\n",
       "      <td>142107.34</td>\n",
       "      <td>91391.77</td>\n",
       "      <td>366168.42</td>\n",
       "      <td>Florida</td>\n",
       "      <td>166187.94</td>\n",
       "    </tr>\n",
       "  </tbody>\n",
       "</table>\n",
       "</div>"
      ],
      "text/plain": [
       "    RD_Spend  Administration  Marketing_Spend       State     Profit\n",
       "0  165349.20       136897.80        471784.10    New York  192261.83\n",
       "1  162597.70       151377.59        443898.53  California  191792.06\n",
       "2  153441.51       101145.55        407934.54     Florida  191050.39\n",
       "3  144372.41       118671.85        383199.62    New York  182901.99\n",
       "4  142107.34        91391.77        366168.42     Florida  166187.94"
      ]
     },
     "execution_count": 6,
     "metadata": {},
     "output_type": "execute_result"
    }
   ],
   "source": [
    "profit = pd.read_excel(r'./data_for_pandas/Predict to Profit.xlsx')\n",
    "profit.head()"
   ]
  },
  {
   "cell_type": "code",
   "execution_count": 7,
   "id": "014603b1",
   "metadata": {},
   "outputs": [
    {
     "data": {
      "text/plain": [
       "RD_Spend           0.978437\n",
       "Administration     0.205841\n",
       "Marketing_Spend    0.739307\n",
       "Profit             1.000000\n",
       "dtype: float64"
      ]
     },
     "execution_count": 7,
     "metadata": {},
     "output_type": "execute_result"
    }
   ],
   "source": [
    "#计算一个变量与多个变量的相关系数\n",
    "profit.drop('State', axis=1).corrwith(profit['Profit'])"
   ]
  },
  {
   "cell_type": "code",
   "execution_count": 10,
   "id": "b8b72c68",
   "metadata": {},
   "outputs": [
    {
     "data": {
      "text/html": [
       "<div>\n",
       "<style scoped>\n",
       "    .dataframe tbody tr th:only-of-type {\n",
       "        vertical-align: middle;\n",
       "    }\n",
       "\n",
       "    .dataframe tbody tr th {\n",
       "        vertical-align: top;\n",
       "    }\n",
       "\n",
       "    .dataframe thead th {\n",
       "        text-align: right;\n",
       "    }\n",
       "</style>\n",
       "<table border=\"1\" class=\"dataframe\">\n",
       "  <thead>\n",
       "    <tr style=\"text-align: right;\">\n",
       "      <th></th>\n",
       "      <th>RD_Spend</th>\n",
       "      <th>Administration</th>\n",
       "      <th>Marketing_Spend</th>\n",
       "      <th>Profit</th>\n",
       "    </tr>\n",
       "  </thead>\n",
       "  <tbody>\n",
       "    <tr>\n",
       "      <th>RD_Spend</th>\n",
       "      <td>1.000000</td>\n",
       "      <td>0.243438</td>\n",
       "      <td>0.711654</td>\n",
       "      <td>0.978437</td>\n",
       "    </tr>\n",
       "    <tr>\n",
       "      <th>Administration</th>\n",
       "      <td>0.243438</td>\n",
       "      <td>1.000000</td>\n",
       "      <td>-0.037280</td>\n",
       "      <td>0.205841</td>\n",
       "    </tr>\n",
       "    <tr>\n",
       "      <th>Marketing_Spend</th>\n",
       "      <td>0.711654</td>\n",
       "      <td>-0.037280</td>\n",
       "      <td>1.000000</td>\n",
       "      <td>0.739307</td>\n",
       "    </tr>\n",
       "    <tr>\n",
       "      <th>Profit</th>\n",
       "      <td>0.978437</td>\n",
       "      <td>0.205841</td>\n",
       "      <td>0.739307</td>\n",
       "      <td>1.000000</td>\n",
       "    </tr>\n",
       "  </tbody>\n",
       "</table>\n",
       "</div>"
      ],
      "text/plain": [
       "                 RD_Spend  Administration  Marketing_Spend    Profit\n",
       "RD_Spend         1.000000        0.243438         0.711654  0.978437\n",
       "Administration   0.243438        1.000000        -0.037280  0.205841\n",
       "Marketing_Spend  0.711654       -0.037280         1.000000  0.739307\n",
       "Profit           0.978437        0.205841         0.739307  1.000000"
      ]
     },
     "execution_count": 10,
     "metadata": {},
     "output_type": "execute_result"
    }
   ],
   "source": [
    "#计算多个变量两两之间的相关系数\n",
    "profit.drop('State', axis=1).corr()"
   ]
  },
  {
   "cell_type": "code",
   "execution_count": null,
   "id": "24f3155a",
   "metadata": {},
   "outputs": [],
   "source": []
  },
  {
   "cell_type": "markdown",
   "id": "b56132a1",
   "metadata": {},
   "source": [
    "### 绘制散点图\n",
    "判断相关性，是否为一元线性回归\n"
   ]
  },
  {
   "cell_type": "code",
   "execution_count": 8,
   "id": "559adb61",
   "metadata": {},
   "outputs": [],
   "source": [
    "import pandas as pd\n",
    "import matplotlib.pyplot as plt\n",
    "import seaborn as sns"
   ]
  },
  {
   "cell_type": "code",
   "execution_count": 9,
   "id": "c96ddc3c",
   "metadata": {},
   "outputs": [
    {
     "data": {
      "text/html": [
       "<div>\n",
       "<style scoped>\n",
       "    .dataframe tbody tr th:only-of-type {\n",
       "        vertical-align: middle;\n",
       "    }\n",
       "\n",
       "    .dataframe tbody tr th {\n",
       "        vertical-align: top;\n",
       "    }\n",
       "\n",
       "    .dataframe thead th {\n",
       "        text-align: right;\n",
       "    }\n",
       "</style>\n",
       "<table border=\"1\" class=\"dataframe\">\n",
       "  <thead>\n",
       "    <tr style=\"text-align: right;\">\n",
       "      <th></th>\n",
       "      <th>YearsExperience</th>\n",
       "      <th>Salary</th>\n",
       "    </tr>\n",
       "  </thead>\n",
       "  <tbody>\n",
       "    <tr>\n",
       "      <th>0</th>\n",
       "      <td>1.1</td>\n",
       "      <td>39343.0</td>\n",
       "    </tr>\n",
       "    <tr>\n",
       "      <th>1</th>\n",
       "      <td>1.3</td>\n",
       "      <td>46205.0</td>\n",
       "    </tr>\n",
       "    <tr>\n",
       "      <th>2</th>\n",
       "      <td>1.5</td>\n",
       "      <td>37731.0</td>\n",
       "    </tr>\n",
       "    <tr>\n",
       "      <th>3</th>\n",
       "      <td>2.0</td>\n",
       "      <td>43525.0</td>\n",
       "    </tr>\n",
       "    <tr>\n",
       "      <th>4</th>\n",
       "      <td>2.2</td>\n",
       "      <td>39891.0</td>\n",
       "    </tr>\n",
       "  </tbody>\n",
       "</table>\n",
       "</div>"
      ],
      "text/plain": [
       "   YearsExperience   Salary\n",
       "0              1.1  39343.0\n",
       "1              1.3  46205.0\n",
       "2              1.5  37731.0\n",
       "3              2.0  43525.0\n",
       "4              2.2  39891.0"
      ]
     },
     "execution_count": 9,
     "metadata": {},
     "output_type": "execute_result"
    }
   ],
   "source": [
    "income = pd.read_csv(r'./data_for_pandas/Salary_Data.csv')\n",
    "income.head()"
   ]
  },
  {
   "cell_type": "code",
   "execution_count": 11,
   "id": "7c789880",
   "metadata": {},
   "outputs": [
    {
     "data": {
      "image/png": "[encoded data removed]",
      "text/plain": [
       "<Figure size 360x360 with 1 Axes>"
      ]
     },
     "metadata": {
      "needs_background": "light"
     },
     "output_type": "display_data"
    }
   ],
   "source": [
    "sns.lmplot(x='YearsExperience', y='Salary', data = income, ci=None)#ci：回归估计的置信区间的大小。这将使用回归线周围的半透明带绘制。 使用自助法（bootstrap）估计置信区间; 对于大型数据集，建议通过将此参数设置为None来避免该计算。\n",
    "plt.show()"
   ]
  },
  {
   "cell_type": "markdown",
   "id": "cfbdfbc3",
   "metadata": {},
   "source": [
    "## 一元线性回归\n",
    "相关分析：  \n",
    "    绘制散点图  \n",
    "    计算相关系数：covr  \n",
    "回归分析：  \n",
    "    回归模型：y=a+bx+e  \n",
    "    模型拟合的越好，则误差项e应该越小  \n",
    "    e的平方  \n",
    "    (y - (a+bx))\\*\\*2 = e\\*\\*2  \n",
    "    则求关于参数a和b的两个偏导数，最终令两个偏导数为0    \n",
    "    推导参考书籍：p165(刘顺祥）"
   ]
  },
  {
   "cell_type": "code",
   "execution_count": null,
   "id": "5003feb0",
   "metadata": {},
   "outputs": [],
   "source": [
    "#导入第三方模块  \n",
    "import statsmodels.api as sm\n",
    "sm.ols(formula, data, subset=None, drop_cols=None)\n",
    "\n",
    "formula：以字符串的形式指定线性回归模型的公式，如'y-x'就表示简单线性回归模型\n",
    "data：指定建模的数据集\n",
    "subset：通过bool类型的数组对象，获取data的子集用于建模\n",
    "drop_cols：指定需要从data中删除的变量"
   ]
  },
  {
   "cell_type": "markdown",
   "id": "4cdbaa89",
   "metadata": {},
   "source": [
    "### 模型求解"
   ]
  },
  {
   "cell_type": "markdown",
   "id": "ada310ce",
   "metadata": {},
   "source": [
    "![jupyter](./class_nine_2.png)"
   ]
  },
  {
   "cell_type": "code",
   "execution_count": 15,
   "id": "64758838",
   "metadata": {},
   "outputs": [
    {
     "data": {
      "text/html": [
       "<div>\n",
       "<style scoped>\n",
       "    .dataframe tbody tr th:only-of-type {\n",
       "        vertical-align: middle;\n",
       "    }\n",
       "\n",
       "    .dataframe tbody tr th {\n",
       "        vertical-align: top;\n",
       "    }\n",
       "\n",
       "    .dataframe thead th {\n",
       "        text-align: right;\n",
       "    }\n",
       "</style>\n",
       "<table border=\"1\" class=\"dataframe\">\n",
       "  <thead>\n",
       "    <tr style=\"text-align: right;\">\n",
       "      <th></th>\n",
       "      <th>YearsExperience</th>\n",
       "      <th>Salary</th>\n",
       "    </tr>\n",
       "  </thead>\n",
       "  <tbody>\n",
       "    <tr>\n",
       "      <th>0</th>\n",
       "      <td>1.1</td>\n",
       "      <td>39343.0</td>\n",
       "    </tr>\n",
       "    <tr>\n",
       "      <th>1</th>\n",
       "      <td>1.3</td>\n",
       "      <td>46205.0</td>\n",
       "    </tr>\n",
       "    <tr>\n",
       "      <th>2</th>\n",
       "      <td>1.5</td>\n",
       "      <td>37731.0</td>\n",
       "    </tr>\n",
       "    <tr>\n",
       "      <th>3</th>\n",
       "      <td>2.0</td>\n",
       "      <td>43525.0</td>\n",
       "    </tr>\n",
       "    <tr>\n",
       "      <th>4</th>\n",
       "      <td>2.2</td>\n",
       "      <td>39891.0</td>\n",
       "    </tr>\n",
       "  </tbody>\n",
       "</table>\n",
       "</div>"
      ],
      "text/plain": [
       "   YearsExperience   Salary\n",
       "0              1.1  39343.0\n",
       "1              1.3  46205.0\n",
       "2              1.5  37731.0\n",
       "3              2.0  43525.0\n",
       "4              2.2  39891.0"
      ]
     },
     "execution_count": 15,
     "metadata": {},
     "output_type": "execute_result"
    }
   ],
   "source": [
    "import pandas as pd\n",
    "income = pd.read_csv(r'./data_for_pandas/Salary_Data.csv')\n",
    "income.head()"
   ]
  },
  {
   "cell_type": "code",
   "execution_count": 14,
   "id": "d53794e3",
   "metadata": {},
   "outputs": [
    {
     "data": {
      "text/plain": [
       "30"
      ]
     },
     "execution_count": 14,
     "metadata": {},
     "output_type": "execute_result"
    }
   ],
   "source": [
    "# 计算样本量\n",
    "n = income.shape[0]\n",
    "n"
   ]
  },
  {
   "cell_type": "code",
   "execution_count": 16,
   "id": "3ed1d58d",
   "metadata": {},
   "outputs": [],
   "source": [
    "#计算自变量、因变量、自变量平方、自变量和因变量乘积的和\n",
    "sum_x = income.YearsExperience.sum()\n",
    "sum_y = income.Salary.sum()\n",
    "sum_x2 = income.YearsExperience.pow(2).sum()\n",
    "xy = income.YearsExperience * income.Salary\n",
    "sum_xy = xy.sum()"
   ]
  },
  {
   "cell_type": "code",
   "execution_count": 18,
   "id": "e0cc60e6",
   "metadata": {},
   "outputs": [
    {
     "name": "stdout",
     "output_type": "stream",
     "text": [
      "25792.200198668666 9449.962321455081\n"
     ]
    }
   ],
   "source": [
    "#根据公式计算回归模型的参数\n",
    "b = (sum_xy - sum_x*sum_y/n) / (sum_x2 - sum_x**2/n)\n",
    "a = income.Salary.mean() - b*income.YearsExperience.mean()\n",
    "\n",
    "print(a, b)"
   ]
  },
  {
   "cell_type": "markdown",
   "id": "4a1be0d8",
   "metadata": {},
   "source": [
    "### 线性回归模型"
   ]
  },
  {
   "cell_type": "code",
   "execution_count": 2,
   "id": "731a648c",
   "metadata": {},
   "outputs": [],
   "source": [
    "import pandas as pd\n",
    "import statsmodels.api as sm"
   ]
  },
  {
   "cell_type": "code",
   "execution_count": 4,
   "id": "9c8a53f8",
   "metadata": {},
   "outputs": [],
   "source": [
    "income = pd.read_csv('./data_for_pandas/Salary_Data.csv')"
   ]
  },
  {
   "cell_type": "code",
   "execution_count": 5,
   "id": "b0cf5cf9",
   "metadata": {},
   "outputs": [
    {
     "data": {
      "text/html": [
       "<div>\n",
       "<style scoped>\n",
       "    .dataframe tbody tr th:only-of-type {\n",
       "        vertical-align: middle;\n",
       "    }\n",
       "\n",
       "    .dataframe tbody tr th {\n",
       "        vertical-align: top;\n",
       "    }\n",
       "\n",
       "    .dataframe thead th {\n",
       "        text-align: right;\n",
       "    }\n",
       "</style>\n",
       "<table border=\"1\" class=\"dataframe\">\n",
       "  <thead>\n",
       "    <tr style=\"text-align: right;\">\n",
       "      <th></th>\n",
       "      <th>YearsExperience</th>\n",
       "      <th>Salary</th>\n",
       "    </tr>\n",
       "  </thead>\n",
       "  <tbody>\n",
       "    <tr>\n",
       "      <th>0</th>\n",
       "      <td>1.1</td>\n",
       "      <td>39343.0</td>\n",
       "    </tr>\n",
       "    <tr>\n",
       "      <th>1</th>\n",
       "      <td>1.3</td>\n",
       "      <td>46205.0</td>\n",
       "    </tr>\n",
       "    <tr>\n",
       "      <th>2</th>\n",
       "      <td>1.5</td>\n",
       "      <td>37731.0</td>\n",
       "    </tr>\n",
       "    <tr>\n",
       "      <th>3</th>\n",
       "      <td>2.0</td>\n",
       "      <td>43525.0</td>\n",
       "    </tr>\n",
       "    <tr>\n",
       "      <th>4</th>\n",
       "      <td>2.2</td>\n",
       "      <td>39891.0</td>\n",
       "    </tr>\n",
       "  </tbody>\n",
       "</table>\n",
       "</div>"
      ],
      "text/plain": [
       "   YearsExperience   Salary\n",
       "0              1.1  39343.0\n",
       "1              1.3  46205.0\n",
       "2              1.5  37731.0\n",
       "3              2.0  43525.0\n",
       "4              2.2  39891.0"
      ]
     },
     "execution_count": 5,
     "metadata": {},
     "output_type": "execute_result"
    }
   ],
   "source": [
    "income.head()"
   ]
  },
  {
   "cell_type": "code",
   "execution_count": 6,
   "id": "013d47a2",
   "metadata": {},
   "outputs": [],
   "source": [
    "#利用收入数据集，构建回归模型\n",
    "fit = sm.formula.ols('Salary ~ YearsExperience', data=income).fit()"
   ]
  },
  {
   "cell_type": "code",
   "execution_count": 7,
   "id": "65cd0124",
   "metadata": {},
   "outputs": [
    {
     "data": {
      "text/plain": [
       "Intercept          25792.200199\n",
       "YearsExperience     9449.962321\n",
       "dtype: float64"
      ]
     },
     "execution_count": 7,
     "metadata": {},
     "output_type": "execute_result"
    }
   ],
   "source": [
    "#返回模型的参数值\n",
    "fit.params"
   ]
  },
  {
   "cell_type": "code",
   "execution_count": null,
   "id": "438fc275",
   "metadata": {},
   "outputs": [],
   "source": [
    "#模型结果\n",
    "Salary = 25792.20 + 9449.96YearsExperience"
   ]
  },
  {
   "cell_type": "markdown",
   "id": "b686768d",
   "metadata": {},
   "source": [
    "## 多元线性回归"
   ]
  },
  {
   "cell_type": "markdown",
   "id": "63ad019b",
   "metadata": {},
   "source": [
    "多个因变量影响自变量  \n",
    "参考书籍：p165(刘顺祥）"
   ]
  },
  {
   "cell_type": "markdown",
   "id": "2c7a3231",
   "metadata": {},
   "source": [
    "![jupyter](./class_nine_3.png)"
   ]
  },
  {
   "cell_type": "markdown",
   "id": "2ab197eb",
   "metadata": {},
   "source": [
    "![jupyter](./class_nine_4.png)"
   ]
  },
  {
   "cell_type": "markdown",
   "id": "d55816e1",
   "metadata": {},
   "source": [
    "![jupyter](./class_nine_5.png)"
   ]
  },
  {
   "cell_type": "markdown",
   "id": "e6083948",
   "metadata": {},
   "source": [
    "![jupyter](./class_nine_6.png)"
   ]
  },
  {
   "cell_type": "code",
   "execution_count": 47,
   "id": "4e012683",
   "metadata": {},
   "outputs": [
    {
     "data": {
      "text/html": [
       "<div>\n",
       "<style scoped>\n",
       "    .dataframe tbody tr th:only-of-type {\n",
       "        vertical-align: middle;\n",
       "    }\n",
       "\n",
       "    .dataframe tbody tr th {\n",
       "        vertical-align: top;\n",
       "    }\n",
       "\n",
       "    .dataframe thead th {\n",
       "        text-align: right;\n",
       "    }\n",
       "</style>\n",
       "<table border=\"1\" class=\"dataframe\">\n",
       "  <thead>\n",
       "    <tr style=\"text-align: right;\">\n",
       "      <th></th>\n",
       "      <th>RD_Spend</th>\n",
       "      <th>Administration</th>\n",
       "      <th>Marketing_Spend</th>\n",
       "      <th>State</th>\n",
       "      <th>Profit</th>\n",
       "    </tr>\n",
       "  </thead>\n",
       "  <tbody>\n",
       "    <tr>\n",
       "      <th>8</th>\n",
       "      <td>120542.52</td>\n",
       "      <td>148718.95</td>\n",
       "      <td>311613.29</td>\n",
       "      <td>New York</td>\n",
       "      <td>152211.77</td>\n",
       "    </tr>\n",
       "    <tr>\n",
       "      <th>48</th>\n",
       "      <td>542.05</td>\n",
       "      <td>51743.15</td>\n",
       "      <td>0.00</td>\n",
       "      <td>New York</td>\n",
       "      <td>35673.41</td>\n",
       "    </tr>\n",
       "    <tr>\n",
       "      <th>14</th>\n",
       "      <td>119943.24</td>\n",
       "      <td>156547.42</td>\n",
       "      <td>256512.92</td>\n",
       "      <td>Florida</td>\n",
       "      <td>132602.65</td>\n",
       "    </tr>\n",
       "    <tr>\n",
       "      <th>42</th>\n",
       "      <td>23640.93</td>\n",
       "      <td>96189.63</td>\n",
       "      <td>148001.11</td>\n",
       "      <td>California</td>\n",
       "      <td>71498.49</td>\n",
       "    </tr>\n",
       "    <tr>\n",
       "      <th>29</th>\n",
       "      <td>65605.48</td>\n",
       "      <td>153032.06</td>\n",
       "      <td>107138.38</td>\n",
       "      <td>New York</td>\n",
       "      <td>101004.64</td>\n",
       "    </tr>\n",
       "  </tbody>\n",
       "</table>\n",
       "</div>"
      ],
      "text/plain": [
       "     RD_Spend  Administration  Marketing_Spend       State     Profit\n",
       "8   120542.52       148718.95        311613.29    New York  152211.77\n",
       "48     542.05        51743.15             0.00    New York   35673.41\n",
       "14  119943.24       156547.42        256512.92     Florida  132602.65\n",
       "42   23640.93        96189.63        148001.11  California   71498.49\n",
       "29   65605.48       153032.06        107138.38    New York  101004.64"
      ]
     },
     "execution_count": 47,
     "metadata": {},
     "output_type": "execute_result"
    }
   ],
   "source": [
    "#数据拆分\n",
    "#导入模块\n",
    "from sklearn import model_selection\n",
    "\n",
    "profit = pd.read_excel(r'./data_for_pandas/Predict to Profit.xlsx')\n",
    "\n",
    "#将数据拆分成训练集和测试集\n",
    "train, test = model_selection.train_test_split(profit, test_size=0.2, random_state=1234)\n",
    "train.head()\n",
    "test.head()"
   ]
  },
  {
   "cell_type": "code",
   "execution_count": 48,
   "id": "2174030b",
   "metadata": {},
   "outputs": [
    {
     "data": {
      "text/plain": [
       "Intercept               58581.516503\n",
       "C(State)[T.Florida]       927.394424\n",
       "C(State)[T.New York]     -513.468310\n",
       "RD_Spend                    0.803487\n",
       "Administration             -0.057792\n",
       "Marketing_Spend             0.013779\n",
       "dtype: float64"
      ]
     },
     "execution_count": 48,
     "metadata": {},
     "output_type": "execute_result"
    }
   ],
   "source": [
    "import statsmodels.api as sm\n",
    "#根据train数据集建模\n",
    "model = sm.formula.ols('Profit ~ RD_Spend+Administration+Marketing_Spend+C(State)', data=train).fit()#C(State)表示分类变量\n",
    "model.params"
   ]
  },
  {
   "cell_type": "markdown",
   "id": "785302f2",
   "metadata": {},
   "source": [
    "model.predict(exog=None, trainsform=True)  \n",
    "exog：指定用于预测的其他自变量的值  \n",
    "transform：bool类型参数，测试时是否将原始数据按照模型表达式进行转换，默认为True"
   ]
  },
  {
   "cell_type": "code",
   "execution_count": 50,
   "id": "40972580",
   "metadata": {},
   "outputs": [
    {
     "data": {
      "text/html": [
       "<div>\n",
       "<style scoped>\n",
       "    .dataframe tbody tr th:only-of-type {\n",
       "        vertical-align: middle;\n",
       "    }\n",
       "\n",
       "    .dataframe tbody tr th {\n",
       "        vertical-align: top;\n",
       "    }\n",
       "\n",
       "    .dataframe thead th {\n",
       "        text-align: right;\n",
       "    }\n",
       "</style>\n",
       "<table border=\"1\" class=\"dataframe\">\n",
       "  <thead>\n",
       "    <tr style=\"text-align: right;\">\n",
       "      <th></th>\n",
       "      <th>prediction</th>\n",
       "      <th>Real</th>\n",
       "      <th>Difference</th>\n",
       "      <th>Precent</th>\n",
       "    </tr>\n",
       "  </thead>\n",
       "  <tbody>\n",
       "    <tr>\n",
       "      <th>8</th>\n",
       "      <td>150621.345801</td>\n",
       "      <td>152211.77</td>\n",
       "      <td>-1590.424199</td>\n",
       "      <td>-1.04%</td>\n",
       "    </tr>\n",
       "    <tr>\n",
       "      <th>48</th>\n",
       "      <td>55513.218079</td>\n",
       "      <td>35673.41</td>\n",
       "      <td>19839.808079</td>\n",
       "      <td>55.62%</td>\n",
       "    </tr>\n",
       "    <tr>\n",
       "      <th>14</th>\n",
       "      <td>150369.022458</td>\n",
       "      <td>132602.65</td>\n",
       "      <td>17766.372458</td>\n",
       "      <td>13.40%</td>\n",
       "    </tr>\n",
       "    <tr>\n",
       "      <th>42</th>\n",
       "      <td>74057.015562</td>\n",
       "      <td>71498.49</td>\n",
       "      <td>2558.525562</td>\n",
       "      <td>3.58%</td>\n",
       "    </tr>\n",
       "    <tr>\n",
       "      <th>29</th>\n",
       "      <td>103413.378282</td>\n",
       "      <td>101004.64</td>\n",
       "      <td>2408.738282</td>\n",
       "      <td>2.38%</td>\n",
       "    </tr>\n",
       "    <tr>\n",
       "      <th>44</th>\n",
       "      <td>67844.850378</td>\n",
       "      <td>65200.33</td>\n",
       "      <td>2644.520378</td>\n",
       "      <td>4.06%</td>\n",
       "    </tr>\n",
       "    <tr>\n",
       "      <th>4</th>\n",
       "      <td>173454.059691</td>\n",
       "      <td>166187.94</td>\n",
       "      <td>7266.119691</td>\n",
       "      <td>4.37%</td>\n",
       "    </tr>\n",
       "    <tr>\n",
       "      <th>31</th>\n",
       "      <td>99580.888894</td>\n",
       "      <td>97483.56</td>\n",
       "      <td>2097.328894</td>\n",
       "      <td>2.15%</td>\n",
       "    </tr>\n",
       "    <tr>\n",
       "      <th>13</th>\n",
       "      <td>128147.138396</td>\n",
       "      <td>134307.35</td>\n",
       "      <td>-6160.211604</td>\n",
       "      <td>-4.59%</td>\n",
       "    </tr>\n",
       "    <tr>\n",
       "      <th>18</th>\n",
       "      <td>130693.433835</td>\n",
       "      <td>124266.90</td>\n",
       "      <td>6426.533835</td>\n",
       "      <td>5.17%</td>\n",
       "    </tr>\n",
       "  </tbody>\n",
       "</table>\n",
       "</div>"
      ],
      "text/plain": [
       "       prediction       Real    Difference Precent\n",
       "8   150621.345801  152211.77  -1590.424199  -1.04%\n",
       "48   55513.218079   35673.41  19839.808079  55.62%\n",
       "14  150369.022458  132602.65  17766.372458  13.40%\n",
       "42   74057.015562   71498.49   2558.525562   3.58%\n",
       "29  103413.378282  101004.64   2408.738282   2.38%\n",
       "44   67844.850378   65200.33   2644.520378   4.06%\n",
       "4   173454.059691  166187.94   7266.119691   4.37%\n",
       "31   99580.888894   97483.56   2097.328894   2.15%\n",
       "13  128147.138396  134307.35  -6160.211604  -4.59%\n",
       "18  130693.433835  124266.90   6426.533835   5.17%"
      ]
     },
     "execution_count": 50,
     "metadata": {},
     "output_type": "execute_result"
    }
   ],
   "source": [
    "#删除test数据集中的Profit变量数据，用剩下的变量进行预测\n",
    "test_X = test.drop(labels = 'Profit', axis=1)\n",
    "pred = model.predict(exog=test_X)\n",
    "difference = pred - test.Profit\n",
    "\n",
    "pd.DataFrame({'prediction':pred, 'Real':test.Profit, 'Difference':difference, 'Precent':(difference/test.Profit).map(lambda x:format(x, '.2%')) })\n"
   ]
  },
  {
   "cell_type": "code",
   "execution_count": 26,
   "id": "d7c6b1c9",
   "metadata": {},
   "outputs": [
    {
     "data": {
      "text/html": [
       "<div>\n",
       "<style scoped>\n",
       "    .dataframe tbody tr th:only-of-type {\n",
       "        vertical-align: middle;\n",
       "    }\n",
       "\n",
       "    .dataframe tbody tr th {\n",
       "        vertical-align: top;\n",
       "    }\n",
       "\n",
       "    .dataframe thead th {\n",
       "        text-align: right;\n",
       "    }\n",
       "</style>\n",
       "<table border=\"1\" class=\"dataframe\">\n",
       "  <thead>\n",
       "    <tr style=\"text-align: right;\">\n",
       "      <th></th>\n",
       "      <th>California</th>\n",
       "      <th>Florida</th>\n",
       "      <th>New York</th>\n",
       "    </tr>\n",
       "  </thead>\n",
       "  <tbody>\n",
       "    <tr>\n",
       "      <th>0</th>\n",
       "      <td>0</td>\n",
       "      <td>0</td>\n",
       "      <td>1</td>\n",
       "    </tr>\n",
       "    <tr>\n",
       "      <th>1</th>\n",
       "      <td>1</td>\n",
       "      <td>0</td>\n",
       "      <td>0</td>\n",
       "    </tr>\n",
       "    <tr>\n",
       "      <th>2</th>\n",
       "      <td>0</td>\n",
       "      <td>1</td>\n",
       "      <td>0</td>\n",
       "    </tr>\n",
       "    <tr>\n",
       "      <th>3</th>\n",
       "      <td>0</td>\n",
       "      <td>0</td>\n",
       "      <td>1</td>\n",
       "    </tr>\n",
       "    <tr>\n",
       "      <th>4</th>\n",
       "      <td>0</td>\n",
       "      <td>1</td>\n",
       "      <td>0</td>\n",
       "    </tr>\n",
       "  </tbody>\n",
       "</table>\n",
       "</div>"
      ],
      "text/plain": [
       "   California  Florida  New York\n",
       "0           0        0         1\n",
       "1           1        0         0\n",
       "2           0        1         0\n",
       "3           0        0         1\n",
       "4           0        1         0"
      ]
     },
     "execution_count": 26,
     "metadata": {},
     "output_type": "execute_result"
    }
   ],
   "source": [
    "#哑变量处理\n",
    "#生成由State变量衍生的哑变量\n",
    "dummies = pd.get_dummies(profit.State)\n",
    "dummies.head()"
   ]
  },
  {
   "cell_type": "code",
   "execution_count": 29,
   "id": "fd38f6dc",
   "metadata": {},
   "outputs": [
    {
     "data": {
      "text/html": [
       "<div>\n",
       "<style scoped>\n",
       "    .dataframe tbody tr th:only-of-type {\n",
       "        vertical-align: middle;\n",
       "    }\n",
       "\n",
       "    .dataframe tbody tr th {\n",
       "        vertical-align: top;\n",
       "    }\n",
       "\n",
       "    .dataframe thead th {\n",
       "        text-align: right;\n",
       "    }\n",
       "</style>\n",
       "<table border=\"1\" class=\"dataframe\">\n",
       "  <thead>\n",
       "    <tr style=\"text-align: right;\">\n",
       "      <th></th>\n",
       "      <th>RD_Spend</th>\n",
       "      <th>Administration</th>\n",
       "      <th>Marketing_Spend</th>\n",
       "      <th>State</th>\n",
       "      <th>Profit</th>\n",
       "      <th>California</th>\n",
       "      <th>Florida</th>\n",
       "      <th>New York</th>\n",
       "    </tr>\n",
       "  </thead>\n",
       "  <tbody>\n",
       "    <tr>\n",
       "      <th>0</th>\n",
       "      <td>165349.20</td>\n",
       "      <td>136897.80</td>\n",
       "      <td>471784.10</td>\n",
       "      <td>New York</td>\n",
       "      <td>192261.83</td>\n",
       "      <td>0</td>\n",
       "      <td>0</td>\n",
       "      <td>1</td>\n",
       "    </tr>\n",
       "    <tr>\n",
       "      <th>1</th>\n",
       "      <td>162597.70</td>\n",
       "      <td>151377.59</td>\n",
       "      <td>443898.53</td>\n",
       "      <td>California</td>\n",
       "      <td>191792.06</td>\n",
       "      <td>1</td>\n",
       "      <td>0</td>\n",
       "      <td>0</td>\n",
       "    </tr>\n",
       "    <tr>\n",
       "      <th>2</th>\n",
       "      <td>153441.51</td>\n",
       "      <td>101145.55</td>\n",
       "      <td>407934.54</td>\n",
       "      <td>Florida</td>\n",
       "      <td>191050.39</td>\n",
       "      <td>0</td>\n",
       "      <td>1</td>\n",
       "      <td>0</td>\n",
       "    </tr>\n",
       "    <tr>\n",
       "      <th>3</th>\n",
       "      <td>144372.41</td>\n",
       "      <td>118671.85</td>\n",
       "      <td>383199.62</td>\n",
       "      <td>New York</td>\n",
       "      <td>182901.99</td>\n",
       "      <td>0</td>\n",
       "      <td>0</td>\n",
       "      <td>1</td>\n",
       "    </tr>\n",
       "    <tr>\n",
       "      <th>4</th>\n",
       "      <td>142107.34</td>\n",
       "      <td>91391.77</td>\n",
       "      <td>366168.42</td>\n",
       "      <td>Florida</td>\n",
       "      <td>166187.94</td>\n",
       "      <td>0</td>\n",
       "      <td>1</td>\n",
       "      <td>0</td>\n",
       "    </tr>\n",
       "    <tr>\n",
       "      <th>5</th>\n",
       "      <td>131876.90</td>\n",
       "      <td>99814.71</td>\n",
       "      <td>362861.36</td>\n",
       "      <td>New York</td>\n",
       "      <td>156991.12</td>\n",
       "      <td>0</td>\n",
       "      <td>0</td>\n",
       "      <td>1</td>\n",
       "    </tr>\n",
       "    <tr>\n",
       "      <th>6</th>\n",
       "      <td>134615.46</td>\n",
       "      <td>147198.87</td>\n",
       "      <td>127716.82</td>\n",
       "      <td>California</td>\n",
       "      <td>156122.51</td>\n",
       "      <td>1</td>\n",
       "      <td>0</td>\n",
       "      <td>0</td>\n",
       "    </tr>\n",
       "    <tr>\n",
       "      <th>7</th>\n",
       "      <td>130298.13</td>\n",
       "      <td>145530.06</td>\n",
       "      <td>323876.68</td>\n",
       "      <td>Florida</td>\n",
       "      <td>155752.60</td>\n",
       "      <td>0</td>\n",
       "      <td>1</td>\n",
       "      <td>0</td>\n",
       "    </tr>\n",
       "    <tr>\n",
       "      <th>8</th>\n",
       "      <td>120542.52</td>\n",
       "      <td>148718.95</td>\n",
       "      <td>311613.29</td>\n",
       "      <td>New York</td>\n",
       "      <td>152211.77</td>\n",
       "      <td>0</td>\n",
       "      <td>0</td>\n",
       "      <td>1</td>\n",
       "    </tr>\n",
       "    <tr>\n",
       "      <th>9</th>\n",
       "      <td>123334.88</td>\n",
       "      <td>108679.17</td>\n",
       "      <td>304981.62</td>\n",
       "      <td>California</td>\n",
       "      <td>149759.96</td>\n",
       "      <td>1</td>\n",
       "      <td>0</td>\n",
       "      <td>0</td>\n",
       "    </tr>\n",
       "  </tbody>\n",
       "</table>\n",
       "</div>"
      ],
      "text/plain": [
       "    RD_Spend  Administration  Marketing_Spend       State     Profit  \\\n",
       "0  165349.20       136897.80        471784.10    New York  192261.83   \n",
       "1  162597.70       151377.59        443898.53  California  191792.06   \n",
       "2  153441.51       101145.55        407934.54     Florida  191050.39   \n",
       "3  144372.41       118671.85        383199.62    New York  182901.99   \n",
       "4  142107.34        91391.77        366168.42     Florida  166187.94   \n",
       "5  131876.90        99814.71        362861.36    New York  156991.12   \n",
       "6  134615.46       147198.87        127716.82  California  156122.51   \n",
       "7  130298.13       145530.06        323876.68     Florida  155752.60   \n",
       "8  120542.52       148718.95        311613.29    New York  152211.77   \n",
       "9  123334.88       108679.17        304981.62  California  149759.96   \n",
       "\n",
       "   California  Florida  New York  \n",
       "0           0        0         1  \n",
       "1           1        0         0  \n",
       "2           0        1         0  \n",
       "3           0        0         1  \n",
       "4           0        1         0  \n",
       "5           0        0         1  \n",
       "6           1        0         0  \n",
       "7           0        1         0  \n",
       "8           0        0         1  \n",
       "9           1        0         0  "
      ]
     },
     "execution_count": 29,
     "metadata": {},
     "output_type": "execute_result"
    }
   ],
   "source": [
    "#将哑变量与原始数据集合并\n",
    "profit_new = pd.concat([profit, dummies], axis=1)\n",
    "profit_new.head(10)"
   ]
  },
  {
   "cell_type": "code",
   "execution_count": 30,
   "id": "b0fc025a",
   "metadata": {},
   "outputs": [
    {
     "data": {
      "text/html": [
       "<div>\n",
       "<style scoped>\n",
       "    .dataframe tbody tr th:only-of-type {\n",
       "        vertical-align: middle;\n",
       "    }\n",
       "\n",
       "    .dataframe tbody tr th {\n",
       "        vertical-align: top;\n",
       "    }\n",
       "\n",
       "    .dataframe thead th {\n",
       "        text-align: right;\n",
       "    }\n",
       "</style>\n",
       "<table border=\"1\" class=\"dataframe\">\n",
       "  <thead>\n",
       "    <tr style=\"text-align: right;\">\n",
       "      <th></th>\n",
       "      <th>RD_Spend</th>\n",
       "      <th>Administration</th>\n",
       "      <th>Marketing_Spend</th>\n",
       "      <th>Profit</th>\n",
       "      <th>California</th>\n",
       "      <th>Florida</th>\n",
       "    </tr>\n",
       "  </thead>\n",
       "  <tbody>\n",
       "    <tr>\n",
       "      <th>0</th>\n",
       "      <td>165349.20</td>\n",
       "      <td>136897.80</td>\n",
       "      <td>471784.10</td>\n",
       "      <td>192261.83</td>\n",
       "      <td>0</td>\n",
       "      <td>0</td>\n",
       "    </tr>\n",
       "    <tr>\n",
       "      <th>1</th>\n",
       "      <td>162597.70</td>\n",
       "      <td>151377.59</td>\n",
       "      <td>443898.53</td>\n",
       "      <td>191792.06</td>\n",
       "      <td>1</td>\n",
       "      <td>0</td>\n",
       "    </tr>\n",
       "    <tr>\n",
       "      <th>2</th>\n",
       "      <td>153441.51</td>\n",
       "      <td>101145.55</td>\n",
       "      <td>407934.54</td>\n",
       "      <td>191050.39</td>\n",
       "      <td>0</td>\n",
       "      <td>1</td>\n",
       "    </tr>\n",
       "    <tr>\n",
       "      <th>3</th>\n",
       "      <td>144372.41</td>\n",
       "      <td>118671.85</td>\n",
       "      <td>383199.62</td>\n",
       "      <td>182901.99</td>\n",
       "      <td>0</td>\n",
       "      <td>0</td>\n",
       "    </tr>\n",
       "    <tr>\n",
       "      <th>4</th>\n",
       "      <td>142107.34</td>\n",
       "      <td>91391.77</td>\n",
       "      <td>366168.42</td>\n",
       "      <td>166187.94</td>\n",
       "      <td>0</td>\n",
       "      <td>1</td>\n",
       "    </tr>\n",
       "  </tbody>\n",
       "</table>\n",
       "</div>"
      ],
      "text/plain": [
       "    RD_Spend  Administration  Marketing_Spend     Profit  California  Florida\n",
       "0  165349.20       136897.80        471784.10  192261.83           0        0\n",
       "1  162597.70       151377.59        443898.53  191792.06           1        0\n",
       "2  153441.51       101145.55        407934.54  191050.39           0        1\n",
       "3  144372.41       118671.85        383199.62  182901.99           0        0\n",
       "4  142107.34        91391.77        366168.42  166187.94           0        1"
      ]
     },
     "execution_count": 30,
     "metadata": {},
     "output_type": "execute_result"
    }
   ],
   "source": [
    "#删除State变量\n",
    "#以New York 为参照组，另外两组为变量数据\n",
    "profit_new.drop(labels=['State', 'New York'], axis=1, inplace=True)\n",
    "profit_new.head()"
   ]
  },
  {
   "cell_type": "code",
   "execution_count": 32,
   "id": "983de3a8",
   "metadata": {},
   "outputs": [
    {
     "data": {
      "text/plain": [
       "Intercept          58068.048193\n",
       "RD_Spend               0.803487\n",
       "Administration        -0.057792\n",
       "Marketing_Spend        0.013779\n",
       "Florida             1440.862734\n",
       "California           513.468310\n",
       "dtype: float64"
      ]
     },
     "execution_count": 32,
     "metadata": {},
     "output_type": "execute_result"
    }
   ],
   "source": [
    "#拆分数据集，建立模型\n",
    "train, test = model_selection.train_test_split(profit_new, test_size=0.2, random_state=1234)\n",
    "model2 = sm.formula.ols('Profit ~ RD_Spend+Administration+Marketing_Spend+Florida+California', data=train).fit()\n",
    "model2.params"
   ]
  },
  {
   "cell_type": "code",
   "execution_count": 42,
   "id": "4e869576",
   "metadata": {},
   "outputs": [
    {
     "data": {
      "text/plain": [
       "0.06258544388471521"
      ]
     },
     "execution_count": 42,
     "metadata": {},
     "output_type": "execute_result"
    }
   ],
   "source": [
    "#使用test数据集进行预测\n",
    "test_X = test.drop(labels='Profit', axis=1)\n",
    "pred = model2.predict(exog=test_X)\n",
    "difference = pred - test.Profit\n",
    "pd.DataFrame({'Predict':pred, 'Real':test.Profit, 'Difference':difference, 'Precent':(difference/pred).map(lambda x: format(x, '.2%'))})\n",
    "sum(difference/pred)/len(pred)"
   ]
  },
  {
   "cell_type": "markdown",
   "id": "aa178e32",
   "metadata": {},
   "source": [
    "## 假设检验\n",
    "提出问题的原假设和备择假设  \n",
    "在原假设的条件下，构造统计量  \n",
    "根据样本信息，计算统计量的值  \n",
    "对统计量的值和理论值，当统计量超过理论值时，拒绝原假设，否则接受原假设"
   ]
  },
  {
   "cell_type": "markdown",
   "id": "731b73a2",
   "metadata": {},
   "source": [
    "### 模型的F检验\n",
    "F检验模型是否可用，即所有的多元回归系数是否为0"
   ]
  },
  {
   "cell_type": "markdown",
   "id": "c3b66791",
   "metadata": {},
   "source": [
    "![jupyter](./class_nine_7.png)"
   ]
  },
  {
   "cell_type": "markdown",
   "id": "caeede14",
   "metadata": {},
   "source": [
    "ESS：误差平方和，衡量的是因变量的实际值与预测值之间的离差平方和，随着模型的变化而变化  \n",
    "RSS：回归离差平方和，衡量因变量的预测值与实际值均值之间的离差平方和，同样会随着模型的变化而变化  \n",
    "TSS：总的离差平方和，衡量的是因变量的值与其均值之间的离差平方和，而其值并不会随模型的变化而变动，即它是一个固定值  \n",
    "TSS = ESS + RSS  \n",
    "由于TSS的值不会随着模型的变化而变动，因此ESS与RSS之间存在严格的负向关系，即ESS的降低会导致RSS的增加。线性回归模型的参数求解是根据误差平方和最小的理论，则模型得到的ESS最小，那么对应的RSS值就会最大。  \n",
    "p和n-p-1分别为RSS和ESS的自由度  "
   ]
  },
  {
   "cell_type": "code",
   "execution_count": 57,
   "id": "49dfefa8",
   "metadata": {},
   "outputs": [
    {
     "name": "stdout",
     "output_type": "stream",
     "text": [
      "52067443966.5863 1967765724.576365 54035209687.7603 54035209691.16267\n"
     ]
    }
   ],
   "source": [
    "#统计量的计算\n",
    "\n",
    "import numpy as np\n",
    "\n",
    "#计算建模数据中因变量的均值\n",
    "ybar = train.Profit.mean()\n",
    "ybar\n",
    "\n",
    "#统计变量个数和观察个数\n",
    "p = model2.df_model\n",
    "p\n",
    "n = train.shape[0]\n",
    "n\n",
    "\n",
    "#计算回归离差平方和\n",
    "model2.fittedvalues\n",
    "RSS = np.sum((model2.fittedvalues - ybar)**2)\n",
    "\n",
    "#计算误差平方和\n",
    "ESS = np.sum(model2.resid**2)\n",
    "\n",
    "#计算总的离差平方和\n",
    "TSS = np.sum((train.Profit - ybar)**2)\n",
    "\n",
    "print(RSS, ESS, TSS, RSS+ESS)"
   ]
  },
  {
   "cell_type": "code",
   "execution_count": 60,
   "id": "42a05eb0",
   "metadata": {},
   "outputs": [
    {
     "data": {
      "text/plain": [
       "174.63721716844725"
      ]
     },
     "execution_count": 60,
     "metadata": {},
     "output_type": "execute_result"
    }
   ],
   "source": [
    "#手工计算F统计量的值\n",
    "F = (RSS/p) / (ESS/(n-p-1))\n",
    "F"
   ]
  },
  {
   "cell_type": "code",
   "execution_count": 62,
   "id": "d5dc85d8",
   "metadata": {},
   "outputs": [
    {
     "data": {
      "text/plain": [
       "174.6372171570355"
      ]
     },
     "execution_count": 62,
     "metadata": {},
     "output_type": "execute_result"
    }
   ],
   "source": [
    "#模型自带F统计量\n",
    "model2.fvalue"
   ]
  },
  {
   "cell_type": "code",
   "execution_count": 63,
   "id": "ba13cc7d",
   "metadata": {},
   "outputs": [
    {
     "data": {
      "text/plain": [
       "2.502635007415366"
      ]
     },
     "execution_count": 63,
     "metadata": {},
     "output_type": "execute_result"
    }
   ],
   "source": [
    "#理论F值，置信水平为0.05，自由度为(p, n-p-1)\n",
    "from scipy.stats import f\n",
    "F_theroy = f.ppf(q=0.95, dfn=p, dfd=n-p-1)\n",
    "F_theroy"
   ]
  },
  {
   "cell_type": "markdown",
   "id": "76c1ecfa",
   "metadata": {},
   "source": [
    "F实际值远大于F理论值，那么原假设不成立，则回归模型得偏回归系数不全都为0"
   ]
  },
  {
   "cell_type": "markdown",
   "id": "63e226e6",
   "metadata": {},
   "source": [
    "### t检验\n",
    "验证每一个自变量是否能够成为影响因变量得重要因素"
   ]
  },
  {
   "cell_type": "markdown",
   "id": "923db2e2",
   "metadata": {},
   "source": [
    "![jupyter](./class_nine_8.png)"
   ]
  },
  {
   "cell_type": "code",
   "execution_count": 64,
   "id": "1afe5aea",
   "metadata": {},
   "outputs": [
    {
     "data": {
      "text/html": [
       "<table class=\"simpletable\">\n",
       "<caption>OLS Regression Results</caption>\n",
       "<tr>\n",
       "  <th>Dep. Variable:</th>         <td>Profit</td>      <th>  R-squared:         </th> <td>   0.964</td>\n",
       "</tr>\n",
       "<tr>\n",
       "  <th>Model:</th>                   <td>OLS</td>       <th>  Adj. R-squared:    </th> <td>   0.958</td>\n",
       "</tr>\n",
       "<tr>\n",
       "  <th>Method:</th>             <td>Least Squares</td>  <th>  F-statistic:       </th> <td>   174.6</td>\n",
       "</tr>\n",
       "<tr>\n",
       "  <th>Date:</th>             <td>Mon, 05 Jul 2021</td> <th>  Prob (F-statistic):</th> <td>9.74e-23</td>\n",
       "</tr>\n",
       "<tr>\n",
       "  <th>Time:</th>                 <td>20:55:08</td>     <th>  Log-Likelihood:    </th> <td> -401.20</td>\n",
       "</tr>\n",
       "<tr>\n",
       "  <th>No. Observations:</th>      <td>    39</td>      <th>  AIC:               </th> <td>   814.4</td>\n",
       "</tr>\n",
       "<tr>\n",
       "  <th>Df Residuals:</th>          <td>    33</td>      <th>  BIC:               </th> <td>   824.4</td>\n",
       "</tr>\n",
       "<tr>\n",
       "  <th>Df Model:</th>              <td>     5</td>      <th>                     </th>     <td> </td>   \n",
       "</tr>\n",
       "<tr>\n",
       "  <th>Covariance Type:</th>      <td>nonrobust</td>    <th>                     </th>     <td> </td>   \n",
       "</tr>\n",
       "</table>\n",
       "<table class=\"simpletable\">\n",
       "<tr>\n",
       "         <td></td>            <th>coef</th>     <th>std err</th>      <th>t</th>      <th>P>|t|</th>  <th>[0.025</th>    <th>0.975]</th>  \n",
       "</tr>\n",
       "<tr>\n",
       "  <th>Intercept</th>       <td> 5.807e+04</td> <td> 6846.305</td> <td>    8.482</td> <td> 0.000</td> <td> 4.41e+04</td> <td>  7.2e+04</td>\n",
       "</tr>\n",
       "<tr>\n",
       "  <th>RD_Spend</th>        <td>    0.8035</td> <td>    0.040</td> <td>   19.988</td> <td> 0.000</td> <td>    0.722</td> <td>    0.885</td>\n",
       "</tr>\n",
       "<tr>\n",
       "  <th>Administration</th>  <td>   -0.0578</td> <td>    0.051</td> <td>   -1.133</td> <td> 0.265</td> <td>   -0.162</td> <td>    0.046</td>\n",
       "</tr>\n",
       "<tr>\n",
       "  <th>Marketing_Spend</th> <td>    0.0138</td> <td>    0.015</td> <td>    0.930</td> <td> 0.359</td> <td>   -0.016</td> <td>    0.044</td>\n",
       "</tr>\n",
       "<tr>\n",
       "  <th>Florida</th>         <td> 1440.8627</td> <td> 3059.931</td> <td>    0.471</td> <td> 0.641</td> <td>-4784.615</td> <td> 7666.340</td>\n",
       "</tr>\n",
       "<tr>\n",
       "  <th>California</th>      <td>  513.4683</td> <td> 3043.160</td> <td>    0.169</td> <td> 0.867</td> <td>-5677.887</td> <td> 6704.824</td>\n",
       "</tr>\n",
       "</table>\n",
       "<table class=\"simpletable\">\n",
       "<tr>\n",
       "  <th>Omnibus:</th>       <td> 1.721</td> <th>  Durbin-Watson:     </th> <td>   1.896</td>\n",
       "</tr>\n",
       "<tr>\n",
       "  <th>Prob(Omnibus):</th> <td> 0.423</td> <th>  Jarque-Bera (JB):  </th> <td>   1.148</td>\n",
       "</tr>\n",
       "<tr>\n",
       "  <th>Skew:</th>          <td> 0.096</td> <th>  Prob(JB):          </th> <td>   0.563</td>\n",
       "</tr>\n",
       "<tr>\n",
       "  <th>Kurtosis:</th>      <td> 2.182</td> <th>  Cond. No.          </th> <td>1.60e+06</td>\n",
       "</tr>\n",
       "</table><br/><br/>Notes:<br/>[1] Standard Errors assume that the covariance matrix of the errors is correctly specified.<br/>[2] The condition number is large, 1.6e+06. This might indicate that there are<br/>strong multicollinearity or other numerical problems."
      ],
      "text/plain": [
       "<class 'statsmodels.iolib.summary.Summary'>\n",
       "\"\"\"\n",
       "                            OLS Regression Results                            \n",
       "==============================================================================\n",
       "Dep. Variable:                 Profit   R-squared:                       0.964\n",
       "Model:                            OLS   Adj. R-squared:                  0.958\n",
       "Method:                 Least Squares   F-statistic:                     174.6\n",
       "Date:                Mon, 05 Jul 2021   Prob (F-statistic):           9.74e-23\n",
       "Time:                        20:55:08   Log-Likelihood:                -401.20\n",
       "No. Observations:                  39   AIC:                             814.4\n",
       "Df Residuals:                      33   BIC:                             824.4\n",
       "Df Model:                           5                                         \n",
       "Covariance Type:            nonrobust                                         \n",
       "===================================================================================\n",
       "                      coef    std err          t      P>|t|      [0.025      0.975]\n",
       "-----------------------------------------------------------------------------------\n",
       "Intercept        5.807e+04   6846.305      8.482      0.000    4.41e+04     7.2e+04\n",
       "RD_Spend            0.8035      0.040     19.988      0.000       0.722       0.885\n",
       "Administration     -0.0578      0.051     -1.133      0.265      -0.162       0.046\n",
       "Marketing_Spend     0.0138      0.015      0.930      0.359      -0.016       0.044\n",
       "Florida          1440.8627   3059.931      0.471      0.641   -4784.615    7666.340\n",
       "California        513.4683   3043.160      0.169      0.867   -5677.887    6704.824\n",
       "==============================================================================\n",
       "Omnibus:                        1.721   Durbin-Watson:                   1.896\n",
       "Prob(Omnibus):                  0.423   Jarque-Bera (JB):                1.148\n",
       "Skew:                           0.096   Prob(JB):                        0.563\n",
       "Kurtosis:                       2.182   Cond. No.                     1.60e+06\n",
       "==============================================================================\n",
       "\n",
       "Notes:\n",
       "[1] Standard Errors assume that the covariance matrix of the errors is correctly specified.\n",
       "[2] The condition number is large, 1.6e+06. This might indicate that there are\n",
       "strong multicollinearity or other numerical problems.\n",
       "\"\"\""
      ]
     },
     "execution_count": 64,
     "metadata": {},
     "output_type": "execute_result"
    }
   ],
   "source": [
    "#模型的概览信息\n",
    "model2.summary()"
   ]
  },
  {
   "cell_type": "markdown",
   "id": "11ff6c50",
   "metadata": {},
   "source": [
    "每个偏回归系数有对应的t统计量值，每个统计值对应概率值p，通常p小于0.05时，表示拒绝原假设，即在模型中该自变量是影响因变量的重要因素  "
   ]
  },
  {
   "cell_type": "markdown",
   "id": "f4844d0a",
   "metadata": {},
   "source": [
    "# 回归模型的诊断"
   ]
  },
  {
   "cell_type": "markdown",
   "id": "45577343",
   "metadata": {},
   "source": [
    "## 模型的假设前提"
   ]
  },
  {
   "cell_type": "markdown",
   "id": "684d2f4c",
   "metadata": {},
   "source": [
    "1.误差项服从正态分布  \n",
    "2.误差项的独立性  \n",
    "3.无多重共线性  \n",
    "4.线性相关  \n",
    "5.方差齐性  "
   ]
  },
  {
   "cell_type": "markdown",
   "id": "a8b1efaa",
   "metadata": {},
   "source": [
    "## 正态性检验\n",
    "模型的假设前提是对残差项要求服从正态分布，但实际上是要求因变量服从正态分布"
   ]
  },
  {
   "cell_type": "markdown",
   "id": "986ed495",
   "metadata": {},
   "source": [
    "### 定性图形法"
   ]
  },
  {
   "cell_type": "markdown",
   "id": "67db92ae",
   "metadata": {},
   "source": [
    "#### 直方图"
   ]
  },
  {
   "cell_type": "code",
   "execution_count": 31,
   "id": "a09471b1",
   "metadata": {},
   "outputs": [
    {
     "data": {
      "text/plain": [
       "<scipy.stats._continuous_distns.norm_gen at 0x7f2c2dbbf790>"
      ]
     },
     "execution_count": 31,
     "metadata": {},
     "output_type": "execute_result"
    }
   ],
   "source": [
    "import scipy.stats as stats\n",
    "stats.norm"
   ]
  },
  {
   "cell_type": "code",
   "execution_count": 72,
   "id": "e7303317",
   "metadata": {},
   "outputs": [
    {
     "name": "stderr",
     "output_type": "stream",
     "text": [
      "/mnt/d/WSL/conda/miniconda3/envs/normal/lib/python3.7/site-packages/seaborn/distributions.py:2551: FutureWarning: `distplot` is a deprecated function and will be removed in a future version. Please adapt your code to use either `displot` (a figure-level function with similar flexibility) or `histplot` (an axes-level function for histograms).\n",
      "  warnings.warn(msg, FutureWarning)\n"
     ]
    },
    {
     "data": {
      "image/png": "[encoded data removed]",
      "text/plain": [
       "<Figure size 432x288 with 1 Axes>"
      ]
     },
     "metadata": {
      "needs_background": "light"
     },
     "output_type": "display_data"
    }
   ],
   "source": [
    "import seaborn as sns\n",
    "import matplotlib.pyplot as plt\n",
    "\n",
    "#绘制直方图\n",
    "sns.distplot(a=profit_new.Profit, bins=10,  fit=stats.norm, norm_hist=True,#norm_hist=True表示纵轴显示的高度是密度而不是计数\n",
    "            hist_kws={'color':'steelblue', 'edgecolor':'black'},\n",
    "            kde_kws = {'color':'black', 'linestyle':'--', 'label':'核密度曲线'},\n",
    "            fit_kws = {'color':'red', 'linestyle':':', 'label':'正态分布密度曲线'}\n",
    "            )\n",
    "\n",
    "plt.legend()\n",
    "plt.show()"
   ]
  },
  {
   "cell_type": "markdown",
   "id": "adeaac53",
   "metadata": {},
   "source": [
    "如果该变量的核密度曲线与正态分布理论密度曲线近似或者吻合，就说明该变量近似符合正态分布"
   ]
  },
  {
   "cell_type": "markdown",
   "id": "9b180e9b",
   "metadata": {},
   "source": [
    "#### PP图和QQ图\n",
    "PP图的思想是比对正态分布的累积概率值和实际分布的累积概率值  \n",
    "QQ图则比对正态分布的分位数和实际分布的分位数"
   ]
  },
  {
   "cell_type": "code",
   "execution_count": 96,
   "id": "ae1f4657",
   "metadata": {},
   "outputs": [
    {
     "name": "stderr",
     "output_type": "stream",
     "text": [
      "/mnt/d/WSL/conda/miniconda3/envs/normal/lib/python3.7/site-packages/statsmodels/graphics/gofplots.py:993: UserWarning: marker is redundantly defined by the 'marker' keyword argument and the fmt string \"bo\" (-> marker='o'). The keyword argument will take precedence.\n",
      "  ax.plot(x, y, fmt, **plot_style)\n"
     ]
    },
    {
     "data": {
      "image/png": "[encoded data removed]",
      "text/plain": [
       "<Figure size 432x288 with 1 Axes>"
      ]
     },
     "metadata": {
      "needs_background": "light"
     },
     "output_type": "display_data"
    }
   ],
   "source": [
    "#残差的正态性检验\n",
    "pp_qq_plot = sm.ProbPlot(profit_new.Profit, dist=stats.norm)\n",
    "\n",
    "#绘制PP图\n",
    "#pp_qq_plot.ppplot(line='45')\n",
    "#plt.title('P_P图')\n",
    "#fig = plt.figure()\n",
    "#res = stats.probplot(profit_new.Profit, plot=plt)\n",
    "\n",
    "## 绘制QQ图\n",
    "pp_qq_plot.qqplot(line='q')\n",
    "plt.title('Q_Q图')\n",
    "\n",
    "plt.show()"
   ]
  },
  {
   "cell_type": "markdown",
   "id": "ae692508",
   "metadata": {},
   "source": [
    "判断标准：如果散点都比较均匀的散落在直线上，则说明变量近似服从正态分布"
   ]
  },
  {
   "cell_type": "markdown",
   "id": "5fff0f57",
   "metadata": {},
   "source": [
    "### 定量法\n",
    "shapiro检验和K-S检验  \n",
    "这两种检验方法均属于非参数方法，原假设认为变量服从正态分布。两者的区别是适用的数据量不一样，当数据量低于5000时，则使用shapiro检验法比较合理；否则使用K-S检验法  "
   ]
  },
  {
   "cell_type": "markdown",
   "id": "a5aaba36",
   "metadata": {},
   "source": [
    "#### shapiro"
   ]
  },
  {
   "cell_type": "code",
   "execution_count": 97,
   "id": "ccc56292",
   "metadata": {},
   "outputs": [
    {
     "data": {
      "text/plain": [
       "ShapiroResult(statistic=0.9793398380279541, pvalue=0.537902295589447)"
      ]
     },
     "execution_count": 97,
     "metadata": {},
     "output_type": "execute_result"
    }
   ],
   "source": [
    "import scipy.stats as stats\n",
    "\n",
    "#shapiro检验\n",
    "stats.shapiro(profit_new.Profit)\n"
   ]
  },
  {
   "cell_type": "markdown",
   "id": "c8a69273",
   "metadata": {},
   "source": [
    "p值大于置信水平0.05，则接受变量服从正态分布的原假设"
   ]
  },
  {
   "cell_type": "markdown",
   "id": "ef176dec",
   "metadata": {},
   "source": [
    "#### K-S"
   ]
  },
  {
   "cell_type": "code",
   "execution_count": 98,
   "id": "b6d31bb9",
   "metadata": {},
   "outputs": [
    {
     "name": "stdout",
     "output_type": "stream",
     "text": [
      "KstestResult(statistic=0.006899806144776366, pvalue=0.7251056873564456) KstestResult(statistic=0.06140755518660346, pvalue=3.183767014670666e-33)\n"
     ]
    }
   ],
   "source": [
    "#生成正态分布和均匀分布随机数\n",
    "rnorm = np.random.normal(loc=5, scale=2, size=10000)\n",
    "runif = np.random.uniform(low=1, high=100, size=10000)\n",
    "\n",
    "#正态性检验\n",
    "KS_norm = stats.kstest(rvs=rnorm, args=(rnorm.mean(), rnorm.std()),#args传递被检测变量的均值和标准差\n",
    "                      cdf = 'norm'\n",
    "                      )\n",
    "KS_uniform = stats.kstest(rvs=runif, args=(runif.mean(), runif.std()),\n",
    "                      cdf='norm'\n",
    "                         )\n",
    "\n",
    "print(KS_norm, KS_uniform)"
   ]
  },
  {
   "cell_type": "markdown",
   "id": "e60b5deb",
   "metadata": {},
   "source": [
    "正态分布随机数的检验，p值大于置信水平0.05，则接受原假设；均匀分布随机数的检验，p值远小于0.05，则拒绝原假设"
   ]
  },
  {
   "cell_type": "markdown",
   "id": "126f5176",
   "metadata": {},
   "source": [
    "## 多重共线性检验\n",
    "多重共线性是指模型中的自变量之间存在较高的线性相关关系  \n",
    "多重共线性的检验：  \n",
    "方差膨胀因子VIF：如果VIF大于10，则说明变量间存在多重共线性；如果VIF大于100，则表明变量之间存在严重的多重共线性  \n",
    "VIF = 1/(1-R\\*\\*2)"
   ]
  },
  {
   "cell_type": "code",
   "execution_count": 3,
   "id": "b6871deb",
   "metadata": {},
   "outputs": [],
   "source": [
    "from statsmodels.stats.outliers_influence import variance_inflation_factor\n",
    "import pandas as pd\n",
    "import scipy.stats as stats"
   ]
  },
  {
   "cell_type": "code",
   "execution_count": 4,
   "id": "3c0ea498",
   "metadata": {},
   "outputs": [
    {
     "data": {
      "text/html": [
       "<div>\n",
       "<style scoped>\n",
       "    .dataframe tbody tr th:only-of-type {\n",
       "        vertical-align: middle;\n",
       "    }\n",
       "\n",
       "    .dataframe tbody tr th {\n",
       "        vertical-align: top;\n",
       "    }\n",
       "\n",
       "    .dataframe thead th {\n",
       "        text-align: right;\n",
       "    }\n",
       "</style>\n",
       "<table border=\"1\" class=\"dataframe\">\n",
       "  <thead>\n",
       "    <tr style=\"text-align: right;\">\n",
       "      <th></th>\n",
       "      <th>RD_Spend</th>\n",
       "      <th>Administration</th>\n",
       "      <th>Marketing_Spend</th>\n",
       "      <th>State</th>\n",
       "      <th>Profit</th>\n",
       "    </tr>\n",
       "  </thead>\n",
       "  <tbody>\n",
       "    <tr>\n",
       "      <th>0</th>\n",
       "      <td>165349.20</td>\n",
       "      <td>136897.80</td>\n",
       "      <td>471784.10</td>\n",
       "      <td>New York</td>\n",
       "      <td>192261.83</td>\n",
       "    </tr>\n",
       "    <tr>\n",
       "      <th>1</th>\n",
       "      <td>162597.70</td>\n",
       "      <td>151377.59</td>\n",
       "      <td>443898.53</td>\n",
       "      <td>California</td>\n",
       "      <td>191792.06</td>\n",
       "    </tr>\n",
       "    <tr>\n",
       "      <th>2</th>\n",
       "      <td>153441.51</td>\n",
       "      <td>101145.55</td>\n",
       "      <td>407934.54</td>\n",
       "      <td>Florida</td>\n",
       "      <td>191050.39</td>\n",
       "    </tr>\n",
       "    <tr>\n",
       "      <th>3</th>\n",
       "      <td>144372.41</td>\n",
       "      <td>118671.85</td>\n",
       "      <td>383199.62</td>\n",
       "      <td>New York</td>\n",
       "      <td>182901.99</td>\n",
       "    </tr>\n",
       "    <tr>\n",
       "      <th>4</th>\n",
       "      <td>142107.34</td>\n",
       "      <td>91391.77</td>\n",
       "      <td>366168.42</td>\n",
       "      <td>Florida</td>\n",
       "      <td>166187.94</td>\n",
       "    </tr>\n",
       "  </tbody>\n",
       "</table>\n",
       "</div>"
      ],
      "text/plain": [
       "    RD_Spend  Administration  Marketing_Spend       State     Profit\n",
       "0  165349.20       136897.80        471784.10    New York  192261.83\n",
       "1  162597.70       151377.59        443898.53  California  191792.06\n",
       "2  153441.51       101145.55        407934.54     Florida  191050.39\n",
       "3  144372.41       118671.85        383199.62    New York  182901.99\n",
       "4  142107.34        91391.77        366168.42     Florida  166187.94"
      ]
     },
     "execution_count": 4,
     "metadata": {},
     "output_type": "execute_result"
    }
   ],
   "source": [
    "profit = pd.read_excel(r'./data_for_pandas/Predict to Profit.xlsx')\n",
    "profit.head()"
   ]
  },
  {
   "cell_type": "code",
   "execution_count": 7,
   "id": "0d237df3",
   "metadata": {},
   "outputs": [
    {
     "data": {
      "text/html": [
       "<div>\n",
       "<style scoped>\n",
       "    .dataframe tbody tr th:only-of-type {\n",
       "        vertical-align: middle;\n",
       "    }\n",
       "\n",
       "    .dataframe tbody tr th {\n",
       "        vertical-align: top;\n",
       "    }\n",
       "\n",
       "    .dataframe thead th {\n",
       "        text-align: right;\n",
       "    }\n",
       "</style>\n",
       "<table border=\"1\" class=\"dataframe\">\n",
       "  <thead>\n",
       "    <tr style=\"text-align: right;\">\n",
       "      <th></th>\n",
       "      <th>California</th>\n",
       "      <th>Florida</th>\n",
       "      <th>New York</th>\n",
       "    </tr>\n",
       "  </thead>\n",
       "  <tbody>\n",
       "    <tr>\n",
       "      <th>0</th>\n",
       "      <td>0</td>\n",
       "      <td>0</td>\n",
       "      <td>1</td>\n",
       "    </tr>\n",
       "    <tr>\n",
       "      <th>1</th>\n",
       "      <td>1</td>\n",
       "      <td>0</td>\n",
       "      <td>0</td>\n",
       "    </tr>\n",
       "    <tr>\n",
       "      <th>2</th>\n",
       "      <td>0</td>\n",
       "      <td>1</td>\n",
       "      <td>0</td>\n",
       "    </tr>\n",
       "    <tr>\n",
       "      <th>3</th>\n",
       "      <td>0</td>\n",
       "      <td>0</td>\n",
       "      <td>1</td>\n",
       "    </tr>\n",
       "    <tr>\n",
       "      <th>4</th>\n",
       "      <td>0</td>\n",
       "      <td>1</td>\n",
       "      <td>0</td>\n",
       "    </tr>\n",
       "  </tbody>\n",
       "</table>\n",
       "</div>"
      ],
      "text/plain": [
       "   California  Florida  New York\n",
       "0           0        0         1\n",
       "1           1        0         0\n",
       "2           0        1         0\n",
       "3           0        0         1\n",
       "4           0        1         0"
      ]
     },
     "execution_count": 7,
     "metadata": {},
     "output_type": "execute_result"
    }
   ],
   "source": [
    "dunmmies = pd.get_dummies(profit.State)\n",
    "dunmmies.head()"
   ]
  },
  {
   "cell_type": "code",
   "execution_count": 9,
   "id": "5d251a6e",
   "metadata": {},
   "outputs": [
    {
     "data": {
      "text/html": [
       "<div>\n",
       "<style scoped>\n",
       "    .dataframe tbody tr th:only-of-type {\n",
       "        vertical-align: middle;\n",
       "    }\n",
       "\n",
       "    .dataframe tbody tr th {\n",
       "        vertical-align: top;\n",
       "    }\n",
       "\n",
       "    .dataframe thead th {\n",
       "        text-align: right;\n",
       "    }\n",
       "</style>\n",
       "<table border=\"1\" class=\"dataframe\">\n",
       "  <thead>\n",
       "    <tr style=\"text-align: right;\">\n",
       "      <th></th>\n",
       "      <th>RD_Spend</th>\n",
       "      <th>Administration</th>\n",
       "      <th>Marketing_Spend</th>\n",
       "      <th>State</th>\n",
       "      <th>Profit</th>\n",
       "      <th>California</th>\n",
       "      <th>Florida</th>\n",
       "      <th>New York</th>\n",
       "    </tr>\n",
       "  </thead>\n",
       "  <tbody>\n",
       "    <tr>\n",
       "      <th>0</th>\n",
       "      <td>165349.20</td>\n",
       "      <td>136897.80</td>\n",
       "      <td>471784.10</td>\n",
       "      <td>New York</td>\n",
       "      <td>192261.83</td>\n",
       "      <td>0</td>\n",
       "      <td>0</td>\n",
       "      <td>1</td>\n",
       "    </tr>\n",
       "    <tr>\n",
       "      <th>1</th>\n",
       "      <td>162597.70</td>\n",
       "      <td>151377.59</td>\n",
       "      <td>443898.53</td>\n",
       "      <td>California</td>\n",
       "      <td>191792.06</td>\n",
       "      <td>1</td>\n",
       "      <td>0</td>\n",
       "      <td>0</td>\n",
       "    </tr>\n",
       "    <tr>\n",
       "      <th>2</th>\n",
       "      <td>153441.51</td>\n",
       "      <td>101145.55</td>\n",
       "      <td>407934.54</td>\n",
       "      <td>Florida</td>\n",
       "      <td>191050.39</td>\n",
       "      <td>0</td>\n",
       "      <td>1</td>\n",
       "      <td>0</td>\n",
       "    </tr>\n",
       "    <tr>\n",
       "      <th>3</th>\n",
       "      <td>144372.41</td>\n",
       "      <td>118671.85</td>\n",
       "      <td>383199.62</td>\n",
       "      <td>New York</td>\n",
       "      <td>182901.99</td>\n",
       "      <td>0</td>\n",
       "      <td>0</td>\n",
       "      <td>1</td>\n",
       "    </tr>\n",
       "    <tr>\n",
       "      <th>4</th>\n",
       "      <td>142107.34</td>\n",
       "      <td>91391.77</td>\n",
       "      <td>366168.42</td>\n",
       "      <td>Florida</td>\n",
       "      <td>166187.94</td>\n",
       "      <td>0</td>\n",
       "      <td>1</td>\n",
       "      <td>0</td>\n",
       "    </tr>\n",
       "  </tbody>\n",
       "</table>\n",
       "</div>"
      ],
      "text/plain": [
       "    RD_Spend  Administration  Marketing_Spend       State     Profit  \\\n",
       "0  165349.20       136897.80        471784.10    New York  192261.83   \n",
       "1  162597.70       151377.59        443898.53  California  191792.06   \n",
       "2  153441.51       101145.55        407934.54     Florida  191050.39   \n",
       "3  144372.41       118671.85        383199.62    New York  182901.99   \n",
       "4  142107.34        91391.77        366168.42     Florida  166187.94   \n",
       "\n",
       "   California  Florida  New York  \n",
       "0           0        0         1  \n",
       "1           1        0         0  \n",
       "2           0        1         0  \n",
       "3           0        0         1  \n",
       "4           0        1         0  "
      ]
     },
     "execution_count": 9,
     "metadata": {},
     "output_type": "execute_result"
    }
   ],
   "source": [
    "profit_new = pd.concat([profit, dunmmies], axis=1)\n",
    "profit_new.head()"
   ]
  },
  {
   "cell_type": "code",
   "execution_count": 10,
   "id": "2c484d96",
   "metadata": {},
   "outputs": [
    {
     "data": {
      "text/html": [
       "<div>\n",
       "<style scoped>\n",
       "    .dataframe tbody tr th:only-of-type {\n",
       "        vertical-align: middle;\n",
       "    }\n",
       "\n",
       "    .dataframe tbody tr th {\n",
       "        vertical-align: top;\n",
       "    }\n",
       "\n",
       "    .dataframe thead th {\n",
       "        text-align: right;\n",
       "    }\n",
       "</style>\n",
       "<table border=\"1\" class=\"dataframe\">\n",
       "  <thead>\n",
       "    <tr style=\"text-align: right;\">\n",
       "      <th></th>\n",
       "      <th>RD_Spend</th>\n",
       "      <th>Administration</th>\n",
       "      <th>Marketing_Spend</th>\n",
       "      <th>Profit</th>\n",
       "      <th>California</th>\n",
       "      <th>Florida</th>\n",
       "    </tr>\n",
       "  </thead>\n",
       "  <tbody>\n",
       "    <tr>\n",
       "      <th>0</th>\n",
       "      <td>165349.20</td>\n",
       "      <td>136897.80</td>\n",
       "      <td>471784.10</td>\n",
       "      <td>192261.83</td>\n",
       "      <td>0</td>\n",
       "      <td>0</td>\n",
       "    </tr>\n",
       "    <tr>\n",
       "      <th>1</th>\n",
       "      <td>162597.70</td>\n",
       "      <td>151377.59</td>\n",
       "      <td>443898.53</td>\n",
       "      <td>191792.06</td>\n",
       "      <td>1</td>\n",
       "      <td>0</td>\n",
       "    </tr>\n",
       "    <tr>\n",
       "      <th>2</th>\n",
       "      <td>153441.51</td>\n",
       "      <td>101145.55</td>\n",
       "      <td>407934.54</td>\n",
       "      <td>191050.39</td>\n",
       "      <td>0</td>\n",
       "      <td>1</td>\n",
       "    </tr>\n",
       "    <tr>\n",
       "      <th>3</th>\n",
       "      <td>144372.41</td>\n",
       "      <td>118671.85</td>\n",
       "      <td>383199.62</td>\n",
       "      <td>182901.99</td>\n",
       "      <td>0</td>\n",
       "      <td>0</td>\n",
       "    </tr>\n",
       "    <tr>\n",
       "      <th>4</th>\n",
       "      <td>142107.34</td>\n",
       "      <td>91391.77</td>\n",
       "      <td>366168.42</td>\n",
       "      <td>166187.94</td>\n",
       "      <td>0</td>\n",
       "      <td>1</td>\n",
       "    </tr>\n",
       "  </tbody>\n",
       "</table>\n",
       "</div>"
      ],
      "text/plain": [
       "    RD_Spend  Administration  Marketing_Spend     Profit  California  Florida\n",
       "0  165349.20       136897.80        471784.10  192261.83           0        0\n",
       "1  162597.70       151377.59        443898.53  191792.06           1        0\n",
       "2  153441.51       101145.55        407934.54  191050.39           0        1\n",
       "3  144372.41       118671.85        383199.62  182901.99           0        0\n",
       "4  142107.34        91391.77        366168.42  166187.94           0        1"
      ]
     },
     "execution_count": 10,
     "metadata": {},
     "output_type": "execute_result"
    }
   ],
   "source": [
    "profit_new.drop(labels=['State', 'New York'], axis=1, inplace=True)\n",
    "profit_new.head()"
   ]
  },
  {
   "cell_type": "code",
   "execution_count": 14,
   "id": "5e409e77",
   "metadata": {},
   "outputs": [
    {
     "data": {
      "text/html": [
       "<div>\n",
       "<style scoped>\n",
       "    .dataframe tbody tr th:only-of-type {\n",
       "        vertical-align: middle;\n",
       "    }\n",
       "\n",
       "    .dataframe tbody tr th {\n",
       "        vertical-align: top;\n",
       "    }\n",
       "\n",
       "    .dataframe thead th {\n",
       "        text-align: right;\n",
       "    }\n",
       "</style>\n",
       "<table border=\"1\" class=\"dataframe\">\n",
       "  <thead>\n",
       "    <tr style=\"text-align: right;\">\n",
       "      <th></th>\n",
       "      <th>const</th>\n",
       "      <th>RD_Spend</th>\n",
       "      <th>Marketing_Spend</th>\n",
       "    </tr>\n",
       "  </thead>\n",
       "  <tbody>\n",
       "    <tr>\n",
       "      <th>0</th>\n",
       "      <td>1.0</td>\n",
       "      <td>165349.20</td>\n",
       "      <td>471784.10</td>\n",
       "    </tr>\n",
       "    <tr>\n",
       "      <th>1</th>\n",
       "      <td>1.0</td>\n",
       "      <td>162597.70</td>\n",
       "      <td>443898.53</td>\n",
       "    </tr>\n",
       "    <tr>\n",
       "      <th>2</th>\n",
       "      <td>1.0</td>\n",
       "      <td>153441.51</td>\n",
       "      <td>407934.54</td>\n",
       "    </tr>\n",
       "    <tr>\n",
       "      <th>3</th>\n",
       "      <td>1.0</td>\n",
       "      <td>144372.41</td>\n",
       "      <td>383199.62</td>\n",
       "    </tr>\n",
       "    <tr>\n",
       "      <th>4</th>\n",
       "      <td>1.0</td>\n",
       "      <td>142107.34</td>\n",
       "      <td>366168.42</td>\n",
       "    </tr>\n",
       "  </tbody>\n",
       "</table>\n",
       "</div>"
      ],
      "text/plain": [
       "   const   RD_Spend  Marketing_Spend\n",
       "0    1.0  165349.20        471784.10\n",
       "1    1.0  162597.70        443898.53\n",
       "2    1.0  153441.51        407934.54\n",
       "3    1.0  144372.41        383199.62\n",
       "4    1.0  142107.34        366168.42"
      ]
     },
     "execution_count": 14,
     "metadata": {},
     "output_type": "execute_result"
    }
   ],
   "source": [
    "#自变量X（包含RD_Spend、Marketing_Spend和常数列1）\n",
    "import statsmodels.api as sm\n",
    "X = sm.add_constant(profit_new[['RD_Spend', 'Marketing_Spend']])\n",
    "X.head()"
   ]
  },
  {
   "cell_type": "code",
   "execution_count": 15,
   "id": "a189c02c",
   "metadata": {},
   "outputs": [
    {
     "data": {
      "text/html": [
       "<div>\n",
       "<style scoped>\n",
       "    .dataframe tbody tr th:only-of-type {\n",
       "        vertical-align: middle;\n",
       "    }\n",
       "\n",
       "    .dataframe tbody tr th {\n",
       "        vertical-align: top;\n",
       "    }\n",
       "\n",
       "    .dataframe thead th {\n",
       "        text-align: right;\n",
       "    }\n",
       "</style>\n",
       "<table border=\"1\" class=\"dataframe\">\n",
       "  <thead>\n",
       "    <tr style=\"text-align: right;\">\n",
       "      <th></th>\n",
       "      <th>features</th>\n",
       "    </tr>\n",
       "  </thead>\n",
       "  <tbody>\n",
       "    <tr>\n",
       "      <th>0</th>\n",
       "      <td>const</td>\n",
       "    </tr>\n",
       "    <tr>\n",
       "      <th>1</th>\n",
       "      <td>RD_Spend</td>\n",
       "    </tr>\n",
       "    <tr>\n",
       "      <th>2</th>\n",
       "      <td>Marketing_Spend</td>\n",
       "    </tr>\n",
       "  </tbody>\n",
       "</table>\n",
       "</div>"
      ],
      "text/plain": [
       "          features\n",
       "0            const\n",
       "1         RD_Spend\n",
       "2  Marketing_Spend"
      ]
     },
     "execution_count": 15,
     "metadata": {},
     "output_type": "execute_result"
    }
   ],
   "source": [
    "vif = pd.DataFrame()\n",
    "vif['features'] = X.columns\n",
    "vif"
   ]
  },
  {
   "cell_type": "code",
   "execution_count": 19,
   "id": "d37632c6",
   "metadata": {
    "collapsed": true
   },
   "outputs": [
    {
     "data": {
      "text/plain": [
       "array([[1.0000000e+00, 1.6534920e+05, 4.7178410e+05],\n",
       "       [1.0000000e+00, 1.6259770e+05, 4.4389853e+05],\n",
       "       [1.0000000e+00, 1.5344151e+05, 4.0793454e+05],\n",
       "       [1.0000000e+00, 1.4437241e+05, 3.8319962e+05],\n",
       "       [1.0000000e+00, 1.4210734e+05, 3.6616842e+05],\n",
       "       [1.0000000e+00, 1.3187690e+05, 3.6286136e+05],\n",
       "       [1.0000000e+00, 1.3461546e+05, 1.2771682e+05],\n",
       "       [1.0000000e+00, 1.3029813e+05, 3.2387668e+05],\n",
       "       [1.0000000e+00, 1.2054252e+05, 3.1161329e+05],\n",
       "       [1.0000000e+00, 1.2333488e+05, 3.0498162e+05],\n",
       "       [1.0000000e+00, 1.0191308e+05, 2.2916095e+05],\n",
       "       [1.0000000e+00, 1.0067196e+05, 2.4974455e+05],\n",
       "       [1.0000000e+00, 9.3863750e+04, 2.4983944e+05],\n",
       "       [1.0000000e+00, 9.1992390e+04, 2.5266493e+05],\n",
       "       [1.0000000e+00, 1.1994324e+05, 2.5651292e+05],\n",
       "       [1.0000000e+00, 1.1452361e+05, 2.6177623e+05],\n",
       "       [1.0000000e+00, 7.8013110e+04, 2.6434606e+05],\n",
       "       [1.0000000e+00, 9.4657160e+04, 2.8257431e+05],\n",
       "       [1.0000000e+00, 9.1749160e+04, 2.9491957e+05],\n",
       "       [1.0000000e+00, 8.6419700e+04, 0.0000000e+00],\n",
       "       [1.0000000e+00, 7.6253860e+04, 2.9866447e+05],\n",
       "       [1.0000000e+00, 7.8389470e+04, 2.9973729e+05],\n",
       "       [1.0000000e+00, 7.3994560e+04, 3.0331926e+05],\n",
       "       [1.0000000e+00, 6.7532530e+04, 3.0476873e+05],\n",
       "       [1.0000000e+00, 7.7044010e+04, 1.4057481e+05],\n",
       "       [1.0000000e+00, 6.4664710e+04, 1.3796262e+05],\n",
       "       [1.0000000e+00, 7.5328870e+04, 1.3405007e+05],\n",
       "       [1.0000000e+00, 7.2107600e+04, 3.5318381e+05],\n",
       "       [1.0000000e+00, 6.6051520e+04, 1.1814820e+05],\n",
       "       [1.0000000e+00, 6.5605480e+04, 1.0713838e+05],\n",
       "       [1.0000000e+00, 6.1994480e+04, 9.1131240e+04],\n",
       "       [1.0000000e+00, 6.1136380e+04, 8.8218230e+04],\n",
       "       [1.0000000e+00, 6.3408860e+04, 4.6085250e+04],\n",
       "       [1.0000000e+00, 5.5493950e+04, 2.1463481e+05],\n",
       "       [1.0000000e+00, 4.6426070e+04, 2.1079767e+05],\n",
       "       [1.0000000e+00, 4.6014020e+04, 2.0551764e+05],\n",
       "       [1.0000000e+00, 2.8663760e+04, 2.0112682e+05],\n",
       "       [1.0000000e+00, 4.4069950e+04, 1.9702942e+05],\n",
       "       [1.0000000e+00, 2.0229590e+04, 1.8526510e+05],\n",
       "       [1.0000000e+00, 3.8558510e+04, 1.7499930e+05],\n",
       "       [1.0000000e+00, 2.8754330e+04, 1.7279567e+05],\n",
       "       [1.0000000e+00, 2.7892920e+04, 1.6447071e+05],\n",
       "       [1.0000000e+00, 2.3640930e+04, 1.4800111e+05],\n",
       "       [1.0000000e+00, 1.5505730e+04, 3.5534170e+04],\n",
       "       [1.0000000e+00, 2.2177740e+04, 2.8334720e+04],\n",
       "       [1.0000000e+00, 1.0002300e+03, 1.9039300e+03],\n",
       "       [1.0000000e+00, 1.3154600e+03, 2.9711446e+05],\n",
       "       [1.0000000e+00, 0.0000000e+00, 0.0000000e+00],\n",
       "       [1.0000000e+00, 5.4205000e+02, 0.0000000e+00]])"
      ]
     },
     "execution_count": 19,
     "metadata": {},
     "output_type": "execute_result"
    }
   ],
   "source": [
    "X.shape[1]\n",
    "X.values"
   ]
  },
  {
   "cell_type": "code",
   "execution_count": 20,
   "id": "b24e2fee",
   "metadata": {},
   "outputs": [],
   "source": [
    "list_res = []\n",
    "for i in range(X.shape[1]):\n",
    "    list_res.append(variance_inflation_factor(X.values, i))\n",
    "vif['VIF Factor'] = list_res"
   ]
  },
  {
   "cell_type": "code",
   "execution_count": 21,
   "id": "7f590743",
   "metadata": {},
   "outputs": [
    {
     "data": {
      "text/html": [
       "<div>\n",
       "<style scoped>\n",
       "    .dataframe tbody tr th:only-of-type {\n",
       "        vertical-align: middle;\n",
       "    }\n",
       "\n",
       "    .dataframe tbody tr th {\n",
       "        vertical-align: top;\n",
       "    }\n",
       "\n",
       "    .dataframe thead th {\n",
       "        text-align: right;\n",
       "    }\n",
       "</style>\n",
       "<table border=\"1\" class=\"dataframe\">\n",
       "  <thead>\n",
       "    <tr style=\"text-align: right;\">\n",
       "      <th></th>\n",
       "      <th>features</th>\n",
       "      <th>VIF Factor</th>\n",
       "    </tr>\n",
       "  </thead>\n",
       "  <tbody>\n",
       "    <tr>\n",
       "      <th>0</th>\n",
       "      <td>const</td>\n",
       "      <td>4.540984</td>\n",
       "    </tr>\n",
       "    <tr>\n",
       "      <th>1</th>\n",
       "      <td>RD_Spend</td>\n",
       "      <td>2.026141</td>\n",
       "    </tr>\n",
       "    <tr>\n",
       "      <th>2</th>\n",
       "      <td>Marketing_Spend</td>\n",
       "      <td>2.026141</td>\n",
       "    </tr>\n",
       "  </tbody>\n",
       "</table>\n",
       "</div>"
      ],
      "text/plain": [
       "          features  VIF Factor\n",
       "0            const    4.540984\n",
       "1         RD_Spend    2.026141\n",
       "2  Marketing_Spend    2.026141"
      ]
     },
     "execution_count": 21,
     "metadata": {},
     "output_type": "execute_result"
    }
   ],
   "source": [
    "vif"
   ]
  },
  {
   "cell_type": "markdown",
   "id": "e4bc0e8c",
   "metadata": {},
   "source": [
    "两个变量的方差膨胀因子均低于10，说明构建的模型的自变量之间不存在多重共线性  \n",
    "如果变量之间存在多重共线性，可以考虑删除变量或更换模型  "
   ]
  },
  {
   "cell_type": "markdown",
   "id": "3cbe0fb6",
   "metadata": {},
   "source": [
    "## 线性相关性检验\n",
    "检验建模的自变量和因变量之间存在线性关系"
   ]
  },
  {
   "cell_type": "code",
   "execution_count": 23,
   "id": "bc491037",
   "metadata": {},
   "outputs": [
    {
     "data": {
      "text/plain": [
       "RD_Spend           0.978437\n",
       "Administration     0.205841\n",
       "Marketing_Spend    0.739307\n",
       "California        -0.083258\n",
       "Florida            0.088008\n",
       "dtype: float64"
      ]
     },
     "execution_count": 23,
     "metadata": {},
     "output_type": "execute_result"
    }
   ],
   "source": [
    "#计算每个自变量与因变量之间的相关系数\n",
    "profit_new.drop('Profit', axis=1).corrwith(profit.Profit)"
   ]
  },
  {
   "cell_type": "markdown",
   "id": "caf535ea",
   "metadata": {},
   "source": [
    "![jupyter](./class_nine_1.png)"
   ]
  },
  {
   "cell_type": "code",
   "execution_count": 26,
   "id": "d2e6b162",
   "metadata": {},
   "outputs": [],
   "source": [
    "import matplotlib.pyplot as plt\n",
    "import seaborn"
   ]
  },
  {
   "cell_type": "code",
   "execution_count": 27,
   "id": "5ab1893d",
   "metadata": {},
   "outputs": [
    {
     "data": {
      "image/png": "[encoded data removed]",
      "text/plain": [
       "<Figure size 720x720 with 20 Axes>"
      ]
     },
     "metadata": {
      "needs_background": "light"
     },
     "output_type": "display_data"
    }
   ],
   "source": [
    "#多个变量之间的散点图矩阵\n",
    "seaborn.pairplot(profit_new[['RD_Spend', 'Administration', 'Marketing_Spend', 'Profit']])\n",
    "plt.show()"
   ]
  },
  {
   "cell_type": "markdown",
   "id": "23560584",
   "metadata": {},
   "source": [
    "模型修正"
   ]
  },
  {
   "cell_type": "markdown",
   "id": "39aecbc5",
   "metadata": {},
   "source": [
    "综合考虑相关系数、散点图矩阵和t检验结果，最终确定只保留RD_Spend和Marketing_Spend两个自变量"
   ]
  },
  {
   "cell_type": "code",
   "execution_count": 30,
   "id": "d150ffb0",
   "metadata": {},
   "outputs": [
    {
     "data": {
      "text/plain": [
       "Intercept          51902.112471\n",
       "RD_Spend               0.785116\n",
       "Marketing_Spend        0.019402\n",
       "dtype: float64"
      ]
     },
     "execution_count": 30,
     "metadata": {},
     "output_type": "execute_result"
    }
   ],
   "source": [
    "from  sklearn import model_selection\n",
    "train, test = model_selection.train_test_split(profit, test_size=0.2,random_state=1234)\n",
    "model3 = sm.formula.ols('Profit ~ RD_Spend+Marketing_Spend', data=train).fit()\n",
    "model3.params"
   ]
  },
  {
   "cell_type": "markdown",
   "id": "b6eea88d",
   "metadata": {},
   "source": [
    "修正模型：Profit = 51902.11 + 0.79RD_Spend + 0.02Marketing_Spend"
   ]
  },
  {
   "cell_type": "code",
   "execution_count": 32,
   "id": "d02f0326",
   "metadata": {},
   "outputs": [
    {
     "data": {
      "text/html": [
       "<div>\n",
       "<style scoped>\n",
       "    .dataframe tbody tr th:only-of-type {\n",
       "        vertical-align: middle;\n",
       "    }\n",
       "\n",
       "    .dataframe tbody tr th {\n",
       "        vertical-align: top;\n",
       "    }\n",
       "\n",
       "    .dataframe thead th {\n",
       "        text-align: right;\n",
       "    }\n",
       "</style>\n",
       "<table border=\"1\" class=\"dataframe\">\n",
       "  <thead>\n",
       "    <tr style=\"text-align: right;\">\n",
       "      <th></th>\n",
       "      <th>Predict</th>\n",
       "      <th>Real</th>\n",
       "      <th>Difference</th>\n",
       "      <th>Precent</th>\n",
       "    </tr>\n",
       "  </thead>\n",
       "  <tbody>\n",
       "    <tr>\n",
       "      <th>8</th>\n",
       "      <td>152587.822689</td>\n",
       "      <td>152211.77</td>\n",
       "      <td>376.052689</td>\n",
       "      <td>0.25%</td>\n",
       "    </tr>\n",
       "    <tr>\n",
       "      <th>48</th>\n",
       "      <td>52327.684422</td>\n",
       "      <td>35673.41</td>\n",
       "      <td>16654.274422</td>\n",
       "      <td>31.83%</td>\n",
       "    </tr>\n",
       "    <tr>\n",
       "      <th>14</th>\n",
       "      <td>151048.266969</td>\n",
       "      <td>132602.65</td>\n",
       "      <td>18445.616969</td>\n",
       "      <td>12.21%</td>\n",
       "    </tr>\n",
       "    <tr>\n",
       "      <th>42</th>\n",
       "      <td>73334.479175</td>\n",
       "      <td>71498.49</td>\n",
       "      <td>1835.989175</td>\n",
       "      <td>2.50%</td>\n",
       "    </tr>\n",
       "    <tr>\n",
       "      <th>29</th>\n",
       "      <td>105488.690740</td>\n",
       "      <td>101004.64</td>\n",
       "      <td>4484.050740</td>\n",
       "      <td>4.25%</td>\n",
       "    </tr>\n",
       "    <tr>\n",
       "      <th>44</th>\n",
       "      <td>69863.951028</td>\n",
       "      <td>65200.33</td>\n",
       "      <td>4663.621028</td>\n",
       "      <td>6.68%</td>\n",
       "    </tr>\n",
       "    <tr>\n",
       "      <th>4</th>\n",
       "      <td>170577.173790</td>\n",
       "      <td>166187.94</td>\n",
       "      <td>4389.233790</td>\n",
       "      <td>2.57%</td>\n",
       "    </tr>\n",
       "    <tr>\n",
       "      <th>31</th>\n",
       "      <td>101612.843515</td>\n",
       "      <td>97483.56</td>\n",
       "      <td>4129.283515</td>\n",
       "      <td>4.06%</td>\n",
       "    </tr>\n",
       "    <tr>\n",
       "      <th>13</th>\n",
       "      <td>129028.958229</td>\n",
       "      <td>134307.35</td>\n",
       "      <td>-5278.391771</td>\n",
       "      <td>-4.09%</td>\n",
       "    </tr>\n",
       "    <tr>\n",
       "      <th>18</th>\n",
       "      <td>129657.814636</td>\n",
       "      <td>124266.90</td>\n",
       "      <td>5390.914636</td>\n",
       "      <td>4.16%</td>\n",
       "    </tr>\n",
       "  </tbody>\n",
       "</table>\n",
       "</div>"
      ],
      "text/plain": [
       "          Predict       Real    Difference Precent\n",
       "8   152587.822689  152211.77    376.052689   0.25%\n",
       "48   52327.684422   35673.41  16654.274422  31.83%\n",
       "14  151048.266969  132602.65  18445.616969  12.21%\n",
       "42   73334.479175   71498.49   1835.989175   2.50%\n",
       "29  105488.690740  101004.64   4484.050740   4.25%\n",
       "44   69863.951028   65200.33   4663.621028   6.68%\n",
       "4   170577.173790  166187.94   4389.233790   2.57%\n",
       "31  101612.843515   97483.56   4129.283515   4.06%\n",
       "13  129028.958229  134307.35  -5278.391771  -4.09%\n",
       "18  129657.814636  124266.90   5390.914636   4.16%"
      ]
     },
     "execution_count": 32,
     "metadata": {},
     "output_type": "execute_result"
    }
   ],
   "source": [
    "test_x = test.drop(labels='Profit', axis=1)\n",
    "pred = model3.predict(exog=test_x)\n",
    "difference = pred - test.Profit\n",
    "pd.DataFrame({'Predict':pred, 'Real':test.Profit, 'Difference':difference, 'Precent':(difference/pred).map(lambda x: format(x, '.2%'))})"
   ]
  },
  {
   "cell_type": "markdown",
   "id": "7fc97395",
   "metadata": {},
   "source": [
    "## 异常值检验\n",
    "多元线性回归模型容易受到极端值的影响，所以需要对观测样本进行异常值检测"
   ]
  },
  {
   "cell_type": "markdown",
   "id": "6bc2fc17",
   "metadata": {},
   "source": [
    "帽子矩阵  \n",
    "DFFITS准则  \n",
    "Cook距离  \n",
    "标准化残差（学生化残差）  \n",
    "注意：使用以上四种方法得前提是已经构造好了一个线性回归模型"
   ]
  },
  {
   "cell_type": "code",
   "execution_count": 34,
   "id": "787954bb",
   "metadata": {},
   "outputs": [
    {
     "data": {
      "text/plain": [
       "<statsmodels.stats.outliers_influence.OLSInfluence at 0x7f2c27a38590>"
      ]
     },
     "execution_count": 34,
     "metadata": {},
     "output_type": "execute_result"
    }
   ],
   "source": [
    "#异常值检验\n",
    "outliers = model3.get_influence()\n",
    "outliers"
   ]
  },
  {
   "cell_type": "code",
   "execution_count": 35,
   "id": "e5bfa14b",
   "metadata": {},
   "outputs": [
    {
     "data": {
      "text/plain": [
       "array([0.06651655, 0.09336168, 0.03274069, 0.03960018, 0.04298291,\n",
       "       0.04418066, 0.04868271, 0.13901515, 0.10488643, 0.23470711,\n",
       "       0.08705262, 0.04187855, 0.04076524, 0.03341389, 0.15730883,\n",
       "       0.03467375, 0.06452631, 0.09215405, 0.0415147 , 0.19822477,\n",
       "       0.11190251, 0.04106913, 0.12306558, 0.05518946, 0.03044368,\n",
       "       0.07236183, 0.0513544 , 0.05760172, 0.04444256, 0.06506217,\n",
       "       0.05043519, 0.05733067, 0.0570313 , 0.04797132, 0.04851554,\n",
       "       0.03003842, 0.07727349, 0.21563375, 0.12509048])"
      ]
     },
     "execution_count": 35,
     "metadata": {},
     "output_type": "execute_result"
    }
   ],
   "source": [
    "#高杆杆值点（帽子矩阵）\n",
    "leverage = outliers.hat_matrix_diag\n",
    "leverage"
   ]
  },
  {
   "cell_type": "code",
   "execution_count": 36,
   "id": "5d741ce9",
   "metadata": {},
   "outputs": [
    {
     "data": {
      "text/plain": [
       "array([ 0.46641002,  0.22122977, -0.15622507,  0.2706774 , -0.2285633 ,\n",
       "        0.02611072, -0.16876823,  0.20542008, -0.24515352, -0.78258389,\n",
       "       -0.45020948,  0.11966647,  0.05657203, -0.07068492,  0.08534434,\n",
       "        0.21737188, -0.16877793,  0.45907949, -0.01042913, -0.28749002,\n",
       "        0.54707588,  0.12379838,  0.66544696, -0.15979727,  0.2087459 ,\n",
       "       -0.20952907, -0.08657383,  0.01362628, -0.13219258, -0.0858194 ,\n",
       "       -0.24832566,  0.0267523 , -0.06959013, -0.5523728 , -0.20069164,\n",
       "        0.26845919,  0.39777428,  0.23452568, -0.50555712])"
      ]
     },
     "execution_count": 36,
     "metadata": {},
     "output_type": "execute_result"
    }
   ],
   "source": [
    "#dffits值\n",
    "dffits = outliers.dffits[0]\n",
    "dffits"
   ]
  },
  {
   "cell_type": "code",
   "execution_count": 37,
   "id": "4114176e",
   "metadata": {},
   "outputs": [
    {
     "data": {
      "text/plain": [
       "array([ 1.7472551 ,  0.68940795, -0.84913795,  1.33299782, -1.07849573,\n",
       "        0.12144808, -0.74604667,  0.51122206, -0.71617234, -1.41312839,\n",
       "       -1.45796323,  0.57238326,  0.2744222 , -0.380175  ,  0.19752969,\n",
       "        1.14693811, -0.64263301,  1.44090968, -0.05011177, -0.57818941,\n",
       "        1.54119635,  0.59820613,  1.77635064, -0.66117074,  1.17802877,\n",
       "       -0.75020303, -0.37209154,  0.05511587, -0.61296542, -0.32532134,\n",
       "       -1.07749945,  0.1084794 , -0.2829695 , -2.46074431, -0.88877066,\n",
       "        1.52551689,  1.37454173,  0.44729237, -1.33702548])"
      ]
     },
     "execution_count": 37,
     "metadata": {},
     "output_type": "execute_result"
    }
   ],
   "source": [
    "#标准化残差\n",
    "resid_stu = outliers.resid_studentized_external\n",
    "resid_stu"
   ]
  },
  {
   "cell_type": "code",
   "execution_count": 38,
   "id": "2d0bdd03",
   "metadata": {},
   "outputs": [
    {
     "data": {
      "text/plain": [
       "array([6.86008059e-02, 1.65555081e-02, 8.19895756e-03, 2.39061866e-02,\n",
       "       1.73351642e-02, 2.33651149e-04, 9.61263802e-03, 1.43604528e-02,\n",
       "       2.03081951e-02, 1.98644866e-01, 6.55143401e-02, 4.86420426e-03,\n",
       "       1.09492223e-03, 1.70599209e-03, 2.49447268e-03, 1.56133583e-02,\n",
       "       9.65272915e-03, 6.82121222e-02, 3.72887632e-05, 2.80692151e-02,\n",
       "       9.60930221e-02, 5.20146061e-03, 1.39268173e-01, 8.64691535e-03,\n",
       "       1.43701708e-02, 1.48140502e-02, 2.55959876e-03, 6.36546075e-05,\n",
       "       5.92775254e-03, 2.51751962e-03, 2.04636903e-02, 2.45295398e-04,\n",
       "       1.65659377e-03, 8.91819538e-02, 1.35045210e-02, 2.31692699e-02,\n",
       "       5.14699173e-02, 1.87507449e-02, 8.33719230e-02])"
      ]
     },
     "execution_count": 38,
     "metadata": {},
     "output_type": "execute_result"
    }
   ],
   "source": [
    "#cook 距离\n",
    "cook = outliers.cooks_distance[0]\n",
    "cook"
   ]
  },
  {
   "cell_type": "code",
   "execution_count": 40,
   "id": "1319abc2",
   "metadata": {},
   "outputs": [
    {
     "data": {
      "text/html": [
       "<div>\n",
       "<style scoped>\n",
       "    .dataframe tbody tr th:only-of-type {\n",
       "        vertical-align: middle;\n",
       "    }\n",
       "\n",
       "    .dataframe tbody tr th {\n",
       "        vertical-align: top;\n",
       "    }\n",
       "\n",
       "    .dataframe thead th {\n",
       "        text-align: right;\n",
       "    }\n",
       "</style>\n",
       "<table border=\"1\" class=\"dataframe\">\n",
       "  <thead>\n",
       "    <tr style=\"text-align: right;\">\n",
       "      <th></th>\n",
       "      <th>leverage</th>\n",
       "      <th>dffits</th>\n",
       "      <th>resid_stu</th>\n",
       "      <th>cook</th>\n",
       "    </tr>\n",
       "  </thead>\n",
       "  <tbody>\n",
       "    <tr>\n",
       "      <th>0</th>\n",
       "      <td>0.066517</td>\n",
       "      <td>0.466410</td>\n",
       "      <td>1.747255</td>\n",
       "      <td>0.068601</td>\n",
       "    </tr>\n",
       "    <tr>\n",
       "      <th>1</th>\n",
       "      <td>0.093362</td>\n",
       "      <td>0.221230</td>\n",
       "      <td>0.689408</td>\n",
       "      <td>0.016556</td>\n",
       "    </tr>\n",
       "    <tr>\n",
       "      <th>2</th>\n",
       "      <td>0.032741</td>\n",
       "      <td>-0.156225</td>\n",
       "      <td>-0.849138</td>\n",
       "      <td>0.008199</td>\n",
       "    </tr>\n",
       "    <tr>\n",
       "      <th>3</th>\n",
       "      <td>0.039600</td>\n",
       "      <td>0.270677</td>\n",
       "      <td>1.332998</td>\n",
       "      <td>0.023906</td>\n",
       "    </tr>\n",
       "    <tr>\n",
       "      <th>4</th>\n",
       "      <td>0.042983</td>\n",
       "      <td>-0.228563</td>\n",
       "      <td>-1.078496</td>\n",
       "      <td>0.017335</td>\n",
       "    </tr>\n",
       "  </tbody>\n",
       "</table>\n",
       "</div>"
      ],
      "text/plain": [
       "   leverage    dffits  resid_stu      cook\n",
       "0  0.066517  0.466410   1.747255  0.068601\n",
       "1  0.093362  0.221230   0.689408  0.016556\n",
       "2  0.032741 -0.156225  -0.849138  0.008199\n",
       "3  0.039600  0.270677   1.332998  0.023906\n",
       "4  0.042983 -0.228563  -1.078496  0.017335"
      ]
     },
     "execution_count": 40,
     "metadata": {},
     "output_type": "execute_result"
    }
   ],
   "source": [
    "#合并各种异常值检验的统计量\n",
    "concat1 = pd.concat([pd.Series(leverage, name='leverage'), pd.Series(dffits, name='dffits'), pd.Series(resid_stu, name='resid_stu'), pd.Series(cook, name='cook')], axis=1)\n",
    "concat1.head()"
   ]
  },
  {
   "cell_type": "code",
   "execution_count": 41,
   "id": "81bff0b1",
   "metadata": {},
   "outputs": [
    {
     "data": {
      "text/html": [
       "<div>\n",
       "<style scoped>\n",
       "    .dataframe tbody tr th:only-of-type {\n",
       "        vertical-align: middle;\n",
       "    }\n",
       "\n",
       "    .dataframe tbody tr th {\n",
       "        vertical-align: top;\n",
       "    }\n",
       "\n",
       "    .dataframe thead th {\n",
       "        text-align: right;\n",
       "    }\n",
       "</style>\n",
       "<table border=\"1\" class=\"dataframe\">\n",
       "  <thead>\n",
       "    <tr style=\"text-align: right;\">\n",
       "      <th></th>\n",
       "      <th>RD_Spend</th>\n",
       "      <th>Administration</th>\n",
       "      <th>Marketing_Spend</th>\n",
       "      <th>State</th>\n",
       "      <th>Profit</th>\n",
       "    </tr>\n",
       "  </thead>\n",
       "  <tbody>\n",
       "    <tr>\n",
       "      <th>36</th>\n",
       "      <td>28663.76</td>\n",
       "      <td>127056.21</td>\n",
       "      <td>201126.82</td>\n",
       "      <td>Florida</td>\n",
       "      <td>90708.19</td>\n",
       "    </tr>\n",
       "    <tr>\n",
       "      <th>43</th>\n",
       "      <td>15505.73</td>\n",
       "      <td>127382.30</td>\n",
       "      <td>35534.17</td>\n",
       "      <td>New York</td>\n",
       "      <td>69758.98</td>\n",
       "    </tr>\n",
       "    <tr>\n",
       "      <th>17</th>\n",
       "      <td>94657.16</td>\n",
       "      <td>145077.58</td>\n",
       "      <td>282574.31</td>\n",
       "      <td>New York</td>\n",
       "      <td>125370.37</td>\n",
       "    </tr>\n",
       "    <tr>\n",
       "      <th>10</th>\n",
       "      <td>101913.08</td>\n",
       "      <td>110594.11</td>\n",
       "      <td>229160.95</td>\n",
       "      <td>Florida</td>\n",
       "      <td>146121.95</td>\n",
       "    </tr>\n",
       "    <tr>\n",
       "      <th>21</th>\n",
       "      <td>78389.47</td>\n",
       "      <td>153773.43</td>\n",
       "      <td>299737.29</td>\n",
       "      <td>New York</td>\n",
       "      <td>111313.02</td>\n",
       "    </tr>\n",
       "  </tbody>\n",
       "</table>\n",
       "</div>"
      ],
      "text/plain": [
       "     RD_Spend  Administration  Marketing_Spend     State     Profit\n",
       "36   28663.76       127056.21        201126.82   Florida   90708.19\n",
       "43   15505.73       127382.30         35534.17  New York   69758.98\n",
       "17   94657.16       145077.58        282574.31  New York  125370.37\n",
       "10  101913.08       110594.11        229160.95   Florida  146121.95\n",
       "21   78389.47       153773.43        299737.29  New York  111313.02"
      ]
     },
     "execution_count": 41,
     "metadata": {},
     "output_type": "execute_result"
    }
   ],
   "source": [
    "train.head()"
   ]
  },
  {
   "cell_type": "code",
   "execution_count": 42,
   "id": "31d74491",
   "metadata": {},
   "outputs": [
    {
     "data": {
      "text/html": [
       "<div>\n",
       "<style scoped>\n",
       "    .dataframe tbody tr th:only-of-type {\n",
       "        vertical-align: middle;\n",
       "    }\n",
       "\n",
       "    .dataframe tbody tr th {\n",
       "        vertical-align: top;\n",
       "    }\n",
       "\n",
       "    .dataframe thead th {\n",
       "        text-align: right;\n",
       "    }\n",
       "</style>\n",
       "<table border=\"1\" class=\"dataframe\">\n",
       "  <thead>\n",
       "    <tr style=\"text-align: right;\">\n",
       "      <th></th>\n",
       "      <th>RD_Spend</th>\n",
       "      <th>Administration</th>\n",
       "      <th>Marketing_Spend</th>\n",
       "      <th>State</th>\n",
       "      <th>Profit</th>\n",
       "    </tr>\n",
       "  </thead>\n",
       "  <tbody>\n",
       "    <tr>\n",
       "      <th>0</th>\n",
       "      <td>28663.76</td>\n",
       "      <td>127056.21</td>\n",
       "      <td>201126.82</td>\n",
       "      <td>Florida</td>\n",
       "      <td>90708.19</td>\n",
       "    </tr>\n",
       "    <tr>\n",
       "      <th>1</th>\n",
       "      <td>15505.73</td>\n",
       "      <td>127382.30</td>\n",
       "      <td>35534.17</td>\n",
       "      <td>New York</td>\n",
       "      <td>69758.98</td>\n",
       "    </tr>\n",
       "    <tr>\n",
       "      <th>2</th>\n",
       "      <td>94657.16</td>\n",
       "      <td>145077.58</td>\n",
       "      <td>282574.31</td>\n",
       "      <td>New York</td>\n",
       "      <td>125370.37</td>\n",
       "    </tr>\n",
       "    <tr>\n",
       "      <th>3</th>\n",
       "      <td>101913.08</td>\n",
       "      <td>110594.11</td>\n",
       "      <td>229160.95</td>\n",
       "      <td>Florida</td>\n",
       "      <td>146121.95</td>\n",
       "    </tr>\n",
       "    <tr>\n",
       "      <th>4</th>\n",
       "      <td>78389.47</td>\n",
       "      <td>153773.43</td>\n",
       "      <td>299737.29</td>\n",
       "      <td>New York</td>\n",
       "      <td>111313.02</td>\n",
       "    </tr>\n",
       "  </tbody>\n",
       "</table>\n",
       "</div>"
      ],
      "text/plain": [
       "    RD_Spend  Administration  Marketing_Spend     State     Profit\n",
       "0   28663.76       127056.21        201126.82   Florida   90708.19\n",
       "1   15505.73       127382.30         35534.17  New York   69758.98\n",
       "2   94657.16       145077.58        282574.31  New York  125370.37\n",
       "3  101913.08       110594.11        229160.95   Florida  146121.95\n",
       "4   78389.47       153773.43        299737.29  New York  111313.02"
      ]
     },
     "execution_count": 42,
     "metadata": {},
     "output_type": "execute_result"
    }
   ],
   "source": [
    "#重设train数据的行索引\n",
    "train.index = range(train.shape[0])\n",
    "train.head()"
   ]
  },
  {
   "cell_type": "code",
   "execution_count": 43,
   "id": "7d458a81",
   "metadata": {},
   "outputs": [
    {
     "data": {
      "text/html": [
       "<div>\n",
       "<style scoped>\n",
       "    .dataframe tbody tr th:only-of-type {\n",
       "        vertical-align: middle;\n",
       "    }\n",
       "\n",
       "    .dataframe tbody tr th {\n",
       "        vertical-align: top;\n",
       "    }\n",
       "\n",
       "    .dataframe thead th {\n",
       "        text-align: right;\n",
       "    }\n",
       "</style>\n",
       "<table border=\"1\" class=\"dataframe\">\n",
       "  <thead>\n",
       "    <tr style=\"text-align: right;\">\n",
       "      <th></th>\n",
       "      <th>RD_Spend</th>\n",
       "      <th>Administration</th>\n",
       "      <th>Marketing_Spend</th>\n",
       "      <th>State</th>\n",
       "      <th>Profit</th>\n",
       "      <th>leverage</th>\n",
       "      <th>dffits</th>\n",
       "      <th>resid_stu</th>\n",
       "      <th>cook</th>\n",
       "    </tr>\n",
       "  </thead>\n",
       "  <tbody>\n",
       "    <tr>\n",
       "      <th>0</th>\n",
       "      <td>28663.76</td>\n",
       "      <td>127056.21</td>\n",
       "      <td>201126.82</td>\n",
       "      <td>Florida</td>\n",
       "      <td>90708.19</td>\n",
       "      <td>0.066517</td>\n",
       "      <td>0.466410</td>\n",
       "      <td>1.747255</td>\n",
       "      <td>0.068601</td>\n",
       "    </tr>\n",
       "    <tr>\n",
       "      <th>1</th>\n",
       "      <td>15505.73</td>\n",
       "      <td>127382.30</td>\n",
       "      <td>35534.17</td>\n",
       "      <td>New York</td>\n",
       "      <td>69758.98</td>\n",
       "      <td>0.093362</td>\n",
       "      <td>0.221230</td>\n",
       "      <td>0.689408</td>\n",
       "      <td>0.016556</td>\n",
       "    </tr>\n",
       "    <tr>\n",
       "      <th>2</th>\n",
       "      <td>94657.16</td>\n",
       "      <td>145077.58</td>\n",
       "      <td>282574.31</td>\n",
       "      <td>New York</td>\n",
       "      <td>125370.37</td>\n",
       "      <td>0.032741</td>\n",
       "      <td>-0.156225</td>\n",
       "      <td>-0.849138</td>\n",
       "      <td>0.008199</td>\n",
       "    </tr>\n",
       "    <tr>\n",
       "      <th>3</th>\n",
       "      <td>101913.08</td>\n",
       "      <td>110594.11</td>\n",
       "      <td>229160.95</td>\n",
       "      <td>Florida</td>\n",
       "      <td>146121.95</td>\n",
       "      <td>0.039600</td>\n",
       "      <td>0.270677</td>\n",
       "      <td>1.332998</td>\n",
       "      <td>0.023906</td>\n",
       "    </tr>\n",
       "    <tr>\n",
       "      <th>4</th>\n",
       "      <td>78389.47</td>\n",
       "      <td>153773.43</td>\n",
       "      <td>299737.29</td>\n",
       "      <td>New York</td>\n",
       "      <td>111313.02</td>\n",
       "      <td>0.042983</td>\n",
       "      <td>-0.228563</td>\n",
       "      <td>-1.078496</td>\n",
       "      <td>0.017335</td>\n",
       "    </tr>\n",
       "  </tbody>\n",
       "</table>\n",
       "</div>"
      ],
      "text/plain": [
       "    RD_Spend  Administration  Marketing_Spend     State     Profit  leverage  \\\n",
       "0   28663.76       127056.21        201126.82   Florida   90708.19  0.066517   \n",
       "1   15505.73       127382.30         35534.17  New York   69758.98  0.093362   \n",
       "2   94657.16       145077.58        282574.31  New York  125370.37  0.032741   \n",
       "3  101913.08       110594.11        229160.95   Florida  146121.95  0.039600   \n",
       "4   78389.47       153773.43        299737.29  New York  111313.02  0.042983   \n",
       "\n",
       "     dffits  resid_stu      cook  \n",
       "0  0.466410   1.747255  0.068601  \n",
       "1  0.221230   0.689408  0.016556  \n",
       "2 -0.156225  -0.849138  0.008199  \n",
       "3  0.270677   1.332998  0.023906  \n",
       "4 -0.228563  -1.078496  0.017335  "
      ]
     },
     "execution_count": 43,
     "metadata": {},
     "output_type": "execute_result"
    }
   ],
   "source": [
    "#将train与异常值统计量合并\n",
    "profit_outliers = pd.concat([train, concat1], axis=1)\n",
    "profit_outliers.head()"
   ]
  },
  {
   "cell_type": "markdown",
   "id": "e68aa9b9",
   "metadata": {},
   "source": [
    "使用标准化残差作为异常值判定标准：当标准化残差的绝对值大于2时，即认为对应的数据点为异常值"
   ]
  },
  {
   "cell_type": "markdown",
   "id": "2c01ff56",
   "metadata": {},
   "source": [
    "numpy.where(condition, x, y)\n",
    "满足condition则输出x，否则输出y"
   ]
  },
  {
   "cell_type": "code",
   "execution_count": 50,
   "id": "7df8d881",
   "metadata": {},
   "outputs": [
    {
     "data": {
      "text/plain": [
       "0.02564102564102564"
      ]
     },
     "execution_count": 50,
     "metadata": {},
     "output_type": "execute_result"
    }
   ],
   "source": [
    "import numpy as np\n",
    "#计算异常值的比例\n",
    "outliers_ratio = sum(np.where((np.abs(profit_outliers.resid_stu)>2),1,0))/profit_outliers.shape[0]\n",
    "outliers_ratio"
   ]
  },
  {
   "cell_type": "markdown",
   "id": "7d831225",
   "metadata": {},
   "source": [
    "对于异常值的处理：  \n",
    "如果异常样本的比例不高（比如小于等于5%），可以考虑将异常点删除；如果异常值样本的比例比较高，选择删除会丢失一些重要信息，所以需要衍生哑变量，即对于异常点设置哑变量为1，否则为0"
   ]
  },
  {
   "cell_type": "code",
   "execution_count": 55,
   "id": "9a7249be",
   "metadata": {},
   "outputs": [
    {
     "data": {
      "text/html": [
       "<div>\n",
       "<style scoped>\n",
       "    .dataframe tbody tr th:only-of-type {\n",
       "        vertical-align: middle;\n",
       "    }\n",
       "\n",
       "    .dataframe tbody tr th {\n",
       "        vertical-align: top;\n",
       "    }\n",
       "\n",
       "    .dataframe thead th {\n",
       "        text-align: right;\n",
       "    }\n",
       "</style>\n",
       "<table border=\"1\" class=\"dataframe\">\n",
       "  <thead>\n",
       "    <tr style=\"text-align: right;\">\n",
       "      <th></th>\n",
       "      <th>RD_Spend</th>\n",
       "      <th>Administration</th>\n",
       "      <th>Marketing_Spend</th>\n",
       "      <th>State</th>\n",
       "      <th>Profit</th>\n",
       "      <th>leverage</th>\n",
       "      <th>dffits</th>\n",
       "      <th>resid_stu</th>\n",
       "      <th>cook</th>\n",
       "    </tr>\n",
       "  </thead>\n",
       "  <tbody>\n",
       "    <tr>\n",
       "      <th>0</th>\n",
       "      <td>28663.76</td>\n",
       "      <td>127056.21</td>\n",
       "      <td>201126.82</td>\n",
       "      <td>Florida</td>\n",
       "      <td>90708.19</td>\n",
       "      <td>0.066517</td>\n",
       "      <td>0.466410</td>\n",
       "      <td>1.747255</td>\n",
       "      <td>0.068601</td>\n",
       "    </tr>\n",
       "    <tr>\n",
       "      <th>1</th>\n",
       "      <td>15505.73</td>\n",
       "      <td>127382.30</td>\n",
       "      <td>35534.17</td>\n",
       "      <td>New York</td>\n",
       "      <td>69758.98</td>\n",
       "      <td>0.093362</td>\n",
       "      <td>0.221230</td>\n",
       "      <td>0.689408</td>\n",
       "      <td>0.016556</td>\n",
       "    </tr>\n",
       "    <tr>\n",
       "      <th>2</th>\n",
       "      <td>94657.16</td>\n",
       "      <td>145077.58</td>\n",
       "      <td>282574.31</td>\n",
       "      <td>New York</td>\n",
       "      <td>125370.37</td>\n",
       "      <td>0.032741</td>\n",
       "      <td>-0.156225</td>\n",
       "      <td>-0.849138</td>\n",
       "      <td>0.008199</td>\n",
       "    </tr>\n",
       "    <tr>\n",
       "      <th>3</th>\n",
       "      <td>101913.08</td>\n",
       "      <td>110594.11</td>\n",
       "      <td>229160.95</td>\n",
       "      <td>Florida</td>\n",
       "      <td>146121.95</td>\n",
       "      <td>0.039600</td>\n",
       "      <td>0.270677</td>\n",
       "      <td>1.332998</td>\n",
       "      <td>0.023906</td>\n",
       "    </tr>\n",
       "    <tr>\n",
       "      <th>4</th>\n",
       "      <td>78389.47</td>\n",
       "      <td>153773.43</td>\n",
       "      <td>299737.29</td>\n",
       "      <td>New York</td>\n",
       "      <td>111313.02</td>\n",
       "      <td>0.042983</td>\n",
       "      <td>-0.228563</td>\n",
       "      <td>-1.078496</td>\n",
       "      <td>0.017335</td>\n",
       "    </tr>\n",
       "  </tbody>\n",
       "</table>\n",
       "</div>"
      ],
      "text/plain": [
       "    RD_Spend  Administration  Marketing_Spend     State     Profit  leverage  \\\n",
       "0   28663.76       127056.21        201126.82   Florida   90708.19  0.066517   \n",
       "1   15505.73       127382.30         35534.17  New York   69758.98  0.093362   \n",
       "2   94657.16       145077.58        282574.31  New York  125370.37  0.032741   \n",
       "3  101913.08       110594.11        229160.95   Florida  146121.95  0.039600   \n",
       "4   78389.47       153773.43        299737.29  New York  111313.02  0.042983   \n",
       "\n",
       "     dffits  resid_stu      cook  \n",
       "0  0.466410   1.747255  0.068601  \n",
       "1  0.221230   0.689408  0.016556  \n",
       "2 -0.156225  -0.849138  0.008199  \n",
       "3  0.270677   1.332998  0.023906  \n",
       "4 -0.228563  -1.078496  0.017335  "
      ]
     },
     "execution_count": 55,
     "metadata": {},
     "output_type": "execute_result"
    }
   ],
   "source": [
    "#挑选出非异常的观测点\n",
    "none_outliers = profit_outliers[np.abs(profit_outliers.resid_stu)<=2]\n",
    "none_outliers.head()"
   ]
  },
  {
   "cell_type": "code",
   "execution_count": 56,
   "id": "f65255fc",
   "metadata": {},
   "outputs": [
    {
     "data": {
      "text/plain": [
       "Intercept          51827.416821\n",
       "RD_Spend               0.797038\n",
       "Marketing_Spend        0.017740\n",
       "dtype: float64"
      ]
     },
     "execution_count": 56,
     "metadata": {},
     "output_type": "execute_result"
    }
   ],
   "source": [
    "#应用无异常值得数据集重新建模\n",
    "model4 = sm.formula.ols('Profit ~ RD_Spend+Marketing_Spend', data=none_outliers).fit()\n",
    "model4.params"
   ]
  },
  {
   "cell_type": "code",
   "execution_count": 57,
   "id": "b7d87474",
   "metadata": {},
   "outputs": [
    {
     "data": {
      "text/html": [
       "<div>\n",
       "<style scoped>\n",
       "    .dataframe tbody tr th:only-of-type {\n",
       "        vertical-align: middle;\n",
       "    }\n",
       "\n",
       "    .dataframe tbody tr th {\n",
       "        vertical-align: top;\n",
       "    }\n",
       "\n",
       "    .dataframe thead th {\n",
       "        text-align: right;\n",
       "    }\n",
       "</style>\n",
       "<table border=\"1\" class=\"dataframe\">\n",
       "  <thead>\n",
       "    <tr style=\"text-align: right;\">\n",
       "      <th></th>\n",
       "      <th>Predict</th>\n",
       "      <th>Real</th>\n",
       "      <th>Difference</th>\n",
       "      <th>Precent</th>\n",
       "    </tr>\n",
       "  </thead>\n",
       "  <tbody>\n",
       "    <tr>\n",
       "      <th>8</th>\n",
       "      <td>153432.247049</td>\n",
       "      <td>152211.77</td>\n",
       "      <td>1220.477049</td>\n",
       "      <td>0.80%</td>\n",
       "    </tr>\n",
       "    <tr>\n",
       "      <th>48</th>\n",
       "      <td>52259.451168</td>\n",
       "      <td>35673.41</td>\n",
       "      <td>16586.041168</td>\n",
       "      <td>31.74%</td>\n",
       "    </tr>\n",
       "    <tr>\n",
       "      <th>14</th>\n",
       "      <td>151977.141752</td>\n",
       "      <td>132602.65</td>\n",
       "      <td>19374.491752</td>\n",
       "      <td>12.75%</td>\n",
       "    </tr>\n",
       "    <tr>\n",
       "      <th>42</th>\n",
       "      <td>73295.606990</td>\n",
       "      <td>71498.49</td>\n",
       "      <td>1797.116990</td>\n",
       "      <td>2.45%</td>\n",
       "    </tr>\n",
       "    <tr>\n",
       "      <th>29</th>\n",
       "      <td>106018.053241</td>\n",
       "      <td>101004.64</td>\n",
       "      <td>5013.413241</td>\n",
       "      <td>4.73%</td>\n",
       "    </tr>\n",
       "    <tr>\n",
       "      <th>44</th>\n",
       "      <td>70006.559786</td>\n",
       "      <td>65200.33</td>\n",
       "      <td>4806.229786</td>\n",
       "      <td>6.87%</td>\n",
       "    </tr>\n",
       "    <tr>\n",
       "      <th>4</th>\n",
       "      <td>171588.008207</td>\n",
       "      <td>166187.94</td>\n",
       "      <td>5400.068207</td>\n",
       "      <td>3.15%</td>\n",
       "    </tr>\n",
       "    <tr>\n",
       "      <th>31</th>\n",
       "      <td>102120.376355</td>\n",
       "      <td>97483.56</td>\n",
       "      <td>4636.816355</td>\n",
       "      <td>4.54%</td>\n",
       "    </tr>\n",
       "    <tr>\n",
       "      <th>13</th>\n",
       "      <td>129630.995695</td>\n",
       "      <td>134307.35</td>\n",
       "      <td>-4676.354305</td>\n",
       "      <td>-3.61%</td>\n",
       "    </tr>\n",
       "    <tr>\n",
       "      <th>18</th>\n",
       "      <td>130186.711028</td>\n",
       "      <td>124266.90</td>\n",
       "      <td>5919.811028</td>\n",
       "      <td>4.55%</td>\n",
       "    </tr>\n",
       "  </tbody>\n",
       "</table>\n",
       "</div>"
      ],
      "text/plain": [
       "          Predict       Real    Difference Precent\n",
       "8   153432.247049  152211.77   1220.477049   0.80%\n",
       "48   52259.451168   35673.41  16586.041168  31.74%\n",
       "14  151977.141752  132602.65  19374.491752  12.75%\n",
       "42   73295.606990   71498.49   1797.116990   2.45%\n",
       "29  106018.053241  101004.64   5013.413241   4.73%\n",
       "44   70006.559786   65200.33   4806.229786   6.87%\n",
       "4   171588.008207  166187.94   5400.068207   3.15%\n",
       "31  102120.376355   97483.56   4636.816355   4.54%\n",
       "13  129630.995695  134307.35  -4676.354305  -3.61%\n",
       "18  130186.711028  124266.90   5919.811028   4.55%"
      ]
     },
     "execution_count": 57,
     "metadata": {},
     "output_type": "execute_result"
    }
   ],
   "source": [
    "pred = model4.predict(exog=test_x)\n",
    "difference = pred - test.Profit\n",
    "pd.DataFrame({'Predict':pred, 'Real':test.Profit, 'Difference':difference, 'Precent':(difference/pred).map(lambda x: format(x, '.2%'))})"
   ]
  },
  {
   "cell_type": "markdown",
   "id": "387e0c2b",
   "metadata": {},
   "source": [
    "修正模型：Profit = 51827.42 + 0.80RD_Spend + 0.018Marketing_Spend"
   ]
  },
  {
   "cell_type": "markdown",
   "id": "a33b229a",
   "metadata": {},
   "source": [
    "## 独立性检验"
   ]
  },
  {
   "cell_type": "code",
   "execution_count": 58,
   "id": "061d07bd",
   "metadata": {},
   "outputs": [
    {
     "data": {
      "text/html": [
       "<table class=\"simpletable\">\n",
       "<caption>OLS Regression Results</caption>\n",
       "<tr>\n",
       "  <th>Dep. Variable:</th>         <td>Profit</td>      <th>  R-squared:         </th> <td>   0.967</td>\n",
       "</tr>\n",
       "<tr>\n",
       "  <th>Model:</th>                   <td>OLS</td>       <th>  Adj. R-squared:    </th> <td>   0.966</td>\n",
       "</tr>\n",
       "<tr>\n",
       "  <th>Method:</th>             <td>Least Squares</td>  <th>  F-statistic:       </th> <td>   520.7</td>\n",
       "</tr>\n",
       "<tr>\n",
       "  <th>Date:</th>             <td>Tue, 06 Jul 2021</td> <th>  Prob (F-statistic):</th> <td>9.16e-27</td>\n",
       "</tr>\n",
       "<tr>\n",
       "  <th>Time:</th>                 <td>10:29:17</td>     <th>  Log-Likelihood:    </th> <td> -389.18</td>\n",
       "</tr>\n",
       "<tr>\n",
       "  <th>No. Observations:</th>      <td>    38</td>      <th>  AIC:               </th> <td>   784.4</td>\n",
       "</tr>\n",
       "<tr>\n",
       "  <th>Df Residuals:</th>          <td>    35</td>      <th>  BIC:               </th> <td>   789.3</td>\n",
       "</tr>\n",
       "<tr>\n",
       "  <th>Df Model:</th>              <td>     2</td>      <th>                     </th>     <td> </td>   \n",
       "</tr>\n",
       "<tr>\n",
       "  <th>Covariance Type:</th>      <td>nonrobust</td>    <th>                     </th>     <td> </td>   \n",
       "</tr>\n",
       "</table>\n",
       "<table class=\"simpletable\">\n",
       "<tr>\n",
       "         <td></td>            <th>coef</th>     <th>std err</th>      <th>t</th>      <th>P>|t|</th>  <th>[0.025</th>    <th>0.975]</th>  \n",
       "</tr>\n",
       "<tr>\n",
       "  <th>Intercept</th>       <td> 5.183e+04</td> <td> 2501.192</td> <td>   20.721</td> <td> 0.000</td> <td> 4.67e+04</td> <td> 5.69e+04</td>\n",
       "</tr>\n",
       "<tr>\n",
       "  <th>RD_Spend</th>        <td>    0.7970</td> <td>    0.034</td> <td>   23.261</td> <td> 0.000</td> <td>    0.727</td> <td>    0.867</td>\n",
       "</tr>\n",
       "<tr>\n",
       "  <th>Marketing_Spend</th> <td>    0.0177</td> <td>    0.013</td> <td>    1.391</td> <td> 0.173</td> <td>   -0.008</td> <td>    0.044</td>\n",
       "</tr>\n",
       "</table>\n",
       "<table class=\"simpletable\">\n",
       "<tr>\n",
       "  <th>Omnibus:</th>       <td> 7.188</td> <th>  Durbin-Watson:     </th> <td>   2.065</td>\n",
       "</tr>\n",
       "<tr>\n",
       "  <th>Prob(Omnibus):</th> <td> 0.027</td> <th>  Jarque-Bera (JB):  </th> <td>   2.744</td>\n",
       "</tr>\n",
       "<tr>\n",
       "  <th>Skew:</th>          <td> 0.321</td> <th>  Prob(JB):          </th> <td>   0.254</td>\n",
       "</tr>\n",
       "<tr>\n",
       "  <th>Kurtosis:</th>      <td> 1.851</td> <th>  Cond. No.          </th> <td>5.75e+05</td>\n",
       "</tr>\n",
       "</table><br/><br/>Notes:<br/>[1] Standard Errors assume that the covariance matrix of the errors is correctly specified.<br/>[2] The condition number is large, 5.75e+05. This might indicate that there are<br/>strong multicollinearity or other numerical problems."
      ],
      "text/plain": [
       "<class 'statsmodels.iolib.summary.Summary'>\n",
       "\"\"\"\n",
       "                            OLS Regression Results                            \n",
       "==============================================================================\n",
       "Dep. Variable:                 Profit   R-squared:                       0.967\n",
       "Model:                            OLS   Adj. R-squared:                  0.966\n",
       "Method:                 Least Squares   F-statistic:                     520.7\n",
       "Date:                Tue, 06 Jul 2021   Prob (F-statistic):           9.16e-27\n",
       "Time:                        10:29:17   Log-Likelihood:                -389.18\n",
       "No. Observations:                  38   AIC:                             784.4\n",
       "Df Residuals:                      35   BIC:                             789.3\n",
       "Df Model:                           2                                         \n",
       "Covariance Type:            nonrobust                                         \n",
       "===================================================================================\n",
       "                      coef    std err          t      P>|t|      [0.025      0.975]\n",
       "-----------------------------------------------------------------------------------\n",
       "Intercept        5.183e+04   2501.192     20.721      0.000    4.67e+04    5.69e+04\n",
       "RD_Spend            0.7970      0.034     23.261      0.000       0.727       0.867\n",
       "Marketing_Spend     0.0177      0.013      1.391      0.173      -0.008       0.044\n",
       "==============================================================================\n",
       "Omnibus:                        7.188   Durbin-Watson:                   2.065\n",
       "Prob(Omnibus):                  0.027   Jarque-Bera (JB):                2.744\n",
       "Skew:                           0.321   Prob(JB):                        0.254\n",
       "Kurtosis:                       1.851   Cond. No.                     5.75e+05\n",
       "==============================================================================\n",
       "\n",
       "Notes:\n",
       "[1] Standard Errors assume that the covariance matrix of the errors is correctly specified.\n",
       "[2] The condition number is large, 5.75e+05. This might indicate that there are\n",
       "strong multicollinearity or other numerical problems.\n",
       "\"\"\""
      ]
     },
     "execution_count": 58,
     "metadata": {},
     "output_type": "execute_result"
    }
   ],
   "source": [
    "model4.summary()"
   ]
  },
  {
   "cell_type": "markdown",
   "id": "8c71377c",
   "metadata": {},
   "source": [
    "残差的独立性检验，也是对因变量y的独立性检验，通常使用Durbin-Watson统计量值测试；如果DW值在2左右，则表明残差项之间是不相关的；如果与2偏离较远，则说明不满足残差的独立性假设"
   ]
  },
  {
   "cell_type": "markdown",
   "id": "dcce8f01",
   "metadata": {},
   "source": [
    "模型4中的DW值比较接近于2，可认为模型的残差项之间满足独立性"
   ]
  },
  {
   "cell_type": "markdown",
   "id": "8aa27212",
   "metadata": {},
   "source": [
    "## 方差齐性检验"
   ]
  },
  {
   "cell_type": "markdown",
   "id": "a898ce11",
   "metadata": {},
   "source": [
    "方差齐性检验：要求模型残差项的方差不随自变量的变动而呈现某种趋势，否则残差的趋势可以被自变量所刻画"
   ]
  },
  {
   "cell_type": "markdown",
   "id": "e769d9bc",
   "metadata": {},
   "source": [
    "### 图形法"
   ]
  },
  {
   "cell_type": "markdown",
   "id": "5c8d2797",
   "metadata": {},
   "source": [
    "绘制残差与自变量之间的散点图，就可以发现二者之间是否存在某种趋势"
   ]
  },
  {
   "cell_type": "code",
   "execution_count": 61,
   "id": "f4aaa8fd",
   "metadata": {},
   "outputs": [
    {
     "data": {
      "image/png": "[encoded data removed]",
      "text/plain": [
       "<Figure size 432x288 with 2 Axes>"
      ]
     },
     "metadata": {
      "needs_background": "light"
     },
     "output_type": "display_data"
    }
   ],
   "source": [
    "#设置第一张子图\n",
    "ax1 = plt.subplot2grid(shape=(2, 1), loc=(0, 0))\n",
    "#绘制散点图\n",
    "ax1.scatter(none_outliers.RD_Spend, (model4.resid-model4.resid.mean())/model4.resid.std())\n",
    "#添加水平参考线\n",
    "ax1.hlines(y=0, xmin=none_outliers.RD_Spend.min(), xmax=none_outliers.RD_Spend.max(), color='red', linestyle='--')\n",
    "ax1.set_xlabel('RD_Spend')\n",
    "ax1.set_ylabel('Std_Residual')\n",
    "\n",
    "#变量Marketing_Spend\n",
    "ax2 = plt.subplot2grid(shape=(2, 1), loc=(1, 0))\n",
    "ax2.scatter(none_outliers.Marketing_Spend, (model4.resid-model4.resid.mean())/model4.resid.std())\n",
    "ax2.hlines(y=0, xmin=none_outliers.Marketing_Spend.min(), xmax=none_outliers.Marketing_Spend.max(), color='red', linestyle='--')\n",
    "ax2.set_xlabel('Marketing_Spend')\n",
    "ax2.set_ylabel('Std_Residual')\n",
    "\n",
    "#设置子图之间的水平间距和高度间距\n",
    "plt.subplots_adjust(hspace=0.6, wspace=0.3)\n",
    "\n",
    "plt.show()"
   ]
  },
  {
   "cell_type": "markdown",
   "id": "bf1add04",
   "metadata": {},
   "source": [
    "残差并没有随着自变量的变动而呈现喇叭形，所有的散点几乎均匀的分布在参考线y=0附件，说明模型的残差项满足方差齐性的前提假设"
   ]
  },
  {
   "cell_type": "markdown",
   "id": "d504a76c",
   "metadata": {},
   "source": [
    "### BP检验"
   ]
  },
  {
   "cell_type": "markdown",
   "id": "5c2f54cb",
   "metadata": {},
   "source": [
    "原假设是残差的方差为一个常数，通过构造拉格朗日乘子LM统计量，实现方差齐性检验"
   ]
  },
  {
   "cell_type": "code",
   "execution_count": 63,
   "id": "282b1128",
   "metadata": {},
   "outputs": [
    {
     "data": {
      "text/plain": [
       "(1.4675103668307752,\n",
       " 0.48010272699007805,\n",
       " 0.7029751237162184,\n",
       " 0.5019659740963014)"
      ]
     },
     "execution_count": 63,
     "metadata": {},
     "output_type": "execute_result"
    }
   ],
   "source": [
    "sm.stats.diagnostic.het_breuschpagan(model4.resid, exog_het=model4.model.exog)"
   ]
  },
  {
   "cell_type": "markdown",
   "id": "0c162f14",
   "metadata": {},
   "source": [
    "元组中包含四个值：  \n",
    "第一个值为LM统计量  \n",
    "第二个值是统计量对应的概率p值， 该值大于0.05，说明接受残差方差为常数的原假设   \n",
    "第三个值是F统计量，用于检验残差平方项与自变量之间是否独立，如果独立则表明残差方差齐性   \n",
    "第四个值为F统计量的概率p值，同样大于0.05，则进一步表明残差项满足方差齐性假设  "
   ]
  },
  {
   "cell_type": "markdown",
   "id": "9e4451cb",
   "metadata": {},
   "source": [
    "### 残差不满足方差齐性"
   ]
  },
  {
   "cell_type": "markdown",
   "id": "c31b103d",
   "metadata": {},
   "source": [
    "如果模型的残差不满足齐性的条件：  \n",
    "模型变换法：主要是考虑残差与自变量之间的关系，如果残差与某个自变量x成正比，则需要将原模型的两边同时除以根号x；如果残差与某个自变量x的平方成正比，则需要将原始模型的两边同时除以x  \n",
    "加权最小二乘法：确定权重：残差的绝对值的倒数作为权重；残差平方的倒数作为权重；用残差的平方对数与自变量x重新拟合建模，并将得到的拟合值取指数，用指数的倒数作为权重"
   ]
  },
  {
   "cell_type": "markdown",
   "id": "e3abf3cf",
   "metadata": {},
   "source": [
    "# 回归模型的预测"
   ]
  },
  {
   "cell_type": "code",
   "execution_count": 65,
   "id": "95dc758a",
   "metadata": {},
   "outputs": [
    {
     "data": {
      "text/plain": [
       "8     153432.247049\n",
       "48     52259.451168\n",
       "14    151977.141752\n",
       "42     73295.606990\n",
       "29    106018.053241\n",
       "dtype: float64"
      ]
     },
     "execution_count": 65,
     "metadata": {},
     "output_type": "execute_result"
    }
   ],
   "source": [
    "#模型对测试集的预测\n",
    "pred4 = model4.predict(exog=test[['RD_Spend', 'Marketing_Spend']])\n",
    "pred4.head()"
   ]
  },
  {
   "cell_type": "code",
   "execution_count": 67,
   "id": "a4cad5c5",
   "metadata": {},
   "outputs": [
    {
     "data": {
      "image/png": "[encoded data removed]",
      "text/plain": [
       "<Figure size 432x288 with 1 Axes>"
      ]
     },
     "metadata": {
      "needs_background": "light"
     },
     "output_type": "display_data"
    }
   ],
   "source": [
    "#绘制预测值与实际值的散点图\n",
    "plt.scatter(x=test.Profit, y=pred4)\n",
    "#添加斜率为1，截距项为0的参考线\n",
    "plt.plot([test.Profit.min(), test.Profit.max()], [test.Profit.min(), test.Profit.max()], color='red', linestyle='--')\n",
    "\n",
    "plt.xlabel('实际值')\n",
    "plt.ylabel('预测值')\n",
    "plt.show()"
   ]
  },
  {
   "cell_type": "markdown",
   "id": "2fdfb99c",
   "metadata": {},
   "source": [
    "该散点图可以用来衡量预测值与实际值之间的距离差异，如果非常接近，那么散点图会在对角线附件轻微波动"
   ]
  }
 ],
 "metadata": {
  "kernelspec": {
   "display_name": "Python 3",
   "language": "python",
   "name": "python3"
  },
  "language_info": {
   "codemirror_mode": {
    "name": "ipython",
    "version": 3
   },
   "file_extension": ".py",
   "mimetype": "text/x-python",
   "name": "python",
   "nbconvert_exporter": "python",
   "pygments_lexer": "ipython3",
   "version": "3.7.10"
  },
  "toc": {
   "base_numbering": 1,
   "nav_menu": {},
   "number_sections": true,
   "sideBar": true,
   "skip_h1_title": false,
   "title_cell": "Table of Contents",
   "title_sidebar": "Contents",
   "toc_cell": false,
   "toc_position": {},
   "toc_section_display": true,
   "toc_window_display": false
  }
 },
 "nbformat": 4,
 "nbformat_minor": 5
}
