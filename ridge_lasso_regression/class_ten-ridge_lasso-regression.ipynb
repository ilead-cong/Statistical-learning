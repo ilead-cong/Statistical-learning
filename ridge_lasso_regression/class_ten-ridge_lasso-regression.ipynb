{
 "cells": [
  {
   "cell_type": "markdown",
   "id": "7a3de8be",
   "metadata": {},
   "source": [
    "# 岭回归"
   ]
  },
  {
   "cell_type": "markdown",
   "id": "031ad20a",
   "metadata": {},
   "source": [
    "## 岭回归模型"
   ]
  },
  {
   "cell_type": "markdown",
   "id": "dd6873f1",
   "metadata": {},
   "source": [
    "![jupyter](./class_ten_1.png)"
   ]
  },
  {
   "cell_type": "markdown",
   "id": "9e21db67",
   "metadata": {},
   "source": [
    "当自变量个数多于样本量或者自变量间存在多重共线性时，回归系数的估计值β将无法求解"
   ]
  },
  {
   "cell_type": "markdown",
   "id": "f22b4b1e",
   "metadata": {},
   "source": [
    "![jupyter](./class_ten_2.png)"
   ]
  },
  {
   "cell_type": "markdown",
   "id": "2c0957bd",
   "metadata": {},
   "source": [
    "岭回归模型，在线性回归模型的目标函数之上添加一个L2的正则项，进而使得模型的回归系数有解"
   ]
  },
  {
   "cell_type": "markdown",
   "id": "a75a63f2",
   "metadata": {},
   "source": [
    "![jupyter](./class_ten_3.png)"
   ]
  },
  {
   "cell_type": "markdown",
   "id": "c9810862",
   "metadata": {},
   "source": [
    "## 岭回归应用"
   ]
  },
  {
   "cell_type": "markdown",
   "id": "60035545",
   "metadata": {},
   "source": [
    "### 模型的lambda求解"
   ]
  },
  {
   "cell_type": "markdown",
   "id": "458a1538",
   "metadata": {},
   "source": [
    "#### 图形法\n",
    "sklearn的子模块linear_model中的Ridge"
   ]
  },
  {
   "cell_type": "markdown",
   "id": "1f5e534a",
   "metadata": {},
   "source": [
    "Ridge(alpha=1.0, fit_intercept=True, normalize=False, copy_X=True, max_iter=None, tol=0.001, solver='auto', random_state=None)  \n",
    "alpha：用于指定lambda值的参数，默认为1  \n",
    "fit_intercept：bool类型参数，是否需要拟合截距项，默认为True  \n",
    "normalize：bool类型参数，建模时是否需要对数据集做标准化处理，默认为False  \n",
    "copy_X：bool类型参数，是否复制自变量X的数值，默认为True  \n",
    "max_iter：用于指定模型的最大迭代次数  \n",
    "tol：用于指定模型收敛的阈值  \n",
    "solver：用于指定模型求解最优化问题的算法，默认为'auto'，表示模型根据数据集自动选择算法  \n",
    "random_state：用于指定随机数生成的种子"
   ]
  },
  {
   "cell_type": "code",
   "execution_count": 1,
   "id": "5feb1fab",
   "metadata": {},
   "outputs": [],
   "source": [
    "import pandas as pd\n",
    "import numpy as np\n",
    "from sklearn import model_selection\n",
    "from sklearn.linear_model import Ridge,RidgeCV\n",
    "import matplotlib.pyplot as plt"
   ]
  },
  {
   "cell_type": "code",
   "execution_count": 2,
   "id": "5e3c0453",
   "metadata": {},
   "outputs": [
    {
     "data": {
      "text/html": [
       "<div>\n",
       "<style scoped>\n",
       "    .dataframe tbody tr th:only-of-type {\n",
       "        vertical-align: middle;\n",
       "    }\n",
       "\n",
       "    .dataframe tbody tr th {\n",
       "        vertical-align: top;\n",
       "    }\n",
       "\n",
       "    .dataframe thead th {\n",
       "        text-align: right;\n",
       "    }\n",
       "</style>\n",
       "<table border=\"1\" class=\"dataframe\">\n",
       "  <thead>\n",
       "    <tr style=\"text-align: right;\">\n",
       "      <th></th>\n",
       "      <th>AGE</th>\n",
       "      <th>SEX</th>\n",
       "      <th>BMI</th>\n",
       "      <th>BP</th>\n",
       "      <th>S1</th>\n",
       "      <th>S2</th>\n",
       "      <th>S3</th>\n",
       "      <th>S4</th>\n",
       "      <th>S5</th>\n",
       "      <th>S6</th>\n",
       "      <th>Y</th>\n",
       "    </tr>\n",
       "  </thead>\n",
       "  <tbody>\n",
       "    <tr>\n",
       "      <th>0</th>\n",
       "      <td>59</td>\n",
       "      <td>2</td>\n",
       "      <td>32.1</td>\n",
       "      <td>101.0</td>\n",
       "      <td>157</td>\n",
       "      <td>93.2</td>\n",
       "      <td>38.0</td>\n",
       "      <td>4.0</td>\n",
       "      <td>4.8598</td>\n",
       "      <td>87</td>\n",
       "      <td>151</td>\n",
       "    </tr>\n",
       "    <tr>\n",
       "      <th>1</th>\n",
       "      <td>48</td>\n",
       "      <td>1</td>\n",
       "      <td>21.6</td>\n",
       "      <td>87.0</td>\n",
       "      <td>183</td>\n",
       "      <td>103.2</td>\n",
       "      <td>70.0</td>\n",
       "      <td>3.0</td>\n",
       "      <td>3.8918</td>\n",
       "      <td>69</td>\n",
       "      <td>75</td>\n",
       "    </tr>\n",
       "    <tr>\n",
       "      <th>2</th>\n",
       "      <td>72</td>\n",
       "      <td>2</td>\n",
       "      <td>30.5</td>\n",
       "      <td>93.0</td>\n",
       "      <td>156</td>\n",
       "      <td>93.6</td>\n",
       "      <td>41.0</td>\n",
       "      <td>4.0</td>\n",
       "      <td>4.6728</td>\n",
       "      <td>85</td>\n",
       "      <td>141</td>\n",
       "    </tr>\n",
       "    <tr>\n",
       "      <th>3</th>\n",
       "      <td>24</td>\n",
       "      <td>1</td>\n",
       "      <td>25.3</td>\n",
       "      <td>84.0</td>\n",
       "      <td>198</td>\n",
       "      <td>131.4</td>\n",
       "      <td>40.0</td>\n",
       "      <td>5.0</td>\n",
       "      <td>4.8903</td>\n",
       "      <td>89</td>\n",
       "      <td>206</td>\n",
       "    </tr>\n",
       "    <tr>\n",
       "      <th>4</th>\n",
       "      <td>50</td>\n",
       "      <td>1</td>\n",
       "      <td>23.0</td>\n",
       "      <td>101.0</td>\n",
       "      <td>192</td>\n",
       "      <td>125.4</td>\n",
       "      <td>52.0</td>\n",
       "      <td>4.0</td>\n",
       "      <td>4.2905</td>\n",
       "      <td>80</td>\n",
       "      <td>135</td>\n",
       "    </tr>\n",
       "  </tbody>\n",
       "</table>\n",
       "</div>"
      ],
      "text/plain": [
       "   AGE  SEX   BMI     BP   S1     S2    S3   S4      S5  S6    Y\n",
       "0   59    2  32.1  101.0  157   93.2  38.0  4.0  4.8598  87  151\n",
       "1   48    1  21.6   87.0  183  103.2  70.0  3.0  3.8918  69   75\n",
       "2   72    2  30.5   93.0  156   93.6  41.0  4.0  4.6728  85  141\n",
       "3   24    1  25.3   84.0  198  131.4  40.0  5.0  4.8903  89  206\n",
       "4   50    1  23.0  101.0  192  125.4  52.0  4.0  4.2905  80  135"
      ]
     },
     "execution_count": 2,
     "metadata": {},
     "output_type": "execute_result"
    }
   ],
   "source": [
    "diabetes = pd.read_excel(r'./data_class/diabetes.xlsx')\n",
    "diabetes.head()"
   ]
  },
  {
   "cell_type": "code",
   "execution_count": 7,
   "id": "bf36204d",
   "metadata": {},
   "outputs": [
    {
     "data": {
      "text/plain": [
       "Index(['BMI', 'BP', 'S1', 'S2', 'S3', 'S4', 'S5', 'S6'], dtype='object')"
      ]
     },
     "execution_count": 7,
     "metadata": {},
     "output_type": "execute_result"
    }
   ],
   "source": [
    "#剔除患者的性别、AGE和因变量Y\n",
    "predict_columns = diabetes.columns[2:-1]\n",
    "predict_columns"
   ]
  },
  {
   "cell_type": "code",
   "execution_count": 8,
   "id": "c240d908",
   "metadata": {},
   "outputs": [],
   "source": [
    "#拆分数据集\n",
    "X_train, X_test, Y_train, Y_test = model_selection.train_test_split(diabetes[predict_columns], diabetes['Y'], test_size=0.2, random_state=1234)"
   ]
  },
  {
   "cell_type": "code",
   "execution_count": 9,
   "id": "4a758121",
   "metadata": {},
   "outputs": [
    {
     "data": {
      "text/html": [
       "<div>\n",
       "<style scoped>\n",
       "    .dataframe tbody tr th:only-of-type {\n",
       "        vertical-align: middle;\n",
       "    }\n",
       "\n",
       "    .dataframe tbody tr th {\n",
       "        vertical-align: top;\n",
       "    }\n",
       "\n",
       "    .dataframe thead th {\n",
       "        text-align: right;\n",
       "    }\n",
       "</style>\n",
       "<table border=\"1\" class=\"dataframe\">\n",
       "  <thead>\n",
       "    <tr style=\"text-align: right;\">\n",
       "      <th></th>\n",
       "      <th>BMI</th>\n",
       "      <th>BP</th>\n",
       "      <th>S1</th>\n",
       "      <th>S2</th>\n",
       "      <th>S3</th>\n",
       "      <th>S4</th>\n",
       "      <th>S5</th>\n",
       "      <th>S6</th>\n",
       "    </tr>\n",
       "  </thead>\n",
       "  <tbody>\n",
       "    <tr>\n",
       "      <th>138</th>\n",
       "      <td>36.7</td>\n",
       "      <td>117.0</td>\n",
       "      <td>166</td>\n",
       "      <td>93.8</td>\n",
       "      <td>44.0</td>\n",
       "      <td>4.0</td>\n",
       "      <td>4.9488</td>\n",
       "      <td>109</td>\n",
       "    </tr>\n",
       "    <tr>\n",
       "      <th>382</th>\n",
       "      <td>32.0</td>\n",
       "      <td>88.0</td>\n",
       "      <td>172</td>\n",
       "      <td>69.0</td>\n",
       "      <td>38.0</td>\n",
       "      <td>4.0</td>\n",
       "      <td>5.7838</td>\n",
       "      <td>100</td>\n",
       "    </tr>\n",
       "    <tr>\n",
       "      <th>351</th>\n",
       "      <td>22.6</td>\n",
       "      <td>85.0</td>\n",
       "      <td>130</td>\n",
       "      <td>71.0</td>\n",
       "      <td>48.0</td>\n",
       "      <td>3.0</td>\n",
       "      <td>4.0073</td>\n",
       "      <td>81</td>\n",
       "    </tr>\n",
       "    <tr>\n",
       "      <th>373</th>\n",
       "      <td>25.4</td>\n",
       "      <td>93.0</td>\n",
       "      <td>141</td>\n",
       "      <td>79.0</td>\n",
       "      <td>49.0</td>\n",
       "      <td>3.0</td>\n",
       "      <td>4.1744</td>\n",
       "      <td>91</td>\n",
       "    </tr>\n",
       "    <tr>\n",
       "      <th>192</th>\n",
       "      <td>23.5</td>\n",
       "      <td>97.0</td>\n",
       "      <td>203</td>\n",
       "      <td>129.0</td>\n",
       "      <td>59.0</td>\n",
       "      <td>3.0</td>\n",
       "      <td>4.3175</td>\n",
       "      <td>77</td>\n",
       "    </tr>\n",
       "  </tbody>\n",
       "</table>\n",
       "</div>"
      ],
      "text/plain": [
       "      BMI     BP   S1     S2    S3   S4      S5   S6\n",
       "138  36.7  117.0  166   93.8  44.0  4.0  4.9488  109\n",
       "382  32.0   88.0  172   69.0  38.0  4.0  5.7838  100\n",
       "351  22.6   85.0  130   71.0  48.0  3.0  4.0073   81\n",
       "373  25.4   93.0  141   79.0  49.0  3.0  4.1744   91\n",
       "192  23.5   97.0  203  129.0  59.0  3.0  4.3175   77"
      ]
     },
     "execution_count": 9,
     "metadata": {},
     "output_type": "execute_result"
    }
   ],
   "source": [
    "X_train.head()"
   ]
  },
  {
   "cell_type": "code",
   "execution_count": 10,
   "id": "01bc7890",
   "metadata": {},
   "outputs": [
    {
     "data": {
      "text/plain": [
       "138    336\n",
       "382    132\n",
       "351     71\n",
       "373    168\n",
       "192     91\n",
       "Name: Y, dtype: int64"
      ]
     },
     "execution_count": 10,
     "metadata": {},
     "output_type": "execute_result"
    }
   ],
   "source": [
    "Y_train.head()"
   ]
  },
  {
   "cell_type": "code",
   "execution_count": 12,
   "id": "3ebf9b80",
   "metadata": {},
   "outputs": [
    {
     "data": {
      "text/plain": [
       "array([1.00000000e-05, 1.08436597e-05, 1.17584955e-05, 1.27505124e-05,\n",
       "       1.38262217e-05, 1.49926843e-05, 1.62575567e-05, 1.76291412e-05,\n",
       "       1.91164408e-05, 2.07292178e-05, 2.24780583e-05, 2.43744415e-05,\n",
       "       2.64308149e-05, 2.86606762e-05, 3.10786619e-05, 3.37006433e-05,\n",
       "       3.65438307e-05, 3.96268864e-05, 4.29700470e-05, 4.65952567e-05,\n",
       "       5.05263107e-05, 5.47890118e-05, 5.94113398e-05, 6.44236351e-05,\n",
       "       6.98587975e-05, 7.57525026e-05, 8.21434358e-05, 8.90735464e-05,\n",
       "       9.65883224e-05, 1.04737090e-04, 1.13573336e-04, 1.23155060e-04,\n",
       "       1.33545156e-04, 1.44811823e-04, 1.57029012e-04, 1.70276917e-04,\n",
       "       1.84642494e-04, 2.00220037e-04, 2.17111795e-04, 2.35428641e-04,\n",
       "       2.55290807e-04, 2.76828663e-04, 3.00183581e-04, 3.25508860e-04,\n",
       "       3.52970730e-04, 3.82749448e-04, 4.15040476e-04, 4.50055768e-04,\n",
       "       4.88025158e-04, 5.29197874e-04, 5.73844165e-04, 6.22257084e-04,\n",
       "       6.74754405e-04, 7.31680714e-04, 7.93409667e-04, 8.60346442e-04,\n",
       "       9.32930403e-04, 1.01163798e-03, 1.09698580e-03, 1.18953407e-03,\n",
       "       1.28989026e-03, 1.39871310e-03, 1.51671689e-03, 1.64467618e-03,\n",
       "       1.78343088e-03, 1.93389175e-03, 2.09704640e-03, 2.27396575e-03,\n",
       "       2.46581108e-03, 2.67384162e-03, 2.89942285e-03, 3.14403547e-03,\n",
       "       3.40928507e-03, 3.69691271e-03, 4.00880633e-03, 4.34701316e-03,\n",
       "       4.71375313e-03, 5.11143348e-03, 5.54266452e-03, 6.01027678e-03,\n",
       "       6.51733960e-03, 7.06718127e-03, 7.66341087e-03, 8.30994195e-03,\n",
       "       9.01101825e-03, 9.77124154e-03, 1.05956018e-02, 1.14895100e-02,\n",
       "       1.24588336e-02, 1.35099352e-02, 1.46497140e-02, 1.58856513e-02,\n",
       "       1.72258597e-02, 1.86791360e-02, 2.02550194e-02, 2.19638537e-02,\n",
       "       2.38168555e-02, 2.58261876e-02, 2.80050389e-02, 3.03677112e-02,\n",
       "       3.29297126e-02, 3.57078596e-02, 3.87203878e-02, 4.19870708e-02,\n",
       "       4.55293507e-02, 4.93704785e-02, 5.35356668e-02, 5.80522552e-02,\n",
       "       6.29498899e-02, 6.82607183e-02, 7.40196000e-02, 8.02643352e-02,\n",
       "       8.70359136e-02, 9.43787828e-02, 1.02341140e-01, 1.10975250e-01,\n",
       "       1.20337784e-01, 1.30490198e-01, 1.41499130e-01, 1.53436841e-01,\n",
       "       1.66381689e-01, 1.80418641e-01, 1.95639834e-01, 2.12145178e-01,\n",
       "       2.30043012e-01, 2.49450814e-01, 2.70495973e-01, 2.93316628e-01,\n",
       "       3.18062569e-01, 3.44896226e-01, 3.73993730e-01, 4.05546074e-01,\n",
       "       4.39760361e-01, 4.76861170e-01, 5.17092024e-01, 5.60716994e-01,\n",
       "       6.08022426e-01, 6.59318827e-01, 7.14942899e-01, 7.75259749e-01,\n",
       "       8.40665289e-01, 9.11588830e-01, 9.88495905e-01, 1.07189132e+00,\n",
       "       1.16232247e+00, 1.26038293e+00, 1.36671636e+00, 1.48202071e+00,\n",
       "       1.60705282e+00, 1.74263339e+00, 1.88965234e+00, 2.04907469e+00,\n",
       "       2.22194686e+00, 2.40940356e+00, 2.61267523e+00, 2.83309610e+00,\n",
       "       3.07211300e+00, 3.33129479e+00, 3.61234270e+00, 3.91710149e+00,\n",
       "       4.24757155e+00, 4.60592204e+00, 4.99450512e+00, 5.41587138e+00,\n",
       "       5.87278661e+00, 6.36824994e+00, 6.90551352e+00, 7.48810386e+00,\n",
       "       8.11984499e+00, 8.80488358e+00, 9.54771611e+00, 1.03532184e+01,\n",
       "       1.12266777e+01, 1.21738273e+01, 1.32008840e+01, 1.43145894e+01,\n",
       "       1.55222536e+01, 1.68318035e+01, 1.82518349e+01, 1.97916687e+01,\n",
       "       2.14614120e+01, 2.32720248e+01, 2.52353917e+01, 2.73644000e+01,\n",
       "       2.96730241e+01, 3.21764175e+01, 3.48910121e+01, 3.78346262e+01,\n",
       "       4.10265811e+01, 4.44878283e+01, 4.82410870e+01, 5.23109931e+01,\n",
       "       5.67242607e+01, 6.15098579e+01, 6.66991966e+01, 7.23263390e+01,\n",
       "       7.84282206e+01, 8.50448934e+01, 9.22197882e+01, 1.00000000e+02])"
      ]
     },
     "execution_count": 12,
     "metadata": {},
     "output_type": "execute_result"
    }
   ],
   "source": [
    "#构造不同的lambda值\n",
    "Lambdas = np.logspace(-5, 2, 200)\n",
    "Lambdas"
   ]
  },
  {
   "cell_type": "code",
   "execution_count": 14,
   "id": "b36d1fc0",
   "metadata": {},
   "outputs": [
    {
     "name": "stderr",
     "output_type": "stream",
     "text": [
      "Font 'default' does not have a glyph for '-' [U+2212], substituting with a dummy symbol.\n",
      "Font 'default' does not have a glyph for '-' [U+2212], substituting with a dummy symbol.\n",
      "Font 'default' does not have a glyph for '-' [U+2212], substituting with a dummy symbol.\n",
      "Font 'default' does not have a glyph for '-' [U+2212], substituting with a dummy symbol.\n",
      "Font 'default' does not have a glyph for '-' [U+2212], substituting with a dummy symbol.\n",
      "Font 'default' does not have a glyph for '-' [U+2212], substituting with a dummy symbol.\n",
      "Font 'default' does not have a glyph for '-' [U+2212], substituting with a dummy symbol.\n",
      "Font 'default' does not have a glyph for '-' [U+2212], substituting with a dummy symbol.\n",
      "Font 'default' does not have a glyph for '-' [U+2212], substituting with a dummy symbol.\n",
      "Font 'default' does not have a glyph for '-' [U+2212], substituting with a dummy symbol.\n",
      "Font 'default' does not have a glyph for '-' [U+2212], substituting with a dummy symbol.\n",
      "Font 'default' does not have a glyph for '-' [U+2212], substituting with a dummy symbol.\n",
      "Font 'default' does not have a glyph for '-' [U+2212], substituting with a dummy symbol.\n",
      "Font 'default' does not have a glyph for '-' [U+2212], substituting with a dummy symbol.\n",
      "Font 'default' does not have a glyph for '-' [U+2212], substituting with a dummy symbol.\n",
      "Font 'default' does not have a glyph for '-' [U+2212], substituting with a dummy symbol.\n",
      "Font 'default' does not have a glyph for '-' [U+2212], substituting with a dummy symbol.\n",
      "Font 'default' does not have a glyph for '-' [U+2212], substituting with a dummy symbol.\n",
      "Font 'default' does not have a glyph for '-' [U+2212], substituting with a dummy symbol.\n",
      "Font 'default' does not have a glyph for '-' [U+2212], substituting with a dummy symbol.\n"
     ]
    },
    {
     "data": {
      "image/png": "[encoded data removed]",
      "text/plain": [
       "<Figure size 432x288 with 1 Axes>"
      ]
     },
     "metadata": {},
     "output_type": "display_data"
    }
   ],
   "source": [
    "#构造空列表，用于存储模型的偏回归系数\n",
    "ridge_cofficients = []\n",
    "\n",
    "#循环迭代不同的lambda值\n",
    "for Lambda in Lambdas:\n",
    "    ridge = Ridge(alpha = Lambda, normalize=True)\n",
    "    ridge.fit(X_train, Y_train)\n",
    "    ridge_cofficients.append(ridge.coef_)\n",
    "\n",
    "#绘制alpha的对数与回归系数的关系\n",
    "#设置绘图风格\n",
    "plt.style.use('ggplot')\n",
    "plt.plot(Lambdas, ridge_cofficients)\n",
    "#对x轴做对数处理\n",
    "plt.xscale('log')\n",
    "plt.xlabel('Log(Lambda)')\n",
    "plt.ylabel('Cofficients')\n",
    "plt.show()"
   ]
  },
  {
   "cell_type": "markdown",
   "id": "ad989db7",
   "metadata": {},
   "source": [
    "按照Lambda的选择标准，Lambda=0.01时，绝大多数变量的回归系数趋于稳定，则取Lambda=0.01比较合适"
   ]
  },
  {
   "cell_type": "markdown",
   "id": "ba7ea142",
   "metadata": {},
   "source": [
    "#### 交叉验证法确定"
   ]
  },
  {
   "cell_type": "markdown",
   "id": "d9ebde8d",
   "metadata": {},
   "source": [
    "![jupyter](./class_ten_40.png)"
   ]
  },
  {
   "cell_type": "markdown",
   "id": "357d3fcb",
   "metadata": {},
   "source": [
    "K组交叉验证：  \n",
    "首先将数据集拆分成k个样本量大体相当的数据组，并且每个数据组和其他组都没有重叠的观测  \n",
    "然后从k组数据中挑出k-1组数据用于模型的训练，剩下一组数据用于模型的测试  \n",
    "以此类推将会得到k组训练集和测试集，每一组训练集和测试集都会对应一种模型和模型得分  \n",
    "所以对于每一个给定的lambda值都会得到k个模型以及对应的得分，最终以平均得分评估模型的优良  "
   ]
  },
  {
   "cell_type": "markdown",
   "id": "cae5d7fb",
   "metadata": {},
   "source": [
    "RidgeCV(alphas=(0.1, 1.0, 10.0), fit_intercept=True, normalize=False, scoring=None, cv=none, gv_mode=None, store_cv_values=False)  \n",
    "alphas：用于指定多个lambda值得元组或者数组对象，默认参数包含0.1、1和10三种值  \n",
    "fit_intercept：bool类型参数，是否需要拟合截距项，默认为True  \n",
    "normalize：bool类型参数，建模时是否需要对数据集做标准化处理，默认为False  \n",
    "scoring：指定用于评估模型的度量方法  \n",
    "cv：指定交叉验证的重数  \n",
    "gcv_mode：用于指定执行广义交叉验证的方法，当样本量大于特征数或自变量矩阵X为稀疏矩阵时，该参数使用'auto'；当该参数为'svd'时，表示通过矩阵X的奇异值分解方法执行广义交叉验证；当该参数为'engin'时，则表示通过矩阵XT\\*X的特征根分解方法执行广义交叉验证  \n",
    "store_cv_values：bool类型参数，是否在每一个Lambda值下都保存交叉验证得到的评估信息，默认为False，只有当cv参数为None时有效  "
   ]
  },
  {
   "cell_type": "code",
   "execution_count": 1,
   "id": "01766fff",
   "metadata": {},
   "outputs": [],
   "source": [
    "import pandas as pd\n",
    "import numpy as np\n",
    "from sklearn import model_selection\n",
    "from sklearn.linear_model import Ridge,RidgeCV\n",
    "import matplotlib.pyplot as plt"
   ]
  },
  {
   "cell_type": "code",
   "execution_count": 2,
   "id": "1d79c081",
   "metadata": {},
   "outputs": [
    {
     "data": {
      "text/html": [
       "<div>\n",
       "<style scoped>\n",
       "    .dataframe tbody tr th:only-of-type {\n",
       "        vertical-align: middle;\n",
       "    }\n",
       "\n",
       "    .dataframe tbody tr th {\n",
       "        vertical-align: top;\n",
       "    }\n",
       "\n",
       "    .dataframe thead th {\n",
       "        text-align: right;\n",
       "    }\n",
       "</style>\n",
       "<table border=\"1\" class=\"dataframe\">\n",
       "  <thead>\n",
       "    <tr style=\"text-align: right;\">\n",
       "      <th></th>\n",
       "      <th>AGE</th>\n",
       "      <th>SEX</th>\n",
       "      <th>BMI</th>\n",
       "      <th>BP</th>\n",
       "      <th>S1</th>\n",
       "      <th>S2</th>\n",
       "      <th>S3</th>\n",
       "      <th>S4</th>\n",
       "      <th>S5</th>\n",
       "      <th>S6</th>\n",
       "      <th>Y</th>\n",
       "    </tr>\n",
       "  </thead>\n",
       "  <tbody>\n",
       "    <tr>\n",
       "      <th>0</th>\n",
       "      <td>59</td>\n",
       "      <td>2</td>\n",
       "      <td>32.1</td>\n",
       "      <td>101.0</td>\n",
       "      <td>157</td>\n",
       "      <td>93.2</td>\n",
       "      <td>38.0</td>\n",
       "      <td>4.0</td>\n",
       "      <td>4.8598</td>\n",
       "      <td>87</td>\n",
       "      <td>151</td>\n",
       "    </tr>\n",
       "    <tr>\n",
       "      <th>1</th>\n",
       "      <td>48</td>\n",
       "      <td>1</td>\n",
       "      <td>21.6</td>\n",
       "      <td>87.0</td>\n",
       "      <td>183</td>\n",
       "      <td>103.2</td>\n",
       "      <td>70.0</td>\n",
       "      <td>3.0</td>\n",
       "      <td>3.8918</td>\n",
       "      <td>69</td>\n",
       "      <td>75</td>\n",
       "    </tr>\n",
       "    <tr>\n",
       "      <th>2</th>\n",
       "      <td>72</td>\n",
       "      <td>2</td>\n",
       "      <td>30.5</td>\n",
       "      <td>93.0</td>\n",
       "      <td>156</td>\n",
       "      <td>93.6</td>\n",
       "      <td>41.0</td>\n",
       "      <td>4.0</td>\n",
       "      <td>4.6728</td>\n",
       "      <td>85</td>\n",
       "      <td>141</td>\n",
       "    </tr>\n",
       "    <tr>\n",
       "      <th>3</th>\n",
       "      <td>24</td>\n",
       "      <td>1</td>\n",
       "      <td>25.3</td>\n",
       "      <td>84.0</td>\n",
       "      <td>198</td>\n",
       "      <td>131.4</td>\n",
       "      <td>40.0</td>\n",
       "      <td>5.0</td>\n",
       "      <td>4.8903</td>\n",
       "      <td>89</td>\n",
       "      <td>206</td>\n",
       "    </tr>\n",
       "    <tr>\n",
       "      <th>4</th>\n",
       "      <td>50</td>\n",
       "      <td>1</td>\n",
       "      <td>23.0</td>\n",
       "      <td>101.0</td>\n",
       "      <td>192</td>\n",
       "      <td>125.4</td>\n",
       "      <td>52.0</td>\n",
       "      <td>4.0</td>\n",
       "      <td>4.2905</td>\n",
       "      <td>80</td>\n",
       "      <td>135</td>\n",
       "    </tr>\n",
       "  </tbody>\n",
       "</table>\n",
       "</div>"
      ],
      "text/plain": [
       "   AGE  SEX   BMI     BP   S1     S2    S3   S4      S5  S6    Y\n",
       "0   59    2  32.1  101.0  157   93.2  38.0  4.0  4.8598  87  151\n",
       "1   48    1  21.6   87.0  183  103.2  70.0  3.0  3.8918  69   75\n",
       "2   72    2  30.5   93.0  156   93.6  41.0  4.0  4.6728  85  141\n",
       "3   24    1  25.3   84.0  198  131.4  40.0  5.0  4.8903  89  206\n",
       "4   50    1  23.0  101.0  192  125.4  52.0  4.0  4.2905  80  135"
      ]
     },
     "execution_count": 2,
     "metadata": {},
     "output_type": "execute_result"
    }
   ],
   "source": [
    "diabetes = pd.read_excel(r'./data_class/diabetes.xlsx')\n",
    "diabetes.head()"
   ]
  },
  {
   "cell_type": "code",
   "execution_count": 3,
   "id": "bb9f8ed2",
   "metadata": {},
   "outputs": [
    {
     "data": {
      "text/plain": [
       "Index(['BMI', 'BP', 'S1', 'S2', 'S3', 'S4', 'S5', 'S6'], dtype='object')"
      ]
     },
     "execution_count": 3,
     "metadata": {},
     "output_type": "execute_result"
    }
   ],
   "source": [
    "#剔除患者的性别、AGE和因变量Y\n",
    "predict_columns = diabetes.columns[2:-1]\n",
    "predict_columns"
   ]
  },
  {
   "cell_type": "code",
   "execution_count": 4,
   "id": "a8c4dabf",
   "metadata": {},
   "outputs": [],
   "source": [
    "#拆分数据集\n",
    "X_train, X_test, Y_train, Y_test = model_selection.train_test_split(diabetes[predict_columns], diabetes['Y'], test_size=0.2, random_state=1234)"
   ]
  },
  {
   "cell_type": "code",
   "execution_count": 11,
   "id": "28d1b201",
   "metadata": {
    "scrolled": true
   },
   "outputs": [
    {
     "data": {
      "text/plain": [
       "array([1.00000000e-05, 1.08436597e-05, 1.17584955e-05, 1.27505124e-05,\n",
       "       1.38262217e-05, 1.49926843e-05, 1.62575567e-05, 1.76291412e-05,\n",
       "       1.91164408e-05, 2.07292178e-05, 2.24780583e-05, 2.43744415e-05,\n",
       "       2.64308149e-05, 2.86606762e-05, 3.10786619e-05, 3.37006433e-05,\n",
       "       3.65438307e-05, 3.96268864e-05, 4.29700470e-05, 4.65952567e-05,\n",
       "       5.05263107e-05, 5.47890118e-05, 5.94113398e-05, 6.44236351e-05,\n",
       "       6.98587975e-05, 7.57525026e-05, 8.21434358e-05, 8.90735464e-05,\n",
       "       9.65883224e-05, 1.04737090e-04, 1.13573336e-04, 1.23155060e-04,\n",
       "       1.33545156e-04, 1.44811823e-04, 1.57029012e-04, 1.70276917e-04,\n",
       "       1.84642494e-04, 2.00220037e-04, 2.17111795e-04, 2.35428641e-04,\n",
       "       2.55290807e-04, 2.76828663e-04, 3.00183581e-04, 3.25508860e-04,\n",
       "       3.52970730e-04, 3.82749448e-04, 4.15040476e-04, 4.50055768e-04,\n",
       "       4.88025158e-04, 5.29197874e-04, 5.73844165e-04, 6.22257084e-04,\n",
       "       6.74754405e-04, 7.31680714e-04, 7.93409667e-04, 8.60346442e-04,\n",
       "       9.32930403e-04, 1.01163798e-03, 1.09698580e-03, 1.18953407e-03,\n",
       "       1.28989026e-03, 1.39871310e-03, 1.51671689e-03, 1.64467618e-03,\n",
       "       1.78343088e-03, 1.93389175e-03, 2.09704640e-03, 2.27396575e-03,\n",
       "       2.46581108e-03, 2.67384162e-03, 2.89942285e-03, 3.14403547e-03,\n",
       "       3.40928507e-03, 3.69691271e-03, 4.00880633e-03, 4.34701316e-03,\n",
       "       4.71375313e-03, 5.11143348e-03, 5.54266452e-03, 6.01027678e-03,\n",
       "       6.51733960e-03, 7.06718127e-03, 7.66341087e-03, 8.30994195e-03,\n",
       "       9.01101825e-03, 9.77124154e-03, 1.05956018e-02, 1.14895100e-02,\n",
       "       1.24588336e-02, 1.35099352e-02, 1.46497140e-02, 1.58856513e-02,\n",
       "       1.72258597e-02, 1.86791360e-02, 2.02550194e-02, 2.19638537e-02,\n",
       "       2.38168555e-02, 2.58261876e-02, 2.80050389e-02, 3.03677112e-02,\n",
       "       3.29297126e-02, 3.57078596e-02, 3.87203878e-02, 4.19870708e-02,\n",
       "       4.55293507e-02, 4.93704785e-02, 5.35356668e-02, 5.80522552e-02,\n",
       "       6.29498899e-02, 6.82607183e-02, 7.40196000e-02, 8.02643352e-02,\n",
       "       8.70359136e-02, 9.43787828e-02, 1.02341140e-01, 1.10975250e-01,\n",
       "       1.20337784e-01, 1.30490198e-01, 1.41499130e-01, 1.53436841e-01,\n",
       "       1.66381689e-01, 1.80418641e-01, 1.95639834e-01, 2.12145178e-01,\n",
       "       2.30043012e-01, 2.49450814e-01, 2.70495973e-01, 2.93316628e-01,\n",
       "       3.18062569e-01, 3.44896226e-01, 3.73993730e-01, 4.05546074e-01,\n",
       "       4.39760361e-01, 4.76861170e-01, 5.17092024e-01, 5.60716994e-01,\n",
       "       6.08022426e-01, 6.59318827e-01, 7.14942899e-01, 7.75259749e-01,\n",
       "       8.40665289e-01, 9.11588830e-01, 9.88495905e-01, 1.07189132e+00,\n",
       "       1.16232247e+00, 1.26038293e+00, 1.36671636e+00, 1.48202071e+00,\n",
       "       1.60705282e+00, 1.74263339e+00, 1.88965234e+00, 2.04907469e+00,\n",
       "       2.22194686e+00, 2.40940356e+00, 2.61267523e+00, 2.83309610e+00,\n",
       "       3.07211300e+00, 3.33129479e+00, 3.61234270e+00, 3.91710149e+00,\n",
       "       4.24757155e+00, 4.60592204e+00, 4.99450512e+00, 5.41587138e+00,\n",
       "       5.87278661e+00, 6.36824994e+00, 6.90551352e+00, 7.48810386e+00,\n",
       "       8.11984499e+00, 8.80488358e+00, 9.54771611e+00, 1.03532184e+01,\n",
       "       1.12266777e+01, 1.21738273e+01, 1.32008840e+01, 1.43145894e+01,\n",
       "       1.55222536e+01, 1.68318035e+01, 1.82518349e+01, 1.97916687e+01,\n",
       "       2.14614120e+01, 2.32720248e+01, 2.52353917e+01, 2.73644000e+01,\n",
       "       2.96730241e+01, 3.21764175e+01, 3.48910121e+01, 3.78346262e+01,\n",
       "       4.10265811e+01, 4.44878283e+01, 4.82410870e+01, 5.23109931e+01,\n",
       "       5.67242607e+01, 6.15098579e+01, 6.66991966e+01, 7.23263390e+01,\n",
       "       7.84282206e+01, 8.50448934e+01, 9.22197882e+01, 1.00000000e+02])"
      ]
     },
     "execution_count": 11,
     "metadata": {},
     "output_type": "execute_result"
    }
   ],
   "source": [
    "Lambdas = np.logspace(-5, 2, 200)\n",
    "Lambdas"
   ]
  },
  {
   "cell_type": "code",
   "execution_count": 12,
   "id": "dd93317a",
   "metadata": {},
   "outputs": [],
   "source": [
    "#设置交叉验证的参数，对于每一个λ值，都执行10重交叉验证\n",
    "ridge_cv = RidgeCV(alphas=Lambdas, normalize=True, scoring='neg_mean_squared_error', cv=10)"
   ]
  },
  {
   "cell_type": "code",
   "execution_count": 13,
   "id": "bea039b7",
   "metadata": {},
   "outputs": [
    {
     "data": {
      "text/plain": [
       "RidgeCV(alphas=array([1.00000000e-05, 1.08436597e-05, 1.17584955e-05, 1.27505124e-05,\n",
       "       1.38262217e-05, 1.49926843e-05, 1.62575567e-05, 1.76291412e-05,\n",
       "       1.91164408e-05, 2.07292178e-05, 2.24780583e-05, 2.43744415e-05,\n",
       "       2.64308149e-05, 2.86606762e-05, 3.10786619e-05, 3.37006433e-05,\n",
       "       3.65438307e-05, 3.96268864e-05, 4.29700470e-05, 4.65952567e-05,\n",
       "       5.05263107e-05, 5.47890118e-0...\n",
       "       2.14614120e+01, 2.32720248e+01, 2.52353917e+01, 2.73644000e+01,\n",
       "       2.96730241e+01, 3.21764175e+01, 3.48910121e+01, 3.78346262e+01,\n",
       "       4.10265811e+01, 4.44878283e+01, 4.82410870e+01, 5.23109931e+01,\n",
       "       5.67242607e+01, 6.15098579e+01, 6.66991966e+01, 7.23263390e+01,\n",
       "       7.84282206e+01, 8.50448934e+01, 9.22197882e+01, 1.00000000e+02]),\n",
       "        cv=10, normalize=True, scoring='neg_mean_squared_error')"
      ]
     },
     "execution_count": 13,
     "metadata": {},
     "output_type": "execute_result"
    }
   ],
   "source": [
    "#模型拟合\n",
    "ridge_cv.fit(X_train, Y_train)"
   ]
  },
  {
   "cell_type": "code",
   "execution_count": 14,
   "id": "15e67aa5",
   "metadata": {},
   "outputs": [
    {
     "data": {
      "text/plain": [
       "0.014649713983072863"
      ]
     },
     "execution_count": 14,
     "metadata": {},
     "output_type": "execute_result"
    }
   ],
   "source": [
    "ridge_best_Lambda = ridge_cv.alpha_\n",
    "ridge_best_Lambda"
   ]
  },
  {
   "cell_type": "markdown",
   "id": "b25308a7",
   "metadata": {},
   "source": [
    "### 建立模型"
   ]
  },
  {
   "cell_type": "code",
   "execution_count": 15,
   "id": "66c5e6e1",
   "metadata": {
    "scrolled": true
   },
   "outputs": [
    {
     "data": {
      "text/plain": [
       "Ridge(alpha=0.014649713983072863, normalize=True)"
      ]
     },
     "execution_count": 15,
     "metadata": {},
     "output_type": "execute_result"
    }
   ],
   "source": [
    "#基于最佳的Lambda值建模\n",
    "ridge = Ridge(alpha=ridge_best_Lambda, normalize=True)\n",
    "ridge.fit(X_train, Y_train)"
   ]
  },
  {
   "cell_type": "code",
   "execution_count": 16,
   "id": "9103e994",
   "metadata": {},
   "outputs": [
    {
     "data": {
      "text/plain": [
       "intercept   -321.996227\n",
       "BMI            6.206337\n",
       "BP             0.927093\n",
       "S1            -0.479414\n",
       "S2             0.202203\n",
       "S3             0.016912\n",
       "S4             4.183247\n",
       "S5            51.424829\n",
       "S6             0.384342\n",
       "dtype: float64"
      ]
     },
     "execution_count": 16,
     "metadata": {},
     "output_type": "execute_result"
    }
   ],
   "source": [
    "#返回岭回归系数\n",
    "pd.Series(index=['intercept']+X_train.columns.tolist(), data=[ridge.intercept_] + ridge.coef_.tolist())"
   ]
  },
  {
   "cell_type": "markdown",
   "id": "636faecc",
   "metadata": {},
   "source": [
    "岭回归模型表达式为：Y = -322.00 + 6.21BMI + 0.93BP - 0.48S1 + 0.20S2 + 0.17S3 + 4.18S4 + 51.42S5 + 0.38S6"
   ]
  },
  {
   "cell_type": "markdown",
   "id": "758c1eef",
   "metadata": {},
   "source": [
    "### 模型预测"
   ]
  },
  {
   "cell_type": "code",
   "execution_count": 17,
   "id": "bf6b9eaa",
   "metadata": {},
   "outputs": [],
   "source": [
    "from sklearn.metrics import mean_squared_error"
   ]
  },
  {
   "cell_type": "code",
   "execution_count": 18,
   "id": "09f08121",
   "metadata": {},
   "outputs": [],
   "source": [
    "#模型预测\n",
    "ridge_predict = ridge.predict(X_test)"
   ]
  },
  {
   "cell_type": "code",
   "execution_count": 19,
   "id": "258fcec6",
   "metadata": {},
   "outputs": [
    {
     "data": {
      "text/plain": [
       "53.11911788753518"
      ]
     },
     "execution_count": 19,
     "metadata": {},
     "output_type": "execute_result"
    }
   ],
   "source": [
    "#预测效果验证\n",
    "RMSE = np.sqrt(mean_squared_error(Y_test, ridge_predict))\n",
    "RMSE"
   ]
  },
  {
   "cell_type": "markdown",
   "id": "37bc5a89",
   "metadata": {},
   "source": [
    "![jupyter](./class_ten_5.png)"
   ]
  },
  {
   "cell_type": "markdown",
   "id": "5f4886c2",
   "metadata": {},
   "source": [
    "RMSE：均方根误差  \n",
    "n代表预测集中的样本量，yt尖代表因变量的预测值，yt代表因变量的实际值  \n",
    "RMSE值越小，说明模型对数据的拟合效果越好"
   ]
  },
  {
   "cell_type": "markdown",
   "id": "439b67a0",
   "metadata": {},
   "source": [
    "# lasso"
   ]
  },
  {
   "cell_type": "markdown",
   "id": "8beb87cf",
   "metadata": {},
   "source": [
    "## lasso回归模型"
   ]
  },
  {
   "cell_type": "markdown",
   "id": "94fa3b7c",
   "metadata": {},
   "source": [
    "![jupyter](./class_ten_6.png)"
   ]
  },
  {
   "cell_type": "markdown",
   "id": "877e75f5",
   "metadata": {},
   "source": [
    "岭回归模型解决线性回归模型中矩阵x'x不可逆的办法是添加l2正则的惩罚项，但缺陷在于始终保留建模时的所有变量，无法降低模型的复杂度。lasso采用了l1正则的惩罚项，将惩罚项中的平方和改成了绝对值。"
   ]
  },
  {
   "cell_type": "markdown",
   "id": "f8a73b47",
   "metadata": {},
   "source": [
    "![jupyter](./class_ten_7.png)"
   ]
  },
  {
   "cell_type": "markdown",
   "id": "c286f9af",
   "metadata": {},
   "source": [
    "## lasso回归应用"
   ]
  },
  {
   "cell_type": "markdown",
   "id": "13f44c20",
   "metadata": {},
   "source": [
    "### 模型的lambda求解"
   ]
  },
  {
   "cell_type": "markdown",
   "id": "80b4a0ca",
   "metadata": {},
   "source": [
    "#### 图形法"
   ]
  },
  {
   "cell_type": "markdown",
   "id": "c6c1f113",
   "metadata": {},
   "source": [
    "Lasso(alpha=1.0, fit_intercept=True, normalize=False, precompute=False, copy_X=True, max_iter=1000, max_iter=1000, tol=0.0001, warm_start=False, positive=False, random_state=None, selection='cyclic)  \n",
    "alpha：用于指定lambda值的参数，默认该参数为1  \n",
    "fit_intercept：bool类型参数，是否需要拟合截距项，默认为True  \n",
    "normalize：bool类型参数，建模时是否需要对数据集进行标准化处理，默认为False  \n",
    "precompute：bool类型参数，是否在建模前通过计算Gram矩阵提升运算速度，默认为False  \n",
    "copy_X：bool类型参数，是否复制自变量X的数值，默认为True  \n",
    "max_iter：用于指定模型的最大迭代次数，默认为1000  \n",
    "tol：用于指定模型收敛的阈值，默认为0.0001  \n",
    "warm_start：bool类型参数，是否将前一次的训练结果用作后一次的训练，默认为False  \n",
    "positive：bool类型参数，是否将回归系数强制为正数，默认为False  \n",
    "random_state：用于指定随机数生成器的种子  \n",
    "selection：指定每次迭代时所选择的回归系数，如果为'random'，表示每次迭代中将随机更新回归系数；如果为'cyclic'，则表示每次迭代时回归系数的更新都基于上一次的运算  "
   ]
  },
  {
   "cell_type": "code",
   "execution_count": 1,
   "id": "3ba52fa3",
   "metadata": {},
   "outputs": [],
   "source": [
    "import pandas as pd\n",
    "import numpy as np\n",
    "from sklearn import model_selection\n",
    "from sklearn.linear_model import Lasso, LassoCV\n",
    "import matplotlib.pyplot as plt"
   ]
  },
  {
   "cell_type": "code",
   "execution_count": 2,
   "id": "4cb55215",
   "metadata": {},
   "outputs": [
    {
     "data": {
      "text/html": [
       "<div>\n",
       "<style scoped>\n",
       "    .dataframe tbody tr th:only-of-type {\n",
       "        vertical-align: middle;\n",
       "    }\n",
       "\n",
       "    .dataframe tbody tr th {\n",
       "        vertical-align: top;\n",
       "    }\n",
       "\n",
       "    .dataframe thead th {\n",
       "        text-align: right;\n",
       "    }\n",
       "</style>\n",
       "<table border=\"1\" class=\"dataframe\">\n",
       "  <thead>\n",
       "    <tr style=\"text-align: right;\">\n",
       "      <th></th>\n",
       "      <th>AGE</th>\n",
       "      <th>SEX</th>\n",
       "      <th>BMI</th>\n",
       "      <th>BP</th>\n",
       "      <th>S1</th>\n",
       "      <th>S2</th>\n",
       "      <th>S3</th>\n",
       "      <th>S4</th>\n",
       "      <th>S5</th>\n",
       "      <th>S6</th>\n",
       "      <th>Y</th>\n",
       "    </tr>\n",
       "  </thead>\n",
       "  <tbody>\n",
       "    <tr>\n",
       "      <th>0</th>\n",
       "      <td>59</td>\n",
       "      <td>2</td>\n",
       "      <td>32.1</td>\n",
       "      <td>101.0</td>\n",
       "      <td>157</td>\n",
       "      <td>93.2</td>\n",
       "      <td>38.0</td>\n",
       "      <td>4.0</td>\n",
       "      <td>4.8598</td>\n",
       "      <td>87</td>\n",
       "      <td>151</td>\n",
       "    </tr>\n",
       "    <tr>\n",
       "      <th>1</th>\n",
       "      <td>48</td>\n",
       "      <td>1</td>\n",
       "      <td>21.6</td>\n",
       "      <td>87.0</td>\n",
       "      <td>183</td>\n",
       "      <td>103.2</td>\n",
       "      <td>70.0</td>\n",
       "      <td>3.0</td>\n",
       "      <td>3.8918</td>\n",
       "      <td>69</td>\n",
       "      <td>75</td>\n",
       "    </tr>\n",
       "    <tr>\n",
       "      <th>2</th>\n",
       "      <td>72</td>\n",
       "      <td>2</td>\n",
       "      <td>30.5</td>\n",
       "      <td>93.0</td>\n",
       "      <td>156</td>\n",
       "      <td>93.6</td>\n",
       "      <td>41.0</td>\n",
       "      <td>4.0</td>\n",
       "      <td>4.6728</td>\n",
       "      <td>85</td>\n",
       "      <td>141</td>\n",
       "    </tr>\n",
       "    <tr>\n",
       "      <th>3</th>\n",
       "      <td>24</td>\n",
       "      <td>1</td>\n",
       "      <td>25.3</td>\n",
       "      <td>84.0</td>\n",
       "      <td>198</td>\n",
       "      <td>131.4</td>\n",
       "      <td>40.0</td>\n",
       "      <td>5.0</td>\n",
       "      <td>4.8903</td>\n",
       "      <td>89</td>\n",
       "      <td>206</td>\n",
       "    </tr>\n",
       "    <tr>\n",
       "      <th>4</th>\n",
       "      <td>50</td>\n",
       "      <td>1</td>\n",
       "      <td>23.0</td>\n",
       "      <td>101.0</td>\n",
       "      <td>192</td>\n",
       "      <td>125.4</td>\n",
       "      <td>52.0</td>\n",
       "      <td>4.0</td>\n",
       "      <td>4.2905</td>\n",
       "      <td>80</td>\n",
       "      <td>135</td>\n",
       "    </tr>\n",
       "  </tbody>\n",
       "</table>\n",
       "</div>"
      ],
      "text/plain": [
       "   AGE  SEX   BMI     BP   S1     S2    S3   S4      S5  S6    Y\n",
       "0   59    2  32.1  101.0  157   93.2  38.0  4.0  4.8598  87  151\n",
       "1   48    1  21.6   87.0  183  103.2  70.0  3.0  3.8918  69   75\n",
       "2   72    2  30.5   93.0  156   93.6  41.0  4.0  4.6728  85  141\n",
       "3   24    1  25.3   84.0  198  131.4  40.0  5.0  4.8903  89  206\n",
       "4   50    1  23.0  101.0  192  125.4  52.0  4.0  4.2905  80  135"
      ]
     },
     "execution_count": 2,
     "metadata": {},
     "output_type": "execute_result"
    }
   ],
   "source": [
    "diabetes = pd.read_excel(r'./data_class/diabetes.xlsx')\n",
    "diabetes.head()"
   ]
  },
  {
   "cell_type": "code",
   "execution_count": 3,
   "id": "d879e2db",
   "metadata": {},
   "outputs": [
    {
     "data": {
      "text/plain": [
       "Index(['BMI', 'BP', 'S1', 'S2', 'S3', 'S4', 'S5', 'S6'], dtype='object')"
      ]
     },
     "execution_count": 3,
     "metadata": {},
     "output_type": "execute_result"
    }
   ],
   "source": [
    "#剔除患者的性别、AGE和因变量Y\n",
    "predict_columns = diabetes.columns[2:-1]\n",
    "predict_columns"
   ]
  },
  {
   "cell_type": "code",
   "execution_count": 4,
   "id": "65780ae5",
   "metadata": {},
   "outputs": [],
   "source": [
    "#拆分数据集\n",
    "X_train, X_test, Y_train, Y_test = model_selection.train_test_split(diabetes[predict_columns], diabetes['Y'], test_size=0.2, random_state=1234)"
   ]
  },
  {
   "cell_type": "code",
   "execution_count": 5,
   "id": "44d9c2a1",
   "metadata": {},
   "outputs": [
    {
     "data": {
      "text/html": [
       "<div>\n",
       "<style scoped>\n",
       "    .dataframe tbody tr th:only-of-type {\n",
       "        vertical-align: middle;\n",
       "    }\n",
       "\n",
       "    .dataframe tbody tr th {\n",
       "        vertical-align: top;\n",
       "    }\n",
       "\n",
       "    .dataframe thead th {\n",
       "        text-align: right;\n",
       "    }\n",
       "</style>\n",
       "<table border=\"1\" class=\"dataframe\">\n",
       "  <thead>\n",
       "    <tr style=\"text-align: right;\">\n",
       "      <th></th>\n",
       "      <th>BMI</th>\n",
       "      <th>BP</th>\n",
       "      <th>S1</th>\n",
       "      <th>S2</th>\n",
       "      <th>S3</th>\n",
       "      <th>S4</th>\n",
       "      <th>S5</th>\n",
       "      <th>S6</th>\n",
       "    </tr>\n",
       "  </thead>\n",
       "  <tbody>\n",
       "    <tr>\n",
       "      <th>138</th>\n",
       "      <td>36.7</td>\n",
       "      <td>117.0</td>\n",
       "      <td>166</td>\n",
       "      <td>93.8</td>\n",
       "      <td>44.0</td>\n",
       "      <td>4.0</td>\n",
       "      <td>4.9488</td>\n",
       "      <td>109</td>\n",
       "    </tr>\n",
       "    <tr>\n",
       "      <th>382</th>\n",
       "      <td>32.0</td>\n",
       "      <td>88.0</td>\n",
       "      <td>172</td>\n",
       "      <td>69.0</td>\n",
       "      <td>38.0</td>\n",
       "      <td>4.0</td>\n",
       "      <td>5.7838</td>\n",
       "      <td>100</td>\n",
       "    </tr>\n",
       "    <tr>\n",
       "      <th>351</th>\n",
       "      <td>22.6</td>\n",
       "      <td>85.0</td>\n",
       "      <td>130</td>\n",
       "      <td>71.0</td>\n",
       "      <td>48.0</td>\n",
       "      <td>3.0</td>\n",
       "      <td>4.0073</td>\n",
       "      <td>81</td>\n",
       "    </tr>\n",
       "    <tr>\n",
       "      <th>373</th>\n",
       "      <td>25.4</td>\n",
       "      <td>93.0</td>\n",
       "      <td>141</td>\n",
       "      <td>79.0</td>\n",
       "      <td>49.0</td>\n",
       "      <td>3.0</td>\n",
       "      <td>4.1744</td>\n",
       "      <td>91</td>\n",
       "    </tr>\n",
       "    <tr>\n",
       "      <th>192</th>\n",
       "      <td>23.5</td>\n",
       "      <td>97.0</td>\n",
       "      <td>203</td>\n",
       "      <td>129.0</td>\n",
       "      <td>59.0</td>\n",
       "      <td>3.0</td>\n",
       "      <td>4.3175</td>\n",
       "      <td>77</td>\n",
       "    </tr>\n",
       "  </tbody>\n",
       "</table>\n",
       "</div>"
      ],
      "text/plain": [
       "      BMI     BP   S1     S2    S3   S4      S5   S6\n",
       "138  36.7  117.0  166   93.8  44.0  4.0  4.9488  109\n",
       "382  32.0   88.0  172   69.0  38.0  4.0  5.7838  100\n",
       "351  22.6   85.0  130   71.0  48.0  3.0  4.0073   81\n",
       "373  25.4   93.0  141   79.0  49.0  3.0  4.1744   91\n",
       "192  23.5   97.0  203  129.0  59.0  3.0  4.3175   77"
      ]
     },
     "execution_count": 5,
     "metadata": {},
     "output_type": "execute_result"
    }
   ],
   "source": [
    "X_train.head()"
   ]
  },
  {
   "cell_type": "code",
   "execution_count": 6,
   "id": "a8acbf98",
   "metadata": {},
   "outputs": [
    {
     "data": {
      "text/plain": [
       "138    336\n",
       "382    132\n",
       "351     71\n",
       "373    168\n",
       "192     91\n",
       "Name: Y, dtype: int64"
      ]
     },
     "execution_count": 6,
     "metadata": {},
     "output_type": "execute_result"
    }
   ],
   "source": [
    "Y_train.head()"
   ]
  },
  {
   "cell_type": "code",
   "execution_count": 7,
   "id": "5c9b2704",
   "metadata": {},
   "outputs": [
    {
     "data": {
      "text/plain": [
       "array([1.00000000e-05, 1.08436597e-05, 1.17584955e-05, 1.27505124e-05,\n",
       "       1.38262217e-05, 1.49926843e-05, 1.62575567e-05, 1.76291412e-05,\n",
       "       1.91164408e-05, 2.07292178e-05, 2.24780583e-05, 2.43744415e-05,\n",
       "       2.64308149e-05, 2.86606762e-05, 3.10786619e-05, 3.37006433e-05,\n",
       "       3.65438307e-05, 3.96268864e-05, 4.29700470e-05, 4.65952567e-05,\n",
       "       5.05263107e-05, 5.47890118e-05, 5.94113398e-05, 6.44236351e-05,\n",
       "       6.98587975e-05, 7.57525026e-05, 8.21434358e-05, 8.90735464e-05,\n",
       "       9.65883224e-05, 1.04737090e-04, 1.13573336e-04, 1.23155060e-04,\n",
       "       1.33545156e-04, 1.44811823e-04, 1.57029012e-04, 1.70276917e-04,\n",
       "       1.84642494e-04, 2.00220037e-04, 2.17111795e-04, 2.35428641e-04,\n",
       "       2.55290807e-04, 2.76828663e-04, 3.00183581e-04, 3.25508860e-04,\n",
       "       3.52970730e-04, 3.82749448e-04, 4.15040476e-04, 4.50055768e-04,\n",
       "       4.88025158e-04, 5.29197874e-04, 5.73844165e-04, 6.22257084e-04,\n",
       "       6.74754405e-04, 7.31680714e-04, 7.93409667e-04, 8.60346442e-04,\n",
       "       9.32930403e-04, 1.01163798e-03, 1.09698580e-03, 1.18953407e-03,\n",
       "       1.28989026e-03, 1.39871310e-03, 1.51671689e-03, 1.64467618e-03,\n",
       "       1.78343088e-03, 1.93389175e-03, 2.09704640e-03, 2.27396575e-03,\n",
       "       2.46581108e-03, 2.67384162e-03, 2.89942285e-03, 3.14403547e-03,\n",
       "       3.40928507e-03, 3.69691271e-03, 4.00880633e-03, 4.34701316e-03,\n",
       "       4.71375313e-03, 5.11143348e-03, 5.54266452e-03, 6.01027678e-03,\n",
       "       6.51733960e-03, 7.06718127e-03, 7.66341087e-03, 8.30994195e-03,\n",
       "       9.01101825e-03, 9.77124154e-03, 1.05956018e-02, 1.14895100e-02,\n",
       "       1.24588336e-02, 1.35099352e-02, 1.46497140e-02, 1.58856513e-02,\n",
       "       1.72258597e-02, 1.86791360e-02, 2.02550194e-02, 2.19638537e-02,\n",
       "       2.38168555e-02, 2.58261876e-02, 2.80050389e-02, 3.03677112e-02,\n",
       "       3.29297126e-02, 3.57078596e-02, 3.87203878e-02, 4.19870708e-02,\n",
       "       4.55293507e-02, 4.93704785e-02, 5.35356668e-02, 5.80522552e-02,\n",
       "       6.29498899e-02, 6.82607183e-02, 7.40196000e-02, 8.02643352e-02,\n",
       "       8.70359136e-02, 9.43787828e-02, 1.02341140e-01, 1.10975250e-01,\n",
       "       1.20337784e-01, 1.30490198e-01, 1.41499130e-01, 1.53436841e-01,\n",
       "       1.66381689e-01, 1.80418641e-01, 1.95639834e-01, 2.12145178e-01,\n",
       "       2.30043012e-01, 2.49450814e-01, 2.70495973e-01, 2.93316628e-01,\n",
       "       3.18062569e-01, 3.44896226e-01, 3.73993730e-01, 4.05546074e-01,\n",
       "       4.39760361e-01, 4.76861170e-01, 5.17092024e-01, 5.60716994e-01,\n",
       "       6.08022426e-01, 6.59318827e-01, 7.14942899e-01, 7.75259749e-01,\n",
       "       8.40665289e-01, 9.11588830e-01, 9.88495905e-01, 1.07189132e+00,\n",
       "       1.16232247e+00, 1.26038293e+00, 1.36671636e+00, 1.48202071e+00,\n",
       "       1.60705282e+00, 1.74263339e+00, 1.88965234e+00, 2.04907469e+00,\n",
       "       2.22194686e+00, 2.40940356e+00, 2.61267523e+00, 2.83309610e+00,\n",
       "       3.07211300e+00, 3.33129479e+00, 3.61234270e+00, 3.91710149e+00,\n",
       "       4.24757155e+00, 4.60592204e+00, 4.99450512e+00, 5.41587138e+00,\n",
       "       5.87278661e+00, 6.36824994e+00, 6.90551352e+00, 7.48810386e+00,\n",
       "       8.11984499e+00, 8.80488358e+00, 9.54771611e+00, 1.03532184e+01,\n",
       "       1.12266777e+01, 1.21738273e+01, 1.32008840e+01, 1.43145894e+01,\n",
       "       1.55222536e+01, 1.68318035e+01, 1.82518349e+01, 1.97916687e+01,\n",
       "       2.14614120e+01, 2.32720248e+01, 2.52353917e+01, 2.73644000e+01,\n",
       "       2.96730241e+01, 3.21764175e+01, 3.48910121e+01, 3.78346262e+01,\n",
       "       4.10265811e+01, 4.44878283e+01, 4.82410870e+01, 5.23109931e+01,\n",
       "       5.67242607e+01, 6.15098579e+01, 6.66991966e+01, 7.23263390e+01,\n",
       "       7.84282206e+01, 8.50448934e+01, 9.22197882e+01, 1.00000000e+02])"
      ]
     },
     "execution_count": 7,
     "metadata": {},
     "output_type": "execute_result"
    }
   ],
   "source": [
    "#构造不同的lambda值\n",
    "Lambdas = np.logspace(-5, 2, 200)\n",
    "Lambdas"
   ]
  },
  {
   "cell_type": "code",
   "execution_count": 8,
   "id": "68c86300",
   "metadata": {},
   "outputs": [],
   "source": [
    "#构造空列表，用于储存模型的偏回归系数  \n",
    "lasso_cofficients = []\n",
    "for Lambda in Lambdas:\n",
    "    lasso = Lasso(alpha=Lambda, normalize=True, max_iter=10000)\n",
    "    lasso.fit(X_train, Y_train)\n",
    "    lasso_cofficients.append(lasso.coef_)"
   ]
  },
  {
   "cell_type": "code",
   "execution_count": 11,
   "id": "d0631cbf",
   "metadata": {},
   "outputs": [
    {
     "name": "stderr",
     "output_type": "stream",
     "text": [
      "Font 'default' does not have a glyph for '-' [U+2212], substituting with a dummy symbol.\n",
      "Font 'default' does not have a glyph for '-' [U+2212], substituting with a dummy symbol.\n",
      "Font 'default' does not have a glyph for '-' [U+2212], substituting with a dummy symbol.\n",
      "Font 'default' does not have a glyph for '-' [U+2212], substituting with a dummy symbol.\n",
      "Font 'default' does not have a glyph for '-' [U+2212], substituting with a dummy symbol.\n",
      "Font 'default' does not have a glyph for '-' [U+2212], substituting with a dummy symbol.\n",
      "Font 'default' does not have a glyph for '-' [U+2212], substituting with a dummy symbol.\n",
      "Font 'default' does not have a glyph for '-' [U+2212], substituting with a dummy symbol.\n",
      "Font 'default' does not have a glyph for '-' [U+2212], substituting with a dummy symbol.\n",
      "Font 'default' does not have a glyph for '-' [U+2212], substituting with a dummy symbol.\n",
      "Font 'default' does not have a glyph for '-' [U+2212], substituting with a dummy symbol.\n",
      "Font 'default' does not have a glyph for '-' [U+2212], substituting with a dummy symbol.\n",
      "Font 'default' does not have a glyph for '-' [U+2212], substituting with a dummy symbol.\n",
      "Font 'default' does not have a glyph for '-' [U+2212], substituting with a dummy symbol.\n",
      "Font 'default' does not have a glyph for '-' [U+2212], substituting with a dummy symbol.\n",
      "Font 'default' does not have a glyph for '-' [U+2212], substituting with a dummy symbol.\n",
      "Font 'default' does not have a glyph for '-' [U+2212], substituting with a dummy symbol.\n",
      "Font 'default' does not have a glyph for '-' [U+2212], substituting with a dummy symbol.\n",
      "Font 'default' does not have a glyph for '-' [U+2212], substituting with a dummy symbol.\n",
      "Font 'default' does not have a glyph for '-' [U+2212], substituting with a dummy symbol.\n"
     ]
    },
    {
     "data": {
      "image/png": "[encoded data removed]",
      "text/plain": [
       "<Figure size 432x288 with 1 Axes>"
      ]
     },
     "metadata": {
      "needs_background": "light"
     },
     "output_type": "display_data"
    }
   ],
   "source": [
    "#绘制lambda与回归系数的折线图\n",
    "plt.plot(Lambdas, lasso_cofficients)\n",
    "\n",
    "#x轴做对数变换\n",
    "plt.xscale('log')\n",
    "\n",
    "plt.xlabel('Lambda')\n",
    "plt.ylabel('Cofficients')\n",
    "plt.show()"
   ]
  },
  {
   "cell_type": "markdown",
   "id": "4339fd4e",
   "metadata": {},
   "source": [
    "与岭回归模型绘制的折线图类似，出现了喇叭形折线，说明该变量存在多存共线性  \n",
    "当λ值位于0.05左右时，绝大多数变量的回归系数趋于稳定"
   ]
  },
  {
   "cell_type": "markdown",
   "id": "68a50bc1",
   "metadata": {},
   "source": [
    "#### 交叉验证法确定λ值"
   ]
  },
  {
   "cell_type": "markdown",
   "id": "227973ec",
   "metadata": {},
   "source": [
    "LassoCV(eps=0.001, n_alphas=100, alphas=None, fit_intercept=True, normalize=False, precompute='auto', max_iter=1000, tol=0.0001, copy_X=true, cv=None, verbose=False, n_jobs=1, positive=False, random_state=None, selection='cyclic')  \n",
    "eps：指定正则化路径长度，默认为0.001，指代Lambda的最小值与最大值之商  \n",
    "n_alphas：指定正则项系数Lambda的个数，默认为100个  \n",
    "alphas：指定具体的Lambda值列表用于模型运算  \n",
    "fit_intercept：bool类型参数，是否需要拟合截距项，默认为True  \n",
    "normalize：bool类型参数，建模时是否需要对数据集做标准化处理，默认为False  \n",
    "precompute：bool类型参数，是否在建模前，通过计算Gram矩阵提升运算速度，默认为False  \n",
    "max_iter：指定模型最大的迭代次数，默认为1000次  \n",
    "tol：用于指定模型收敛的阈值，默认为0.001  \n",
    "copy_X：bool类型参数，是否复制自变量X的数值，默认为True  \n",
    "cv：指定交叉验证的重数  \n",
    "verbose：bool类型参数，是否返回模型运行的详细信息，默认为False  \n",
    "n_jobs：指定交叉验证过程中使用的CPU数量，即是否需要并行处理，默认为1，表示不并行处理；如果为-1，表示将所有的cpu用于交叉验证的运算  \n",
    "positive：bool类型参数，是否将回归系数强制为正数，默认为False  \n",
    "random_state：用于指定随机数生成的种子  \n",
    "selection：指定每次迭代时所选择的回归系数，如果为'random'，表示每次迭代中将随机更新回归系数；如果为'cyclic'，则表示每次迭代时回归系数的更新都基于上一次的运算  "
   ]
  },
  {
   "cell_type": "code",
   "execution_count": 12,
   "id": "989b3772",
   "metadata": {},
   "outputs": [
    {
     "data": {
      "text/plain": [
       "LassoCV(alphas=array([1.00000000e-05, 1.08436597e-05, 1.17584955e-05, 1.27505124e-05,\n",
       "       1.38262217e-05, 1.49926843e-05, 1.62575567e-05, 1.76291412e-05,\n",
       "       1.91164408e-05, 2.07292178e-05, 2.24780583e-05, 2.43744415e-05,\n",
       "       2.64308149e-05, 2.86606762e-05, 3.10786619e-05, 3.37006433e-05,\n",
       "       3.65438307e-05, 3.96268864e-05, 4.29700470e-05, 4.65952567e-05,\n",
       "       5.05263107e-05, 5.47890118e-0...\n",
       "       1.55222536e+01, 1.68318035e+01, 1.82518349e+01, 1.97916687e+01,\n",
       "       2.14614120e+01, 2.32720248e+01, 2.52353917e+01, 2.73644000e+01,\n",
       "       2.96730241e+01, 3.21764175e+01, 3.48910121e+01, 3.78346262e+01,\n",
       "       4.10265811e+01, 4.44878283e+01, 4.82410870e+01, 5.23109931e+01,\n",
       "       5.67242607e+01, 6.15098579e+01, 6.66991966e+01, 7.23263390e+01,\n",
       "       7.84282206e+01, 8.50448934e+01, 9.22197882e+01, 1.00000000e+02]),\n",
       "        cv=10, max_iter=10000, normalize=True)"
      ]
     },
     "execution_count": 12,
     "metadata": {},
     "output_type": "execute_result"
    }
   ],
   "source": [
    "#lasso回归模型的交叉验证\n",
    "lasso_cv = LassoCV(alphas=Lambdas, normalize=True, cv=10, max_iter=10000)\n",
    "lasso_cv.fit(X_train, Y_train)"
   ]
  },
  {
   "cell_type": "code",
   "execution_count": 13,
   "id": "d0f972a0",
   "metadata": {},
   "outputs": [
    {
     "data": {
      "text/plain": [
       "0.06294988990221888"
      ]
     },
     "execution_count": 13,
     "metadata": {},
     "output_type": "execute_result"
    }
   ],
   "source": [
    "#输出最佳lambda值\n",
    "lasso_best_alpha = lasso_cv.alpha_\n",
    "lasso_best_alpha"
   ]
  },
  {
   "cell_type": "markdown",
   "id": "263d3fc5",
   "metadata": {},
   "source": [
    "### 建立模型"
   ]
  },
  {
   "cell_type": "code",
   "execution_count": 14,
   "id": "0efe683d",
   "metadata": {},
   "outputs": [
    {
     "data": {
      "text/plain": [
       "Lasso(alpha=0.06294988990221888, max_iter=10000, normalize=True)"
      ]
     },
     "execution_count": 14,
     "metadata": {},
     "output_type": "execute_result"
    }
   ],
   "source": [
    "#基于最佳lambda值建模\n",
    "lasso = Lasso(alpha=lasso_best_alpha, normalize=True, max_iter=10000)\n",
    "lasso.fit(X_train, Y_train)"
   ]
  },
  {
   "cell_type": "code",
   "execution_count": 15,
   "id": "9141d973",
   "metadata": {},
   "outputs": [
    {
     "data": {
      "text/plain": [
       "Intercept   -278.560358\n",
       "BMI            6.188602\n",
       "BP             0.860826\n",
       "S1            -0.127627\n",
       "S2            -0.000000\n",
       "S3            -0.488408\n",
       "S4             0.000000\n",
       "S5            44.487738\n",
       "S6             0.324076\n",
       "dtype: float64"
      ]
     },
     "execution_count": 15,
     "metadata": {},
     "output_type": "execute_result"
    }
   ],
   "source": [
    "#返回lasso回归系数\n",
    "pd.Series(index=['Intercept'] + X_train.columns.tolist(), data=[lasso.intercept_] + lasso.coef_.tolist())"
   ]
  },
  {
   "cell_type": "markdown",
   "id": "5c78b538",
   "metadata": {},
   "source": [
    "最终模型：\n",
    "Y = -278.56 + 6.19BMI + 0.86BP - 0.13S1 - 0.49S3 + 44.49S5 + 0.32S6"
   ]
  },
  {
   "cell_type": "markdown",
   "id": "09da26a4",
   "metadata": {},
   "source": [
    "### 模型预测"
   ]
  },
  {
   "cell_type": "code",
   "execution_count": 16,
   "id": "b06120fa",
   "metadata": {},
   "outputs": [],
   "source": [
    "from sklearn.metrics import mean_squared_error"
   ]
  },
  {
   "cell_type": "code",
   "execution_count": 17,
   "id": "83922f5d",
   "metadata": {},
   "outputs": [],
   "source": [
    "#模型预测\n",
    "lasso_predict = lasso.predict(X_test)"
   ]
  },
  {
   "cell_type": "code",
   "execution_count": 18,
   "id": "975c14b1",
   "metadata": {},
   "outputs": [
    {
     "data": {
      "text/plain": [
       "53.06143725822572"
      ]
     },
     "execution_count": 18,
     "metadata": {},
     "output_type": "execute_result"
    }
   ],
   "source": [
    "#预测效果验证\n",
    "RMSE = np.sqrt(mean_squared_error(Y_test, lasso_predict))\n",
    "RMSE"
   ]
  },
  {
   "cell_type": "markdown",
   "id": "7258f7f3",
   "metadata": {},
   "source": [
    "# 与多元线性回归模型的比较"
   ]
  },
  {
   "cell_type": "code",
   "execution_count": 19,
   "id": "4398a366",
   "metadata": {},
   "outputs": [],
   "source": [
    "from statsmodels import api as sms"
   ]
  },
  {
   "cell_type": "code",
   "execution_count": 20,
   "id": "60dc7551",
   "metadata": {},
   "outputs": [],
   "source": [
    "#为自变量x添加常数列1， 用于拟合截距项\n",
    "X_train2 = sms.add_constant(X_train)\n",
    "X_test2 = sms.add_constant(X_test)"
   ]
  },
  {
   "cell_type": "code",
   "execution_count": 21,
   "id": "fb96a106",
   "metadata": {},
   "outputs": [],
   "source": [
    "#构建多元线性回归模型\n",
    "linear = sms.OLS(Y_train, X_train2).fit()"
   ]
  },
  {
   "cell_type": "code",
   "execution_count": 22,
   "id": "e3ed8577",
   "metadata": {},
   "outputs": [
    {
     "data": {
      "text/plain": [
       "const   -406.699716\n",
       "BMI        6.217649\n",
       "BP         0.948245\n",
       "S1        -1.264772\n",
       "S2         0.901368\n",
       "S3         0.962373\n",
       "S4         6.694215\n",
       "S5        71.614661\n",
       "S6         0.376004\n",
       "dtype: float64"
      ]
     },
     "execution_count": 22,
     "metadata": {},
     "output_type": "execute_result"
    }
   ],
   "source": [
    "#返回线性回归模型的系数\n",
    "linear.params"
   ]
  },
  {
   "cell_type": "markdown",
   "id": "4902b032",
   "metadata": {},
   "source": [
    "最终模型：\n",
    "Y = -406.70 + 6.22BMI + 0.95BP - 1.26S1 + 0.90S2 + 0.96S3 + 6.70S4 + 71.61S5 + 0.38S6"
   ]
  },
  {
   "cell_type": "code",
   "execution_count": 23,
   "id": "ce8c2de0",
   "metadata": {},
   "outputs": [],
   "source": [
    "#模型的预测\n",
    "linear_predict = linear.predict(X_test2)"
   ]
  },
  {
   "cell_type": "code",
   "execution_count": 24,
   "id": "5c1dd2b7",
   "metadata": {},
   "outputs": [
    {
     "data": {
      "text/plain": [
       "53.42623939722996"
      ]
     },
     "execution_count": 24,
     "metadata": {},
     "output_type": "execute_result"
    }
   ],
   "source": [
    "#模型预测效果验证\n",
    "RMSE = np.sqrt(mean_squared_error(Y_test, linear_predict))\n",
    "RMSE"
   ]
  },
  {
   "cell_type": "markdown",
   "id": "bf116f91",
   "metadata": {},
   "source": [
    "# 使用函数以及说明"
   ]
  },
  {
   "cell_type": "markdown",
   "id": "8b65b092",
   "metadata": {},
   "source": [
    "## sklearn"
   ]
  },
  {
   "cell_type": "markdown",
   "id": "388cb0c0",
   "metadata": {},
   "source": [
    "Ridge：用于设定岭回归模型的“类”  \n",
    "RidgeCV：用于设定岭回归交叉验证的“类”  \n",
    "Lasso：用于设定LASSO回归模型的“类”  \n",
    "LassoCV：用于设定LASSO回归交叉验证的“类”  \n",
    "fit：基于“类”的模型拟合“方法”  \n",
    "alpha_：用于返回岭回归和LASSO回归的自变量系数  \n",
    "predict：基于模型的预测“方法”  \n",
    "mean_squarred_error：计算均方差误差MSE的函数，如需要计算RMSE，还需要对其开根号  "
   ]
  },
  {
   "cell_type": "markdown",
   "id": "1546465a",
   "metadata": {},
   "source": [
    "## statsmodels"
   ]
  },
  {
   "cell_type": "markdown",
   "id": "a4801146",
   "metadata": {},
   "source": [
    "add_constant：用于给数组添加常数列1的函数  \n",
    "OLS：用于设定多元线性回归模型的“类”"
   ]
  }
 ],
 "metadata": {
  "kernelspec": {
   "display_name": "Python 3",
   "language": "python",
   "name": "python3"
  },
  "language_info": {
   "codemirror_mode": {
    "name": "ipython",
    "version": 3
   },
   "file_extension": ".py",
   "mimetype": "text/x-python",
   "name": "python",
   "nbconvert_exporter": "python",
   "pygments_lexer": "ipython3",
   "version": "3.7.10"
  },
  "toc": {
   "base_numbering": 1,
   "nav_menu": {},
   "number_sections": true,
   "sideBar": true,
   "skip_h1_title": false,
   "title_cell": "Table of Contents",
   "title_sidebar": "Contents",
   "toc_cell": false,
   "toc_position": {},
   "toc_section_display": true,
   "toc_window_display": false
  }
 },
 "nbformat": 4,
 "nbformat_minor": 5
}
