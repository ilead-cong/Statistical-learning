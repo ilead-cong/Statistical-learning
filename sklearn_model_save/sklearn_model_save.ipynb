{
 "cells": [
  {
   "cell_type": "markdown",
   "id": "c3c67216",
   "metadata": {},
   "source": [
    "# sklearn model save\n",
    "以logistic回归为例"
   ]
  },
  {
   "cell_type": "code",
   "execution_count": 1,
   "id": "0d066164",
   "metadata": {},
   "outputs": [],
   "source": [
    "!mkdir sklearn_model_save"
   ]
  },
  {
   "cell_type": "code",
   "execution_count": 10,
   "id": "a0954eb7",
   "metadata": {},
   "outputs": [
    {
     "name": "stdout",
     "output_type": "stream",
     "text": [
      "/mnt/d/WSL/ploaron/VS-project-python/python_project/statistics_liushunxiang/sklearn_model_save\n"
     ]
    }
   ],
   "source": [
    "cd sklearn_model_save/"
   ]
  },
  {
   "cell_type": "code",
   "execution_count": 11,
   "id": "4df84ed0",
   "metadata": {},
   "outputs": [
    {
     "name": "stdout",
     "output_type": "stream",
     "text": [
      "'Run or Walk.csv'\r\n"
     ]
    }
   ],
   "source": [
    "!ls"
   ]
  },
  {
   "cell_type": "code",
   "execution_count": 4,
   "id": "8005d035",
   "metadata": {},
   "outputs": [],
   "source": [
    "#导入第三方模块\n",
    "import pandas as pd\n",
    "import numpy as np\n",
    "from sklearn import model_selection\n",
    "from sklearn import linear_model"
   ]
  },
  {
   "cell_type": "code",
   "execution_count": 12,
   "id": "46d31c22",
   "metadata": {},
   "outputs": [],
   "source": [
    "sports = pd.read_csv(r'./Run or Walk.csv')"
   ]
  },
  {
   "cell_type": "code",
   "execution_count": 13,
   "id": "1bb43eeb",
   "metadata": {},
   "outputs": [],
   "source": [
    "#提取所有自变量名称\n",
    "predictors = sports.columns[4:]\n",
    "#构建自变量矩阵\n",
    "X = sports[predictors]\n",
    "#提取Y变量值\n",
    "y = sports.activity\n",
    "#将数据拆分为训练集和测试集\n",
    "X_train, X_test, y_train, y_test = model_selection.train_test_split(X, y, test_size=0.25, random_state=1234)"
   ]
  },
  {
   "cell_type": "code",
   "execution_count": 38,
   "id": "682d6ae9",
   "metadata": {},
   "outputs": [
    {
     "name": "stdout",
     "output_type": "stream",
     "text": [
      "[4.36637441] [[ 0.48695898  6.87517973 -2.44872468 -0.01385936 -0.16085022  0.13389695]]\n"
     ]
    }
   ],
   "source": [
    "#利用训练集数据建模\n",
    "sklearn_logistic = linear_model.LogisticRegression()\n",
    "sklearn_logistic.fit(X_train, y_train)\n",
    "#返回模型的各个参数\n",
    "print(sklearn_logistic.intercept_, sklearn_logistic.coef_)"
   ]
  },
  {
   "cell_type": "code",
   "execution_count": 39,
   "id": "bddacf46",
   "metadata": {},
   "outputs": [
    {
     "data": {
      "text/plain": [
       "0    12119\n",
       "1    10028\n",
       "dtype: int64"
      ]
     },
     "execution_count": 39,
     "metadata": {},
     "output_type": "execute_result"
    }
   ],
   "source": [
    "#模型预测\n",
    "sklearn_predict = sklearn_logistic.predict(X_test)\n",
    "#预测结果统计\n",
    "pd.Series(sklearn_predict).value_counts()"
   ]
  },
  {
   "cell_type": "markdown",
   "id": "85e48069",
   "metadata": {},
   "source": [
    "## joblib dump\n",
    "可能产生多个文件，最好建立一个文件夹，保存全部，方便导入使用"
   ]
  },
  {
   "cell_type": "code",
   "execution_count": 15,
   "id": "b4027ed0",
   "metadata": {},
   "outputs": [],
   "source": [
    "!mkdir joblib_dump"
   ]
  },
  {
   "cell_type": "code",
   "execution_count": 53,
   "id": "f02b6257",
   "metadata": {},
   "outputs": [
    {
     "name": "stdout",
     "output_type": "stream",
     "text": [
      "/mnt/d/WSL/ploaron/VS-project-python/python_project/statistics_liushunxiang/sklearn_model_save/joblib_dump\n"
     ]
    }
   ],
   "source": [
    "cd joblib_dump/"
   ]
  },
  {
   "cell_type": "code",
   "execution_count": 22,
   "id": "8f2b9d5d",
   "metadata": {},
   "outputs": [],
   "source": [
    "import joblib"
   ]
  },
  {
   "cell_type": "code",
   "execution_count": 23,
   "id": "a3c9d5d4",
   "metadata": {},
   "outputs": [
    {
     "data": {
      "text/plain": [
       "['sklearn_logistic.m']"
      ]
     },
     "execution_count": 23,
     "metadata": {},
     "output_type": "execute_result"
    }
   ],
   "source": [
    "joblib.dump(sklearn_logistic, 'sklearn_logistic.m')"
   ]
  },
  {
   "cell_type": "code",
   "execution_count": 54,
   "id": "f3068c01",
   "metadata": {},
   "outputs": [],
   "source": [
    "new_logistic = joblib.load('./sklearn_logistic.m')"
   ]
  },
  {
   "cell_type": "code",
   "execution_count": 46,
   "id": "02dc8e4e",
   "metadata": {},
   "outputs": [
    {
     "data": {
      "text/plain": [
       "0    12119\n",
       "1    10028\n",
       "dtype: int64"
      ]
     },
     "execution_count": 46,
     "metadata": {},
     "output_type": "execute_result"
    }
   ],
   "source": [
    "sklearn_predict_joblib = new_logistic.predict(X_test)\n",
    "pd.Series(sklearn_predict_joblib).value_counts()"
   ]
  },
  {
   "cell_type": "markdown",
   "id": "a0a7157d",
   "metadata": {},
   "source": [
    "## pickle\n",
    "保存方式为二进制文件，保存和导入应注意加b参数，二进制"
   ]
  },
  {
   "cell_type": "code",
   "execution_count": 27,
   "id": "09612b54",
   "metadata": {},
   "outputs": [
    {
     "name": "stdout",
     "output_type": "stream",
     "text": [
      "/mnt/d/WSL/ploaron/VS-project-python/python_project/statistics_liushunxiang/sklearn_model_save\n"
     ]
    }
   ],
   "source": [
    "cd .."
   ]
  },
  {
   "cell_type": "code",
   "execution_count": 28,
   "id": "4847b4d7",
   "metadata": {},
   "outputs": [],
   "source": [
    "!mkdir pickle"
   ]
  },
  {
   "cell_type": "code",
   "execution_count": 29,
   "id": "68582de4",
   "metadata": {},
   "outputs": [
    {
     "name": "stdout",
     "output_type": "stream",
     "text": [
      "/mnt/d/WSL/ploaron/VS-project-python/python_project/statistics_liushunxiang/sklearn_model_save/pickle\n"
     ]
    }
   ],
   "source": [
    "cd pickle"
   ]
  },
  {
   "cell_type": "code",
   "execution_count": 47,
   "id": "e100d43c",
   "metadata": {},
   "outputs": [],
   "source": [
    "import pickle"
   ]
  },
  {
   "cell_type": "code",
   "execution_count": 49,
   "id": "714bf2b6",
   "metadata": {},
   "outputs": [],
   "source": [
    "with open('./sklearn_logistic.model', 'wb') as f1:\n",
    "    pickle.dump(new_logistic, f1)"
   ]
  },
  {
   "cell_type": "code",
   "execution_count": 50,
   "id": "eed6480c",
   "metadata": {},
   "outputs": [],
   "source": [
    "with open('./sklearn_logistic.model', 'rb') as f2:\n",
    "    new_sklearn_model = pickle.load(f2)"
   ]
  },
  {
   "cell_type": "code",
   "execution_count": 51,
   "id": "33af49b0",
   "metadata": {},
   "outputs": [
    {
     "data": {
      "text/plain": [
       "0    12119\n",
       "1    10028\n",
       "dtype: int64"
      ]
     },
     "execution_count": 51,
     "metadata": {},
     "output_type": "execute_result"
    }
   ],
   "source": [
    "sklearn_predict_pickle = new_sklearn_model.predict(X_test)\n",
    "pd.Series(sklearn_predict_pickle).value_counts()"
   ]
  }
 ],
 "metadata": {
  "kernelspec": {
   "display_name": "Python 3",
   "language": "python",
   "name": "python3"
  },
  "language_info": {
   "codemirror_mode": {
    "name": "ipython",
    "version": 3
   },
   "file_extension": ".py",
   "mimetype": "text/x-python",
   "name": "python",
   "nbconvert_exporter": "python",
   "pygments_lexer": "ipython3",
   "version": "3.7.10"
  },
  "toc": {
   "base_numbering": 1,
   "nav_menu": {},
   "number_sections": true,
   "sideBar": true,
   "skip_h1_title": false,
   "title_cell": "Table of Contents",
   "title_sidebar": "Contents",
   "toc_cell": false,
   "toc_position": {},
   "toc_section_display": true,
   "toc_window_display": false
  }
 },
 "nbformat": 4,
 "nbformat_minor": 5
}
