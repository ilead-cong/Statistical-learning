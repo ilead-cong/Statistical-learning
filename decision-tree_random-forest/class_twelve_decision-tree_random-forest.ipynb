{
 "cells": [
  {
   "cell_type": "markdown",
   "id": "af5dea3e",
   "metadata": {},
   "source": [
    "# 决策树与随机森林"
   ]
  },
  {
   "cell_type": "markdown",
   "id": "f1872c5a",
   "metadata": {},
   "source": [
    "## 决策树"
   ]
  },
  {
   "cell_type": "markdown",
   "id": "125958e2",
   "metadata": {},
   "source": [
    "![jupyter](./class_twelve_1.png)"
   ]
  },
  {
   "cell_type": "markdown",
   "id": "42b7b32e",
   "metadata": {},
   "source": [
    "## 随机森林"
   ]
  },
  {
   "cell_type": "markdown",
   "id": "61200a1e",
   "metadata": {},
   "source": [
    "![jupyter](./class_twelve_9.png)"
   ]
  },
  {
   "cell_type": "markdown",
   "id": "89295fa6",
   "metadata": {},
   "source": [
    "# 决策树节点字段选择"
   ]
  },
  {
   "cell_type": "markdown",
   "id": "42b6e0bb",
   "metadata": {},
   "source": [
    "## 信息熵"
   ]
  },
  {
   "cell_type": "markdown",
   "id": "647f046c",
   "metadata": {},
   "source": [
    "### 信息熵"
   ]
  },
  {
   "cell_type": "markdown",
   "id": "8dffb023",
   "metadata": {},
   "source": [
    "![jupyter](./class_twelve_2.png)"
   ]
  },
  {
   "cell_type": "markdown",
   "id": "8559f6c0",
   "metadata": {},
   "source": [
    "### 条件熵"
   ]
  },
  {
   "cell_type": "markdown",
   "id": "2fab1325",
   "metadata": {},
   "source": [
    "![jupyter](./class_twelve_3.png)"
   ]
  },
  {
   "cell_type": "markdown",
   "id": "1d08c51a",
   "metadata": {},
   "source": [
    "### 信息增益"
   ]
  },
  {
   "cell_type": "markdown",
   "id": "0713346b",
   "metadata": {},
   "source": [
    "![jupyter](./class_twelve_4.png)"
   ]
  },
  {
   "cell_type": "markdown",
   "id": "afce1f64",
   "metadata": {},
   "source": [
    "### 信息增益率"
   ]
  },
  {
   "cell_type": "markdown",
   "id": "61ff1b29",
   "metadata": {},
   "source": [
    "![jupyter](./class_twelve_5.png)"
   ]
  },
  {
   "cell_type": "markdown",
   "id": "8a1a0a96",
   "metadata": {},
   "source": [
    "## 基尼指数"
   ]
  },
  {
   "cell_type": "markdown",
   "id": "0527be8d",
   "metadata": {},
   "source": [
    "### 基尼指数"
   ]
  },
  {
   "cell_type": "markdown",
   "id": "b6de11eb",
   "metadata": {},
   "source": [
    "![jupyter](./class_twelve_6.png)"
   ]
  },
  {
   "cell_type": "markdown",
   "id": "91b9a7ab",
   "metadata": {},
   "source": [
    "### 条件基尼指数"
   ]
  },
  {
   "cell_type": "markdown",
   "id": "4210a3aa",
   "metadata": {},
   "source": [
    "![jupyter](./class_twelve_7.png)"
   ]
  },
  {
   "cell_type": "markdown",
   "id": "a9ebbd9e",
   "metadata": {},
   "source": [
    "### 基尼指数增益"
   ]
  },
  {
   "cell_type": "markdown",
   "id": "7bb7de2a",
   "metadata": {},
   "source": [
    "![jupyter](./class_twelve_8.png)"
   ]
  },
  {
   "cell_type": "markdown",
   "id": "1e4b76ce",
   "metadata": {},
   "source": [
    "# 模型"
   ]
  },
  {
   "cell_type": "markdown",
   "id": "1e7ce6f9",
   "metadata": {},
   "source": [
    "## 数据"
   ]
  },
  {
   "cell_type": "markdown",
   "id": "c9feec21",
   "metadata": {},
   "source": [
    "### 数据清洗"
   ]
  },
  {
   "cell_type": "code",
   "execution_count": 1,
   "id": "fb0fcd96",
   "metadata": {},
   "outputs": [],
   "source": [
    "#导入第三方模块\n",
    "import pandas as pd"
   ]
  },
  {
   "cell_type": "code",
   "execution_count": 8,
   "id": "e864114b",
   "metadata": {},
   "outputs": [
    {
     "data": {
      "text/html": [
       "<div>\n",
       "<style scoped>\n",
       "    .dataframe tbody tr th:only-of-type {\n",
       "        vertical-align: middle;\n",
       "    }\n",
       "\n",
       "    .dataframe tbody tr th {\n",
       "        vertical-align: top;\n",
       "    }\n",
       "\n",
       "    .dataframe thead th {\n",
       "        text-align: right;\n",
       "    }\n",
       "</style>\n",
       "<table border=\"1\" class=\"dataframe\">\n",
       "  <thead>\n",
       "    <tr style=\"text-align: right;\">\n",
       "      <th></th>\n",
       "      <th>PassengerId</th>\n",
       "      <th>Survived</th>\n",
       "      <th>Pclass</th>\n",
       "      <th>Name</th>\n",
       "      <th>Sex</th>\n",
       "      <th>Age</th>\n",
       "      <th>SibSp</th>\n",
       "      <th>Parch</th>\n",
       "      <th>Ticket</th>\n",
       "      <th>Fare</th>\n",
       "      <th>Cabin</th>\n",
       "      <th>Embarked</th>\n",
       "    </tr>\n",
       "  </thead>\n",
       "  <tbody>\n",
       "    <tr>\n",
       "      <th>0</th>\n",
       "      <td>1</td>\n",
       "      <td>0</td>\n",
       "      <td>3</td>\n",
       "      <td>Braund, Mr. Owen Harris</td>\n",
       "      <td>male</td>\n",
       "      <td>22.0</td>\n",
       "      <td>1</td>\n",
       "      <td>0</td>\n",
       "      <td>A/5 21171</td>\n",
       "      <td>7.2500</td>\n",
       "      <td>NaN</td>\n",
       "      <td>S</td>\n",
       "    </tr>\n",
       "    <tr>\n",
       "      <th>1</th>\n",
       "      <td>2</td>\n",
       "      <td>1</td>\n",
       "      <td>1</td>\n",
       "      <td>Cumings, Mrs. John Bradley (Florence Briggs Th...</td>\n",
       "      <td>female</td>\n",
       "      <td>38.0</td>\n",
       "      <td>1</td>\n",
       "      <td>0</td>\n",
       "      <td>PC 17599</td>\n",
       "      <td>71.2833</td>\n",
       "      <td>C85</td>\n",
       "      <td>C</td>\n",
       "    </tr>\n",
       "    <tr>\n",
       "      <th>2</th>\n",
       "      <td>3</td>\n",
       "      <td>1</td>\n",
       "      <td>3</td>\n",
       "      <td>Heikkinen, Miss. Laina</td>\n",
       "      <td>female</td>\n",
       "      <td>26.0</td>\n",
       "      <td>0</td>\n",
       "      <td>0</td>\n",
       "      <td>STON/O2. 3101282</td>\n",
       "      <td>7.9250</td>\n",
       "      <td>NaN</td>\n",
       "      <td>S</td>\n",
       "    </tr>\n",
       "    <tr>\n",
       "      <th>3</th>\n",
       "      <td>4</td>\n",
       "      <td>1</td>\n",
       "      <td>1</td>\n",
       "      <td>Futrelle, Mrs. Jacques Heath (Lily May Peel)</td>\n",
       "      <td>female</td>\n",
       "      <td>35.0</td>\n",
       "      <td>1</td>\n",
       "      <td>0</td>\n",
       "      <td>113803</td>\n",
       "      <td>53.1000</td>\n",
       "      <td>C123</td>\n",
       "      <td>S</td>\n",
       "    </tr>\n",
       "    <tr>\n",
       "      <th>4</th>\n",
       "      <td>5</td>\n",
       "      <td>0</td>\n",
       "      <td>3</td>\n",
       "      <td>Allen, Mr. William Henry</td>\n",
       "      <td>male</td>\n",
       "      <td>35.0</td>\n",
       "      <td>0</td>\n",
       "      <td>0</td>\n",
       "      <td>373450</td>\n",
       "      <td>8.0500</td>\n",
       "      <td>NaN</td>\n",
       "      <td>S</td>\n",
       "    </tr>\n",
       "  </tbody>\n",
       "</table>\n",
       "</div>"
      ],
      "text/plain": [
       "   PassengerId  Survived  Pclass  \\\n",
       "0            1         0       3   \n",
       "1            2         1       1   \n",
       "2            3         1       3   \n",
       "3            4         1       1   \n",
       "4            5         0       3   \n",
       "\n",
       "                                                Name     Sex   Age  SibSp  \\\n",
       "0                            Braund, Mr. Owen Harris    male  22.0      1   \n",
       "1  Cumings, Mrs. John Bradley (Florence Briggs Th...  female  38.0      1   \n",
       "2                             Heikkinen, Miss. Laina  female  26.0      0   \n",
       "3       Futrelle, Mrs. Jacques Heath (Lily May Peel)  female  35.0      1   \n",
       "4                           Allen, Mr. William Henry    male  35.0      0   \n",
       "\n",
       "   Parch            Ticket     Fare Cabin Embarked  \n",
       "0      0         A/5 21171   7.2500   NaN        S  \n",
       "1      0          PC 17599  71.2833   C85        C  \n",
       "2      0  STON/O2. 3101282   7.9250   NaN        S  \n",
       "3      0            113803  53.1000  C123        S  \n",
       "4      0            373450   8.0500   NaN        S  "
      ]
     },
     "execution_count": 8,
     "metadata": {},
     "output_type": "execute_result"
    }
   ],
   "source": [
    "#读入数据\n",
    "titanic = pd.read_csv(r\"./data_class/Titanic.csv\")\n",
    "titanic.head()"
   ]
  },
  {
   "cell_type": "code",
   "execution_count": 9,
   "id": "c30b6e22",
   "metadata": {},
   "outputs": [
    {
     "data": {
      "text/html": [
       "<div>\n",
       "<style scoped>\n",
       "    .dataframe tbody tr th:only-of-type {\n",
       "        vertical-align: middle;\n",
       "    }\n",
       "\n",
       "    .dataframe tbody tr th {\n",
       "        vertical-align: top;\n",
       "    }\n",
       "\n",
       "    .dataframe thead th {\n",
       "        text-align: right;\n",
       "    }\n",
       "</style>\n",
       "<table border=\"1\" class=\"dataframe\">\n",
       "  <thead>\n",
       "    <tr style=\"text-align: right;\">\n",
       "      <th></th>\n",
       "      <th>Survived</th>\n",
       "      <th>Pclass</th>\n",
       "      <th>Sex</th>\n",
       "      <th>Age</th>\n",
       "      <th>SibSp</th>\n",
       "      <th>Parch</th>\n",
       "      <th>Fare</th>\n",
       "      <th>Embarked</th>\n",
       "    </tr>\n",
       "  </thead>\n",
       "  <tbody>\n",
       "    <tr>\n",
       "      <th>0</th>\n",
       "      <td>0</td>\n",
       "      <td>3</td>\n",
       "      <td>male</td>\n",
       "      <td>22.0</td>\n",
       "      <td>1</td>\n",
       "      <td>0</td>\n",
       "      <td>7.2500</td>\n",
       "      <td>S</td>\n",
       "    </tr>\n",
       "    <tr>\n",
       "      <th>1</th>\n",
       "      <td>1</td>\n",
       "      <td>1</td>\n",
       "      <td>female</td>\n",
       "      <td>38.0</td>\n",
       "      <td>1</td>\n",
       "      <td>0</td>\n",
       "      <td>71.2833</td>\n",
       "      <td>C</td>\n",
       "    </tr>\n",
       "    <tr>\n",
       "      <th>2</th>\n",
       "      <td>1</td>\n",
       "      <td>3</td>\n",
       "      <td>female</td>\n",
       "      <td>26.0</td>\n",
       "      <td>0</td>\n",
       "      <td>0</td>\n",
       "      <td>7.9250</td>\n",
       "      <td>S</td>\n",
       "    </tr>\n",
       "    <tr>\n",
       "      <th>3</th>\n",
       "      <td>1</td>\n",
       "      <td>1</td>\n",
       "      <td>female</td>\n",
       "      <td>35.0</td>\n",
       "      <td>1</td>\n",
       "      <td>0</td>\n",
       "      <td>53.1000</td>\n",
       "      <td>S</td>\n",
       "    </tr>\n",
       "    <tr>\n",
       "      <th>4</th>\n",
       "      <td>0</td>\n",
       "      <td>3</td>\n",
       "      <td>male</td>\n",
       "      <td>35.0</td>\n",
       "      <td>0</td>\n",
       "      <td>0</td>\n",
       "      <td>8.0500</td>\n",
       "      <td>S</td>\n",
       "    </tr>\n",
       "  </tbody>\n",
       "</table>\n",
       "</div>"
      ],
      "text/plain": [
       "   Survived  Pclass     Sex   Age  SibSp  Parch     Fare Embarked\n",
       "0         0       3    male  22.0      1      0   7.2500        S\n",
       "1         1       1  female  38.0      1      0  71.2833        C\n",
       "2         1       3  female  26.0      0      0   7.9250        S\n",
       "3         1       1  female  35.0      1      0  53.1000        S\n",
       "4         0       3    male  35.0      0      0   8.0500        S"
      ]
     },
     "execution_count": 9,
     "metadata": {},
     "output_type": "execute_result"
    }
   ],
   "source": [
    "#删除无意义变量\n",
    "titanic.drop(['PassengerId', 'Name', 'Ticket', 'Cabin'], axis=1, inplace=True)\n",
    "titanic.head()"
   ]
  },
  {
   "cell_type": "code",
   "execution_count": 10,
   "id": "94081ded",
   "metadata": {},
   "outputs": [
    {
     "data": {
      "text/plain": [
       "Survived      0\n",
       "Pclass        0\n",
       "Sex           0\n",
       "Age         177\n",
       "SibSp         0\n",
       "Parch         0\n",
       "Fare          0\n",
       "Embarked      2\n",
       "dtype: int64"
      ]
     },
     "execution_count": 10,
     "metadata": {},
     "output_type": "execute_result"
    }
   ],
   "source": [
    "#检查剩余字段是否含有缺失值\n",
    "titanic.isnull().sum(axis=0)"
   ]
  },
  {
   "cell_type": "code",
   "execution_count": 11,
   "id": "15d3f57f",
   "metadata": {},
   "outputs": [],
   "source": [
    "#对Sex分组，用各组乘客的平均年龄填充各组中的缺失年龄\n",
    "fillna_titanic = []\n",
    "for sex in titanic.Sex.unique():\n",
    "    update = titanic.loc[titanic.Sex == sex, ].fillna(value= {'Age':titanic.Age[titanic.Sex==sex].mean()})\n",
    "    fillna_titanic.append(update)\n",
    "titanic = pd.concat(fillna_titanic)"
   ]
  },
  {
   "cell_type": "code",
   "execution_count": 12,
   "id": "482bf2de",
   "metadata": {},
   "outputs": [
    {
     "data": {
      "text/html": [
       "<div>\n",
       "<style scoped>\n",
       "    .dataframe tbody tr th:only-of-type {\n",
       "        vertical-align: middle;\n",
       "    }\n",
       "\n",
       "    .dataframe tbody tr th {\n",
       "        vertical-align: top;\n",
       "    }\n",
       "\n",
       "    .dataframe thead th {\n",
       "        text-align: right;\n",
       "    }\n",
       "</style>\n",
       "<table border=\"1\" class=\"dataframe\">\n",
       "  <thead>\n",
       "    <tr style=\"text-align: right;\">\n",
       "      <th></th>\n",
       "      <th>Survived</th>\n",
       "      <th>Pclass</th>\n",
       "      <th>Sex</th>\n",
       "      <th>Age</th>\n",
       "      <th>SibSp</th>\n",
       "      <th>Parch</th>\n",
       "      <th>Fare</th>\n",
       "      <th>Embarked</th>\n",
       "    </tr>\n",
       "  </thead>\n",
       "  <tbody>\n",
       "    <tr>\n",
       "      <th>0</th>\n",
       "      <td>0</td>\n",
       "      <td>3</td>\n",
       "      <td>male</td>\n",
       "      <td>22.000000</td>\n",
       "      <td>1</td>\n",
       "      <td>0</td>\n",
       "      <td>7.2500</td>\n",
       "      <td>S</td>\n",
       "    </tr>\n",
       "    <tr>\n",
       "      <th>4</th>\n",
       "      <td>0</td>\n",
       "      <td>3</td>\n",
       "      <td>male</td>\n",
       "      <td>35.000000</td>\n",
       "      <td>0</td>\n",
       "      <td>0</td>\n",
       "      <td>8.0500</td>\n",
       "      <td>S</td>\n",
       "    </tr>\n",
       "    <tr>\n",
       "      <th>5</th>\n",
       "      <td>0</td>\n",
       "      <td>3</td>\n",
       "      <td>male</td>\n",
       "      <td>30.726645</td>\n",
       "      <td>0</td>\n",
       "      <td>0</td>\n",
       "      <td>8.4583</td>\n",
       "      <td>Q</td>\n",
       "    </tr>\n",
       "    <tr>\n",
       "      <th>6</th>\n",
       "      <td>0</td>\n",
       "      <td>1</td>\n",
       "      <td>male</td>\n",
       "      <td>54.000000</td>\n",
       "      <td>0</td>\n",
       "      <td>0</td>\n",
       "      <td>51.8625</td>\n",
       "      <td>S</td>\n",
       "    </tr>\n",
       "    <tr>\n",
       "      <th>7</th>\n",
       "      <td>0</td>\n",
       "      <td>3</td>\n",
       "      <td>male</td>\n",
       "      <td>2.000000</td>\n",
       "      <td>3</td>\n",
       "      <td>1</td>\n",
       "      <td>21.0750</td>\n",
       "      <td>S</td>\n",
       "    </tr>\n",
       "  </tbody>\n",
       "</table>\n",
       "</div>"
      ],
      "text/plain": [
       "   Survived  Pclass   Sex        Age  SibSp  Parch     Fare Embarked\n",
       "0         0       3  male  22.000000      1      0   7.2500        S\n",
       "4         0       3  male  35.000000      0      0   8.0500        S\n",
       "5         0       3  male  30.726645      0      0   8.4583        Q\n",
       "6         0       1  male  54.000000      0      0  51.8625        S\n",
       "7         0       3  male   2.000000      3      1  21.0750        S"
      ]
     },
     "execution_count": 12,
     "metadata": {},
     "output_type": "execute_result"
    }
   ],
   "source": [
    "#使用Embarked变量的众数进行缺失值填充\n",
    "titanic.fillna(value={'Embarked':titanic.Embarked.mode()[0]}, inplace=True)\n",
    "titanic.head()"
   ]
  },
  {
   "cell_type": "code",
   "execution_count": 14,
   "id": "ec58a6d0",
   "metadata": {},
   "outputs": [
    {
     "data": {
      "text/html": [
       "<div>\n",
       "<style scoped>\n",
       "    .dataframe tbody tr th:only-of-type {\n",
       "        vertical-align: middle;\n",
       "    }\n",
       "\n",
       "    .dataframe tbody tr th {\n",
       "        vertical-align: top;\n",
       "    }\n",
       "\n",
       "    .dataframe thead th {\n",
       "        text-align: right;\n",
       "    }\n",
       "</style>\n",
       "<table border=\"1\" class=\"dataframe\">\n",
       "  <thead>\n",
       "    <tr style=\"text-align: right;\">\n",
       "      <th></th>\n",
       "      <th>Survived</th>\n",
       "      <th>Pclass</th>\n",
       "      <th>Sex</th>\n",
       "      <th>Age</th>\n",
       "      <th>SibSp</th>\n",
       "      <th>Parch</th>\n",
       "      <th>Fare</th>\n",
       "      <th>Embarked</th>\n",
       "    </tr>\n",
       "  </thead>\n",
       "  <tbody>\n",
       "    <tr>\n",
       "      <th>0</th>\n",
       "      <td>0</td>\n",
       "      <td>3</td>\n",
       "      <td>male</td>\n",
       "      <td>22.000000</td>\n",
       "      <td>1</td>\n",
       "      <td>0</td>\n",
       "      <td>7.2500</td>\n",
       "      <td>S</td>\n",
       "    </tr>\n",
       "    <tr>\n",
       "      <th>4</th>\n",
       "      <td>0</td>\n",
       "      <td>3</td>\n",
       "      <td>male</td>\n",
       "      <td>35.000000</td>\n",
       "      <td>0</td>\n",
       "      <td>0</td>\n",
       "      <td>8.0500</td>\n",
       "      <td>S</td>\n",
       "    </tr>\n",
       "    <tr>\n",
       "      <th>5</th>\n",
       "      <td>0</td>\n",
       "      <td>3</td>\n",
       "      <td>male</td>\n",
       "      <td>30.726645</td>\n",
       "      <td>0</td>\n",
       "      <td>0</td>\n",
       "      <td>8.4583</td>\n",
       "      <td>Q</td>\n",
       "    </tr>\n",
       "    <tr>\n",
       "      <th>6</th>\n",
       "      <td>0</td>\n",
       "      <td>1</td>\n",
       "      <td>male</td>\n",
       "      <td>54.000000</td>\n",
       "      <td>0</td>\n",
       "      <td>0</td>\n",
       "      <td>51.8625</td>\n",
       "      <td>S</td>\n",
       "    </tr>\n",
       "    <tr>\n",
       "      <th>7</th>\n",
       "      <td>0</td>\n",
       "      <td>3</td>\n",
       "      <td>male</td>\n",
       "      <td>2.000000</td>\n",
       "      <td>3</td>\n",
       "      <td>1</td>\n",
       "      <td>21.0750</td>\n",
       "      <td>S</td>\n",
       "    </tr>\n",
       "  </tbody>\n",
       "</table>\n",
       "</div>"
      ],
      "text/plain": [
       "   Survived Pclass   Sex        Age  SibSp  Parch     Fare Embarked\n",
       "0         0      3  male  22.000000      1      0   7.2500        S\n",
       "4         0      3  male  35.000000      0      0   8.0500        S\n",
       "5         0      3  male  30.726645      0      0   8.4583        Q\n",
       "6         0      1  male  54.000000      0      0  51.8625        S\n",
       "7         0      3  male   2.000000      3      1  21.0750        S"
      ]
     },
     "execution_count": 14,
     "metadata": {},
     "output_type": "execute_result"
    }
   ],
   "source": [
    "#将数值型的Pclass转换为类别型，否则无法对其进行哑变量处理\n",
    "titanic.Pclass = titanic.Pclass.astype('category')\n",
    "titanic.head()"
   ]
  },
  {
   "cell_type": "code",
   "execution_count": 15,
   "id": "e42c41e9",
   "metadata": {},
   "outputs": [
    {
     "data": {
      "text/html": [
       "<div>\n",
       "<style scoped>\n",
       "    .dataframe tbody tr th:only-of-type {\n",
       "        vertical-align: middle;\n",
       "    }\n",
       "\n",
       "    .dataframe tbody tr th {\n",
       "        vertical-align: top;\n",
       "    }\n",
       "\n",
       "    .dataframe thead th {\n",
       "        text-align: right;\n",
       "    }\n",
       "</style>\n",
       "<table border=\"1\" class=\"dataframe\">\n",
       "  <thead>\n",
       "    <tr style=\"text-align: right;\">\n",
       "      <th></th>\n",
       "      <th>Sex_female</th>\n",
       "      <th>Sex_male</th>\n",
       "      <th>Embarked_C</th>\n",
       "      <th>Embarked_Q</th>\n",
       "      <th>Embarked_S</th>\n",
       "      <th>Pclass_1</th>\n",
       "      <th>Pclass_2</th>\n",
       "      <th>Pclass_3</th>\n",
       "    </tr>\n",
       "  </thead>\n",
       "  <tbody>\n",
       "    <tr>\n",
       "      <th>0</th>\n",
       "      <td>0</td>\n",
       "      <td>1</td>\n",
       "      <td>0</td>\n",
       "      <td>0</td>\n",
       "      <td>1</td>\n",
       "      <td>0</td>\n",
       "      <td>0</td>\n",
       "      <td>1</td>\n",
       "    </tr>\n",
       "    <tr>\n",
       "      <th>4</th>\n",
       "      <td>0</td>\n",
       "      <td>1</td>\n",
       "      <td>0</td>\n",
       "      <td>0</td>\n",
       "      <td>1</td>\n",
       "      <td>0</td>\n",
       "      <td>0</td>\n",
       "      <td>1</td>\n",
       "    </tr>\n",
       "    <tr>\n",
       "      <th>5</th>\n",
       "      <td>0</td>\n",
       "      <td>1</td>\n",
       "      <td>0</td>\n",
       "      <td>1</td>\n",
       "      <td>0</td>\n",
       "      <td>0</td>\n",
       "      <td>0</td>\n",
       "      <td>1</td>\n",
       "    </tr>\n",
       "    <tr>\n",
       "      <th>6</th>\n",
       "      <td>0</td>\n",
       "      <td>1</td>\n",
       "      <td>0</td>\n",
       "      <td>0</td>\n",
       "      <td>1</td>\n",
       "      <td>1</td>\n",
       "      <td>0</td>\n",
       "      <td>0</td>\n",
       "    </tr>\n",
       "    <tr>\n",
       "      <th>7</th>\n",
       "      <td>0</td>\n",
       "      <td>1</td>\n",
       "      <td>0</td>\n",
       "      <td>0</td>\n",
       "      <td>1</td>\n",
       "      <td>0</td>\n",
       "      <td>0</td>\n",
       "      <td>1</td>\n",
       "    </tr>\n",
       "  </tbody>\n",
       "</table>\n",
       "</div>"
      ],
      "text/plain": [
       "   Sex_female  Sex_male  Embarked_C  Embarked_Q  Embarked_S  Pclass_1  \\\n",
       "0           0         1           0           0           1         0   \n",
       "4           0         1           0           0           1         0   \n",
       "5           0         1           0           1           0         0   \n",
       "6           0         1           0           0           1         1   \n",
       "7           0         1           0           0           1         0   \n",
       "\n",
       "   Pclass_2  Pclass_3  \n",
       "0         0         1  \n",
       "4         0         1  \n",
       "5         0         1  \n",
       "6         0         0  \n",
       "7         0         1  "
      ]
     },
     "execution_count": 15,
     "metadata": {},
     "output_type": "execute_result"
    }
   ],
   "source": [
    "#哑变量处理\n",
    "dummy = pd.get_dummies(titanic[['Sex', 'Embarked', 'Pclass']])\n",
    "dummy.head()"
   ]
  },
  {
   "cell_type": "code",
   "execution_count": 16,
   "id": "eeb0e11d",
   "metadata": {},
   "outputs": [
    {
     "data": {
      "text/html": [
       "<div>\n",
       "<style scoped>\n",
       "    .dataframe tbody tr th:only-of-type {\n",
       "        vertical-align: middle;\n",
       "    }\n",
       "\n",
       "    .dataframe tbody tr th {\n",
       "        vertical-align: top;\n",
       "    }\n",
       "\n",
       "    .dataframe thead th {\n",
       "        text-align: right;\n",
       "    }\n",
       "</style>\n",
       "<table border=\"1\" class=\"dataframe\">\n",
       "  <thead>\n",
       "    <tr style=\"text-align: right;\">\n",
       "      <th></th>\n",
       "      <th>Survived</th>\n",
       "      <th>Age</th>\n",
       "      <th>SibSp</th>\n",
       "      <th>Parch</th>\n",
       "      <th>Fare</th>\n",
       "      <th>Sex_female</th>\n",
       "      <th>Sex_male</th>\n",
       "      <th>Embarked_C</th>\n",
       "      <th>Embarked_Q</th>\n",
       "      <th>Embarked_S</th>\n",
       "      <th>Pclass_1</th>\n",
       "      <th>Pclass_2</th>\n",
       "      <th>Pclass_3</th>\n",
       "    </tr>\n",
       "  </thead>\n",
       "  <tbody>\n",
       "    <tr>\n",
       "      <th>0</th>\n",
       "      <td>0</td>\n",
       "      <td>22.000000</td>\n",
       "      <td>1</td>\n",
       "      <td>0</td>\n",
       "      <td>7.2500</td>\n",
       "      <td>0</td>\n",
       "      <td>1</td>\n",
       "      <td>0</td>\n",
       "      <td>0</td>\n",
       "      <td>1</td>\n",
       "      <td>0</td>\n",
       "      <td>0</td>\n",
       "      <td>1</td>\n",
       "    </tr>\n",
       "    <tr>\n",
       "      <th>4</th>\n",
       "      <td>0</td>\n",
       "      <td>35.000000</td>\n",
       "      <td>0</td>\n",
       "      <td>0</td>\n",
       "      <td>8.0500</td>\n",
       "      <td>0</td>\n",
       "      <td>1</td>\n",
       "      <td>0</td>\n",
       "      <td>0</td>\n",
       "      <td>1</td>\n",
       "      <td>0</td>\n",
       "      <td>0</td>\n",
       "      <td>1</td>\n",
       "    </tr>\n",
       "    <tr>\n",
       "      <th>5</th>\n",
       "      <td>0</td>\n",
       "      <td>30.726645</td>\n",
       "      <td>0</td>\n",
       "      <td>0</td>\n",
       "      <td>8.4583</td>\n",
       "      <td>0</td>\n",
       "      <td>1</td>\n",
       "      <td>0</td>\n",
       "      <td>1</td>\n",
       "      <td>0</td>\n",
       "      <td>0</td>\n",
       "      <td>0</td>\n",
       "      <td>1</td>\n",
       "    </tr>\n",
       "    <tr>\n",
       "      <th>6</th>\n",
       "      <td>0</td>\n",
       "      <td>54.000000</td>\n",
       "      <td>0</td>\n",
       "      <td>0</td>\n",
       "      <td>51.8625</td>\n",
       "      <td>0</td>\n",
       "      <td>1</td>\n",
       "      <td>0</td>\n",
       "      <td>0</td>\n",
       "      <td>1</td>\n",
       "      <td>1</td>\n",
       "      <td>0</td>\n",
       "      <td>0</td>\n",
       "    </tr>\n",
       "    <tr>\n",
       "      <th>7</th>\n",
       "      <td>0</td>\n",
       "      <td>2.000000</td>\n",
       "      <td>3</td>\n",
       "      <td>1</td>\n",
       "      <td>21.0750</td>\n",
       "      <td>0</td>\n",
       "      <td>1</td>\n",
       "      <td>0</td>\n",
       "      <td>0</td>\n",
       "      <td>1</td>\n",
       "      <td>0</td>\n",
       "      <td>0</td>\n",
       "      <td>1</td>\n",
       "    </tr>\n",
       "  </tbody>\n",
       "</table>\n",
       "</div>"
      ],
      "text/plain": [
       "   Survived        Age  SibSp  Parch     Fare  Sex_female  Sex_male  \\\n",
       "0         0  22.000000      1      0   7.2500           0         1   \n",
       "4         0  35.000000      0      0   8.0500           0         1   \n",
       "5         0  30.726645      0      0   8.4583           0         1   \n",
       "6         0  54.000000      0      0  51.8625           0         1   \n",
       "7         0   2.000000      3      1  21.0750           0         1   \n",
       "\n",
       "   Embarked_C  Embarked_Q  Embarked_S  Pclass_1  Pclass_2  Pclass_3  \n",
       "0           0           0           1         0         0         1  \n",
       "4           0           0           1         0         0         1  \n",
       "5           0           1           0         0         0         1  \n",
       "6           0           0           1         1         0         0  \n",
       "7           0           0           1         0         0         1  "
      ]
     },
     "execution_count": 16,
     "metadata": {},
     "output_type": "execute_result"
    }
   ],
   "source": [
    "#水平合并titanic数据集和哑变量的数据集\n",
    "titanic = pd.concat([titanic, dummy], axis=1)\n",
    "#删除原始的Sex、Embarked和Pclass变量\n",
    "titanic.drop(['Sex', 'Embarked', 'Pclass'], axis=1, inplace=True)\n",
    "titanic.head()"
   ]
  },
  {
   "cell_type": "markdown",
   "id": "3e1e6033",
   "metadata": {},
   "source": [
    "### 数据拆分"
   ]
  },
  {
   "cell_type": "code",
   "execution_count": 17,
   "id": "2992fd27",
   "metadata": {},
   "outputs": [],
   "source": [
    "#导入第三方包\n",
    "from sklearn import model_selection"
   ]
  },
  {
   "cell_type": "code",
   "execution_count": 19,
   "id": "0f4ca440",
   "metadata": {},
   "outputs": [
    {
     "data": {
      "text/plain": [
       "Index(['Age', 'SibSp', 'Parch', 'Fare', 'Sex_female', 'Sex_male', 'Embarked_C',\n",
       "       'Embarked_Q', 'Embarked_S', 'Pclass_1', 'Pclass_2', 'Pclass_3'],\n",
       "      dtype='object')"
      ]
     },
     "execution_count": 19,
     "metadata": {},
     "output_type": "execute_result"
    }
   ],
   "source": [
    "#取出所有自变量名称\n",
    "predictors = titanic.columns[1:]\n",
    "predictors"
   ]
  },
  {
   "cell_type": "code",
   "execution_count": 21,
   "id": "4f4c449c",
   "metadata": {},
   "outputs": [],
   "source": [
    "#将数据集拆分为训练集和测试集，测试集的比例为25%\n",
    "X_train, X_test, y_train, y_test = model_selection.train_test_split(titanic[predictors], titanic.Survived, test_size=0.25, random_state=1234)\n"
   ]
  },
  {
   "cell_type": "markdown",
   "id": "a6de3d41",
   "metadata": {},
   "source": [
    "## 决策树"
   ]
  },
  {
   "cell_type": "markdown",
   "id": "de0ec984",
   "metadata": {},
   "source": [
    "### 模型函数"
   ]
  },
  {
   "cell_type": "markdown",
   "id": "ee0e1e11",
   "metadata": {},
   "source": [
    "DecisionTreeClassifier(criterion='gini', splitter='best', max_depth=None, min_samples_split=2, min_samples_leaf=1, max_leaf_nodes=None, class_weight=None)  \n",
    "criterion：用于指定选择节点字段的评价指标，对于分类决策树，默认为'gini'，表示才有基尼指数选择的最佳分割字段；对于回归决策树，默认为'mse'，表示使用均方误差选择节点的最佳分割字段  \n",
    "splitter：用于指定节点中的分割点选择方法，默认为'best'，表示从所有的分割点中选择最佳分割点；如果指定为'random'，则表示随机选择分割点  \n",
    "max_depth：用于指定决策树最大深度，默认为None，表示树的生长过程中对深度不做任何限制  \n",
    "min_samples_split：用于指定根节点或中间节点能够继续分割的最小样本量，默认为2  \n",
    "min_sample_leaf：用于指定叶节点的最小样本量，默认为1  \n",
    "max_leaf_nodes：用于指定最大的叶节点个数，默认为None，表示对叶节点个数不做任何限制  \n",
    "class_weight：用于指定因变量中类别之间的权重，默认为None，表示每个类别权重都相等；如果为balance，则表示类别权重与原始样本中类别的比例成反比；还可以通过字典传递类别之间的权重差异，其形式为(class_label:weight)"
   ]
  },
  {
   "cell_type": "markdown",
   "id": "dbe0efd6",
   "metadata": {},
   "source": [
    "### 模型建立"
   ]
  },
  {
   "cell_type": "code",
   "execution_count": 22,
   "id": "ca170d8f",
   "metadata": {},
   "outputs": [],
   "source": [
    "#导入第三方模块\n",
    "from sklearn.model_selection import GridSearchCV\n",
    "from sklearn import tree"
   ]
  },
  {
   "cell_type": "code",
   "execution_count": 23,
   "id": "3b3e71c6",
   "metadata": {},
   "outputs": [],
   "source": [
    "#预设各参数的不同选项值\n",
    "max_depth = [2, 3, 4, 5, 6]\n",
    "min_samples_split = [2, 4, 6, 8]\n",
    "min_samples_leaf = [2, 4, 8, 10, 12]"
   ]
  },
  {
   "cell_type": "code",
   "execution_count": 24,
   "id": "77f586b6",
   "metadata": {},
   "outputs": [],
   "source": [
    "#将各参数数值以字典形式组织起来\n",
    "parameters = {'max_depth':max_depth, 'min_samples_split':min_samples_split, 'min_samples_leaf':min_samples_leaf}"
   ]
  },
  {
   "cell_type": "code",
   "execution_count": 25,
   "id": "20b73d45",
   "metadata": {},
   "outputs": [],
   "source": [
    "#网格搜索法，测试不同的参数数值\n",
    "grid_dtcateg = GridSearchCV(estimator=tree.DecisionTreeClassifier(), param_grid=parameters, cv=10)\n"
   ]
  },
  {
   "cell_type": "code",
   "execution_count": 26,
   "id": "05044a71",
   "metadata": {},
   "outputs": [
    {
     "data": {
      "text/plain": [
       "{'max_depth': 6, 'min_samples_leaf': 8, 'min_samples_split': 2}"
      ]
     },
     "execution_count": 26,
     "metadata": {},
     "output_type": "execute_result"
    }
   ],
   "source": [
    "#模型拟合\n",
    "grid_dtcateg.fit(X_train, y_train)\n",
    "#返回最佳参数值\n",
    "grid_dtcateg.best_params_"
   ]
  },
  {
   "cell_type": "code",
   "execution_count": 27,
   "id": "8e6ff43b",
   "metadata": {},
   "outputs": [],
   "source": [
    "#导入第三方模块\n",
    "from sklearn import metrics"
   ]
  },
  {
   "cell_type": "code",
   "execution_count": 28,
   "id": "df676c2a",
   "metadata": {},
   "outputs": [],
   "source": [
    "#构建分类决策树\n",
    "CART_Class = tree.DecisionTreeClassifier(max_depth=6, min_samples_leaf=8, min_samples_split=2)"
   ]
  },
  {
   "cell_type": "code",
   "execution_count": 29,
   "id": "6690e432",
   "metadata": {},
   "outputs": [],
   "source": [
    "#模型拟合\n",
    "decision_tree = CART_Class.fit(X_train, y_train)"
   ]
  },
  {
   "cell_type": "markdown",
   "id": "4e22fcb9",
   "metadata": {},
   "source": [
    "### 模型的预测与评估"
   ]
  },
  {
   "cell_type": "code",
   "execution_count": 31,
   "id": "ede90218",
   "metadata": {},
   "outputs": [],
   "source": [
    "#模型在测试集上的预测\n",
    "pred =CART_Class.predict(X_test)"
   ]
  },
  {
   "cell_type": "code",
   "execution_count": 32,
   "id": "6173fc60",
   "metadata": {},
   "outputs": [
    {
     "name": "stdout",
     "output_type": "stream",
     "text": [
      "模型在测试集的预测准确率：\n",
      " 0.8475336322869955\n"
     ]
    }
   ],
   "source": [
    "#模型的准确率\n",
    "print('模型在测试集的预测准确率：\\n', metrics.accuracy_score(y_test, pred))"
   ]
  },
  {
   "cell_type": "code",
   "execution_count": 34,
   "id": "9fb31c5b",
   "metadata": {},
   "outputs": [
    {
     "data": {
      "image/png": "[encoded data removed]",
      "text/plain": [
       "<Figure size 432x288 with 1 Axes>"
      ]
     },
     "metadata": {
      "needs_background": "light"
     },
     "output_type": "display_data"
    }
   ],
   "source": [
    "#ROC曲线\n",
    "#导入第三方包\n",
    "import matplotlib.pyplot as plt\n",
    "y_score = CART_Class.predict_proba(X_test)[:, 1]\n",
    "fpr,tpr,threshold = metrics.roc_curve(y_test, y_score)\n",
    "#计算AUC的值\n",
    "roc_auc = metrics.auc(fpr, tpr)\n",
    "\n",
    "#绘制面积图\n",
    "plt.stackplot(fpr, tpr, color='steelblue', alpha=0.5, edgecolor='black')\n",
    "#添加边际线\n",
    "plt.plot(fpr, tpr, color='black', lw=1)\n",
    "#添加对角线\n",
    "plt.plot([0, 1], [0, 1], color='red', linestyle='--')\n",
    "#添加文本信息\n",
    "plt.text(0.5, 0.3, 'ROC curve (area = %0.2f)' %roc_auc)\n",
    "#添加x轴与y轴标签\n",
    "plt.xlabel('1-Specificity')\n",
    "plt.ylabel('Sensitivity')\n",
    "#显示图形\n",
    "plt.show()"
   ]
  },
  {
   "cell_type": "code",
   "execution_count": null,
   "id": "756c31aa",
   "metadata": {},
   "outputs": [],
   "source": [
    "# 需要在电脑中安装Graphviz\n",
    "# https://graphviz.gitlab.io/_pages/Download/Download_windows.html\n",
    "# 然后将解压文件中的bin设置到环境变量中\n",
    "# 导入第三方模块\n",
    "from sklearn.tree import export_graphviz\n",
    "from IPython.display import Image\n",
    "import pydotplus\n",
    "from sklearn.externals.six import StringIO\n",
    "# 绘制决策树\n",
    "dot_data = StringIO()\n",
    "export_graphviz(\n",
    "    decision_tree,\n",
    "    out_file=dot_data,  \n",
    "    feature_names=predictors,\n",
    "    class_names=['Unsurvived','Survived'],  \n",
    "    # filled=True,\n",
    "    rounded=True,  \n",
    "    special_characters=True\n",
    ")\n",
    "# 决策树展现\n",
    "graph = pydotplus.graph_from_dot_data(dot_data.getvalue())\n",
    "Image(graph.create_png()) "
   ]
  },
  {
   "cell_type": "markdown",
   "id": "511711bc",
   "metadata": {},
   "source": [
    "## 随机森林"
   ]
  },
  {
   "cell_type": "markdown",
   "id": "9961bb74",
   "metadata": {},
   "source": [
    "### 模型函数"
   ]
  },
  {
   "cell_type": "markdown",
   "id": "78ef84f8",
   "metadata": {},
   "source": [
    "RandomForestClassifier(n_estimators=10, criterion='gini', max_depth=None, min_samples_split=2, min_samples_leaf=1, max_leaf_nodes=None, bootstrap=True, class_weight=None)  \n",
    "n_estimators：用于指定随机森林所包含的决策树个数  \n",
    "criterion：用于指定每棵决策树节点的分割字段所使用的度量标准，用于分类的随机森林，默认的criterion值为'gini'；用于回归的随机森林，默认的criterion值为'mse'  \n",
    "max_depth：用于指定每棵决策树的最大深度，默认不限制树的生长深度  \n",
    "min_samples_split：用于指定每棵决策树根节点或中间节点能够继续分割的最小样本量，默认为2  \n",
    "min_sample_leaf：用于指定每个决策树叶节点的最小样本量，默认为1  \n",
    "max_leaf_nodes：用于指定每棵决策树最大的叶节点个数，默认为None，表示节点个数不做任何限制  \n",
    "bootstraop：bool类型参数，是否对原始数据集进行bootstrap抽样，用于子树的构建，默认为True  \n",
    "class_weight：用于指定因变量中类别之间的权重，默认为None,表示每个类别的权重都相等  "
   ]
  },
  {
   "cell_type": "markdown",
   "id": "9ff94250",
   "metadata": {},
   "source": [
    "### 模型构建"
   ]
  },
  {
   "cell_type": "code",
   "execution_count": 35,
   "id": "0e1359ec",
   "metadata": {},
   "outputs": [],
   "source": [
    "# 导入第三方包\n",
    "from sklearn import ensemble"
   ]
  },
  {
   "cell_type": "code",
   "execution_count": 36,
   "id": "83ba3999",
   "metadata": {},
   "outputs": [
    {
     "data": {
      "text/plain": [
       "RandomForestClassifier(n_estimators=200, random_state=1234)"
      ]
     },
     "execution_count": 36,
     "metadata": {},
     "output_type": "execute_result"
    }
   ],
   "source": [
    "#构建随机森林\n",
    "RF_class = ensemble.RandomForestClassifier(n_estimators=200, random_state=1234)\n",
    "#随机森林的拟合\n",
    "RF_class.fit(X_train, y_train)"
   ]
  },
  {
   "cell_type": "markdown",
   "id": "41d70194",
   "metadata": {},
   "source": [
    "### 模型的预测与评估"
   ]
  },
  {
   "cell_type": "code",
   "execution_count": 37,
   "id": "43e85a6d",
   "metadata": {},
   "outputs": [],
   "source": [
    "#模型在测试集上的预测\n",
    "RFclass_pred = RF_class.predict(X_test)"
   ]
  },
  {
   "cell_type": "code",
   "execution_count": 38,
   "id": "4e942bf8",
   "metadata": {},
   "outputs": [
    {
     "name": "stdout",
     "output_type": "stream",
     "text": [
      "模型在测试集的预测准确率：\n",
      " 0.852017937219731\n"
     ]
    }
   ],
   "source": [
    "#模型的准确率\n",
    "print('模型在测试集的预测准确率：\\n', metrics.accuracy_score(y_test, RFclass_pred))"
   ]
  },
  {
   "cell_type": "code",
   "execution_count": 40,
   "id": "1a8e0cc0",
   "metadata": {},
   "outputs": [
    {
     "data": {
      "image/png": "[encoded data removed]",
      "text/plain": [
       "<Figure size 432x288 with 1 Axes>"
      ]
     },
     "metadata": {
      "needs_background": "light"
     },
     "output_type": "display_data"
    }
   ],
   "source": [
    "#绘制ROC曲线\n",
    "#计算绘图数据\n",
    "y_score = RF_class.predict_proba(X_test)[:, 1]\n",
    "fpr, tpr, threshold = metrics.roc_curve(y_test, y_score)\n",
    "roc_auc = metrics.auc(fpr, tpr)\n",
    "#绘图\n",
    "plt.stackplot(fpr, tpr, color='steelblue', alpha=0.5, edgecolor='black')\n",
    "plt.plot(fpr, tpr, color='black', lw=1)\n",
    "plt.plot([0, 1], [0, 1], color='red', linestyle='--')\n",
    "plt.text(0.5, 0.3, 'ROC curve (area = %0.2f)' % roc_auc)\n",
    "plt.xlabel('1-Specificity')\n",
    "plt.ylabel('Sensitivity')\n",
    "plt.show()"
   ]
  },
  {
   "cell_type": "markdown",
   "id": "86950415",
   "metadata": {},
   "source": [
    "### 变量重要性"
   ]
  },
  {
   "cell_type": "code",
   "execution_count": 43,
   "id": "9d6dd422",
   "metadata": {},
   "outputs": [
    {
     "data": {
      "image/png": "[encoded data removed]",
      "text/plain": [
       "<Figure size 432x288 with 1 Axes>"
      ]
     },
     "metadata": {
      "needs_background": "light"
     },
     "output_type": "display_data"
    }
   ],
   "source": [
    "#变量的重要性程度值\n",
    "importance = RF_class.feature_importances_\n",
    "#构建行序列用于绘图\n",
    "Impt_Series = pd.Series(importance, index=X_train.columns)\n",
    "#对序列排序绘图\n",
    "Impt_Series.sort_values(ascending=True).plot(kind='barh')\n",
    "plt.show()"
   ]
  }
 ],
 "metadata": {
  "kernelspec": {
   "display_name": "Python 3",
   "language": "python",
   "name": "python3"
  },
  "language_info": {
   "codemirror_mode": {
    "name": "ipython",
    "version": 3
   },
   "file_extension": ".py",
   "mimetype": "text/x-python",
   "name": "python",
   "nbconvert_exporter": "python",
   "pygments_lexer": "ipython3",
   "version": "3.7.10"
  },
  "toc": {
   "base_numbering": 1,
   "nav_menu": {},
   "number_sections": true,
   "sideBar": true,
   "skip_h1_title": false,
   "title_cell": "Table of Contents",
   "title_sidebar": "Contents",
   "toc_cell": false,
   "toc_position": {},
   "toc_section_display": true,
   "toc_window_display": false
  }
 },
 "nbformat": 4,
 "nbformat_minor": 5
}
