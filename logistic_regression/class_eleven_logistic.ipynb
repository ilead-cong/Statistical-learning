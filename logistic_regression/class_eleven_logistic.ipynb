{
 "cells": [
  {
   "cell_type": "markdown",
   "id": "55b9bb3b",
   "metadata": {},
   "source": [
    "# logistic 回归"
   ]
  },
  {
   "cell_type": "markdown",
   "id": "b3bc3256",
   "metadata": {},
   "source": [
    " logistic回归，是进行分类的模型"
   ]
  },
  {
   "cell_type": "markdown",
   "id": "948353dc",
   "metadata": {},
   "source": [
    "![jupyter](./class_eleven_1.png)"
   ]
  },
  {
   "cell_type": "markdown",
   "id": "3cc34784",
   "metadata": {},
   "source": [
    "![jupyter](./class_eleven_2.png)"
   ]
  },
  {
   "cell_type": "markdown",
   "id": "e3fd92d5",
   "metadata": {},
   "source": [
    "## sklearn"
   ]
  },
  {
   "cell_type": "markdown",
   "id": "94f9a0fd",
   "metadata": {},
   "source": [
    "### 模型建立"
   ]
  },
  {
   "cell_type": "markdown",
   "id": "0ed7c564",
   "metadata": {},
   "source": [
    "LogisticRegression(tol=0.0001, fit_intercept=True, class_weight=None, max_iter=100)  \n",
    "tol：用于指定模型收敛的阈值\n",
    "fit_intercept：bool类型参数，是否拟合模型的截距项，默认为True  \n",
    "class_weight：用于指定因变量类别的权重，如果为字典，则痛字典的形式{class_label:weight}传递每个类别的权重；如果为字符串'balanced'，则每个分类的权重与实际样本中的比例成反比，当各分类存在严重不平衡时，设置为'balance'会比较好；如果为None，则表示每个分类的权重相等  \n",
    "max_iter：指定模型求解过程中的最大迭代次数，默认为100"
   ]
  },
  {
   "cell_type": "code",
   "execution_count": 2,
   "id": "7cba24fd",
   "metadata": {},
   "outputs": [],
   "source": [
    "#导入第三方模块\n",
    "import pandas as pd\n",
    "import numpy as np\n",
    "from sklearn import model_selection\n",
    "from sklearn import linear_model"
   ]
  },
  {
   "cell_type": "code",
   "execution_count": 3,
   "id": "92f16541",
   "metadata": {},
   "outputs": [
    {
     "data": {
      "text/html": [
       "<div>\n",
       "<style scoped>\n",
       "    .dataframe tbody tr th:only-of-type {\n",
       "        vertical-align: middle;\n",
       "    }\n",
       "\n",
       "    .dataframe tbody tr th {\n",
       "        vertical-align: top;\n",
       "    }\n",
       "\n",
       "    .dataframe thead th {\n",
       "        text-align: right;\n",
       "    }\n",
       "</style>\n",
       "<table border=\"1\" class=\"dataframe\">\n",
       "  <thead>\n",
       "    <tr style=\"text-align: right;\">\n",
       "      <th></th>\n",
       "      <th>date</th>\n",
       "      <th>time</th>\n",
       "      <th>username</th>\n",
       "      <th>activity</th>\n",
       "      <th>acceleration_x</th>\n",
       "      <th>acceleration_y</th>\n",
       "      <th>acceleration_z</th>\n",
       "      <th>gyro_x</th>\n",
       "      <th>gyro_y</th>\n",
       "      <th>gyro_z</th>\n",
       "    </tr>\n",
       "  </thead>\n",
       "  <tbody>\n",
       "    <tr>\n",
       "      <th>0</th>\n",
       "      <td>2017/6/30</td>\n",
       "      <td>13:51:15:847724020</td>\n",
       "      <td>viktor</td>\n",
       "      <td>0</td>\n",
       "      <td>0.2650</td>\n",
       "      <td>-0.7814</td>\n",
       "      <td>-0.0076</td>\n",
       "      <td>-0.0590</td>\n",
       "      <td>0.0325</td>\n",
       "      <td>-2.9296</td>\n",
       "    </tr>\n",
       "    <tr>\n",
       "      <th>1</th>\n",
       "      <td>2017/6/30</td>\n",
       "      <td>13:51:16:246945023</td>\n",
       "      <td>viktor</td>\n",
       "      <td>0</td>\n",
       "      <td>0.6722</td>\n",
       "      <td>-1.1233</td>\n",
       "      <td>-0.2344</td>\n",
       "      <td>-0.1757</td>\n",
       "      <td>0.0208</td>\n",
       "      <td>0.1269</td>\n",
       "    </tr>\n",
       "    <tr>\n",
       "      <th>2</th>\n",
       "      <td>2017/6/30</td>\n",
       "      <td>13:51:16:446233987</td>\n",
       "      <td>viktor</td>\n",
       "      <td>0</td>\n",
       "      <td>0.4399</td>\n",
       "      <td>-1.4817</td>\n",
       "      <td>0.0722</td>\n",
       "      <td>-0.9105</td>\n",
       "      <td>0.1063</td>\n",
       "      <td>-2.4367</td>\n",
       "    </tr>\n",
       "    <tr>\n",
       "      <th>3</th>\n",
       "      <td>2017/6/30</td>\n",
       "      <td>13:51:16:646117985</td>\n",
       "      <td>viktor</td>\n",
       "      <td>0</td>\n",
       "      <td>0.3031</td>\n",
       "      <td>-0.8125</td>\n",
       "      <td>0.0888</td>\n",
       "      <td>0.1199</td>\n",
       "      <td>-0.4099</td>\n",
       "      <td>-2.9336</td>\n",
       "    </tr>\n",
       "    <tr>\n",
       "      <th>4</th>\n",
       "      <td>2017/6/30</td>\n",
       "      <td>13:51:16:846738994</td>\n",
       "      <td>viktor</td>\n",
       "      <td>0</td>\n",
       "      <td>0.4814</td>\n",
       "      <td>-0.9312</td>\n",
       "      <td>0.0359</td>\n",
       "      <td>0.0527</td>\n",
       "      <td>0.4379</td>\n",
       "      <td>2.4922</td>\n",
       "    </tr>\n",
       "  </tbody>\n",
       "</table>\n",
       "</div>"
      ],
      "text/plain": [
       "        date                time username  activity  acceleration_x  \\\n",
       "0  2017/6/30  13:51:15:847724020   viktor         0          0.2650   \n",
       "1  2017/6/30  13:51:16:246945023   viktor         0          0.6722   \n",
       "2  2017/6/30  13:51:16:446233987   viktor         0          0.4399   \n",
       "3  2017/6/30  13:51:16:646117985   viktor         0          0.3031   \n",
       "4  2017/6/30  13:51:16:846738994   viktor         0          0.4814   \n",
       "\n",
       "   acceleration_y  acceleration_z  gyro_x  gyro_y  gyro_z  \n",
       "0         -0.7814         -0.0076 -0.0590  0.0325 -2.9296  \n",
       "1         -1.1233         -0.2344 -0.1757  0.0208  0.1269  \n",
       "2         -1.4817          0.0722 -0.9105  0.1063 -2.4367  \n",
       "3         -0.8125          0.0888  0.1199 -0.4099 -2.9336  \n",
       "4         -0.9312          0.0359  0.0527  0.4379  2.4922  "
      ]
     },
     "execution_count": 3,
     "metadata": {},
     "output_type": "execute_result"
    }
   ],
   "source": [
    "#读取数据\n",
    "sports = pd.read_csv(r'./data_class/Run or Walk.csv')\n",
    "sports.head()"
   ]
  },
  {
   "cell_type": "code",
   "execution_count": 7,
   "id": "4b438ba3",
   "metadata": {},
   "outputs": [],
   "source": [
    "#提取所有自变量名称\n",
    "predictors = sports.columns[4:]\n",
    "#构建自变量矩阵\n",
    "X = sports[predictors]\n",
    "#提取Y变量值\n",
    "y = sports.activity\n",
    "#将数据拆分为训练集和测试集\n",
    "X_train, X_test, y_train, y_test = model_selection.train_test_split(X, y, test_size=0.25, random_state=1234)"
   ]
  },
  {
   "cell_type": "code",
   "execution_count": 11,
   "id": "3150427f",
   "metadata": {},
   "outputs": [
    {
     "name": "stdout",
     "output_type": "stream",
     "text": [
      "[4.36637441] [[ 0.48695898  6.87517973 -2.44872468 -0.01385936 -0.16085022  0.13389695]]\n"
     ]
    }
   ],
   "source": [
    "#利用训练集数据建模\n",
    "sklearn_logistic = linear_model.LogisticRegression()\n",
    "sklearn_logistic.fit(X_train, y_train)\n",
    "#返回模型的各个参数\n",
    "print(sklearn_logistic.intercept_, sklearn_logistic.coef_)"
   ]
  },
  {
   "cell_type": "markdown",
   "id": "7caa3980",
   "metadata": {},
   "source": [
    "### 模型预测"
   ]
  },
  {
   "cell_type": "code",
   "execution_count": 13,
   "id": "7ecd8750",
   "metadata": {},
   "outputs": [
    {
     "data": {
      "text/plain": [
       "0    12119\n",
       "1    10028\n",
       "dtype: int64"
      ]
     },
     "execution_count": 13,
     "metadata": {},
     "output_type": "execute_result"
    }
   ],
   "source": [
    "#模型预测\n",
    "sklearn_predict = sklearn_logistic.predict(X_test)\n",
    "#预测结果统计\n",
    "pd.Series(sklearn_predict).value_counts()"
   ]
  },
  {
   "cell_type": "markdown",
   "id": "d9c11142",
   "metadata": {},
   "source": [
    "### 模型评估"
   ]
  },
  {
   "cell_type": "markdown",
   "id": "867e167c",
   "metadata": {},
   "source": [
    "#### 混淆矩阵"
   ]
  },
  {
   "cell_type": "markdown",
   "id": "13b22816",
   "metadata": {},
   "source": [
    "![jupyter](./class_eleven_3.png)"
   ]
  },
  {
   "cell_type": "code",
   "execution_count": 14,
   "id": "0585294e",
   "metadata": {},
   "outputs": [
    {
     "data": {
      "text/plain": [
       "array([[9969, 1122],\n",
       "       [2150, 8906]])"
      ]
     },
     "execution_count": 14,
     "metadata": {},
     "output_type": "execute_result"
    }
   ],
   "source": [
    "#导入第三方模块\n",
    "from sklearn import metrics\n",
    "#混淆矩阵\n",
    "cm = metrics.confusion_matrix(y_test, sklearn_predict, labels=[0, 1])\n",
    "cm"
   ]
  },
  {
   "cell_type": "code",
   "execution_count": 30,
   "id": "c1dbcb30",
   "metadata": {},
   "outputs": [
    {
     "name": "stdout",
     "output_type": "stream",
     "text": [
      "模型准确率为85.23%:\n",
      "正例覆盖率为80.55%:\n",
      "负例覆盖率为89.88%:\n"
     ]
    }
   ],
   "source": [
    "#计算几个率\n",
    "Accuracy = metrics.accuracy_score(y_test, sklearn_predict)\n",
    "Sensitivity = metrics.recall_score(y_test, sklearn_predict)\n",
    "Specificity = metrics.recall_score(y_test, sklearn_predict, pos_label=0)\n",
    "print('模型准确率为%.2f%%:'%(Accuracy*100))\n",
    "print('正例覆盖率为%.2f%%:'%(Sensitivity*100))\n",
    "print('负例覆盖率为%.2f%%:'%(Specificity*100))"
   ]
  },
  {
   "cell_type": "code",
   "execution_count": 33,
   "id": "cfa5aa75",
   "metadata": {},
   "outputs": [
    {
     "data": {
      "image/png": "[encoded data removed]",
      "text/plain": [
       "<Figure size 432x288 with 2 Axes>"
      ]
     },
     "metadata": {
      "needs_background": "light"
     },
     "output_type": "display_data"
    }
   ],
   "source": [
    "#混淆矩阵可视化\n",
    "#导入第三方模块\n",
    "import seaborn as sns\n",
    "import matplotlib.pyplot as plt\n",
    "#绘制热力图\n",
    "sns.heatmap(cm, annot=True, fmt='.2e', cmap='GnBu')\n",
    "#图形显示\n",
    "plt.show()"
   ]
  },
  {
   "cell_type": "markdown",
   "id": "e7858fb3",
   "metadata": {},
   "source": [
    "#### AUC曲线"
   ]
  },
  {
   "cell_type": "markdown",
   "id": "587b1e49",
   "metadata": {},
   "source": [
    "![jupyter](./class_eleven_4.png)"
   ]
  },
  {
   "cell_type": "code",
   "execution_count": 34,
   "id": "041f7e04",
   "metadata": {},
   "outputs": [
    {
     "data": {
      "text/plain": [
       "array([0.53999136, 0.05332726, 0.08395246, ..., 0.06702634, 0.19066771,\n",
       "       0.94551656])"
      ]
     },
     "execution_count": 34,
     "metadata": {},
     "output_type": "execute_result"
    }
   ],
   "source": [
    "#y得分为模型预测正例的概率\n",
    "y_score = sklearn_logistic.predict_proba(X_test)[:,1]\n",
    "y_score"
   ]
  },
  {
   "cell_type": "code",
   "execution_count": 37,
   "id": "5794d3eb",
   "metadata": {},
   "outputs": [],
   "source": [
    "#计算不同阈值下，fpr和tpr的组合值，其中fpr表示1-Specity, tpr表示Sensitivity\n",
    "fpr, tpr, threshold = metrics.roc_curve(y_test, y_score)\n",
    "\n",
    "#计算AUC的值\n",
    "roc_auc = metrics.auc(fpr, tpr)"
   ]
  },
  {
   "cell_type": "code",
   "execution_count": 39,
   "id": "e3f5b636",
   "metadata": {},
   "outputs": [
    {
     "data": {
      "image/png": "[encoded data removed]",
      "text/plain": [
       "<Figure size 432x288 with 1 Axes>"
      ]
     },
     "metadata": {
      "needs_background": "light"
     },
     "output_type": "display_data"
    }
   ],
   "source": [
    "#绘制面积图\n",
    "plt.stackplot(fpr, tpr, color='steelblue', alpha=0.5, edgecolor='black')\n",
    "#添加边际线\n",
    "plt.plot(fpr, tpr, color='black', lw=1)\n",
    "#添加对角线\n",
    "plt.plot([0,1], [0,1], color='red', linestyle='--')\n",
    "#添加文本信息\n",
    "plt.text(0.5, 0.3, 'ROC curve (area=%0.2f)'%roc_auc)\n",
    "#添加x轴与y轴标签\n",
    "plt.xlabel('1-Specificity')\n",
    "plt.ylabel('Sensitivity')\n",
    "#显示图形\n",
    "plt.show()"
   ]
  },
  {
   "cell_type": "markdown",
   "id": "8f148b9c",
   "metadata": {},
   "source": [
    "#### K-S曲线"
   ]
  },
  {
   "cell_type": "markdown",
   "id": "daf95db1",
   "metadata": {},
   "source": [
    "![jupyter](./class_eleven_5.png)"
   ]
  },
  {
   "cell_type": "code",
   "execution_count": 40,
   "id": "185aa0ec",
   "metadata": {},
   "outputs": [],
   "source": [
    "#K-S曲线的绘制\n",
    "#导入第三方包\n",
    "import pandas as pd\n",
    "import numpy as np\n",
    "import matplotlib.pyplot as plt\n"
   ]
  },
  {
   "cell_type": "code",
   "execution_count": 55,
   "id": "374a2816",
   "metadata": {},
   "outputs": [],
   "source": [
    "#自定义绘制K-S曲线的函数\n",
    "def plot_ks(y_test, y_score, positive_flag):\n",
    "    #对y_test重新设置索引\n",
    "    y_test.index = np.arange(len(y_test))\n",
    "    #构建目标数据集\n",
    "    target_data = pd.DataFrame({'y_test':y_test, 'y_score':y_score})\n",
    "    #按y_score降序排列\n",
    "    target_data.sort_values(by='y_score', ascending=False, inplace=True)\n",
    "    #自定义分位点\n",
    "    cuts = np.arange(0.1, 1, 0.1)\n",
    "    #计算各分位点对应的Score值\n",
    "    index = len(target_data.y_score)*cuts\n",
    "    scores = np.array(target_data.y_score)[index.astype('int')]\n",
    "    #根据不同的Score值，计算Sensitivity和Specificity\n",
    "    Sensitivity = []\n",
    "    Specificity = []\n",
    "    for score in scores:\n",
    "        #正例覆盖样本数量和实际正例样本量\n",
    "        positive_recall = target_data.loc[(target_data.y_test==positive_flag) & (target_data.y_score > score), :].shape[0]\n",
    "        positive = sum(target_data.y_test == positive_flag)\n",
    "        #负例覆盖样本量和实际负例样本量\n",
    "        negative_recall = target_data.loc[(target_data.y_test != positive_flag) & (target_data.y_score <= score), :].shape[0]\n",
    "        negative = sum(target_data.y_test != positive_flag)\n",
    "        Sensitivity.append(positive_recall/positive)\n",
    "        Specificity.append(negative_recall/negative)\n",
    "    #构建绘图数据\n",
    "    plot_data = pd.DataFrame({'cuts':cuts, 'y1':1-np.array(Specificity), 'y2':np.array(Sensitivity),\n",
    "                             'ks':np.array(Sensitivity)-(1-np.array(Specificity))})\n",
    "    #寻找Sensitivity和1-Specificity之差的最大索引\n",
    "    max_ks_index = np.argmax(plot_data.ks)\n",
    "    plt.plot([0]+cuts.tolist()+[1], [0]+plot_data.y1.tolist()+[1], label='1-Specificity')\n",
    "    plt.plot([0]+cuts.tolist()+[1], [0]+plot_data.y2.tolist()+[1], label='Sensitivity')\n",
    "    #添加参考线\n",
    "    plt.vlines(plot_data.cuts[max_ks_index], ymin=plot_data.y1[max_ks_index],\n",
    "              ymax=plot_data.y2[max_ks_index], linestyle='--')\n",
    "    #添加文本信息\n",
    "    plt.text(x=plot_data.cuts[max_ks_index]+0.01, y=plot_data.y1[max_ks_index]+plot_data.ks[max_ks_index]/2,\n",
    "            s = 'KS=%.2f'%plot_data.ks[max_ks_index])\n",
    "    #显示图例\n",
    "    plt.legend()\n",
    "    plt.show()\n",
    "    "
   ]
  },
  {
   "cell_type": "code",
   "execution_count": 56,
   "id": "1ca743ea",
   "metadata": {},
   "outputs": [
    {
     "data": {
      "image/png": "[encoded data removed]",
      "text/plain": [
       "<Figure size 432x288 with 1 Axes>"
      ]
     },
     "metadata": {
      "needs_background": "light"
     },
     "output_type": "display_data"
    }
   ],
   "source": [
    "#调用自定义函数， 绘制K-S曲线\n",
    "plot_ks(y_test=y_test, y_score=y_score, positive_flag=1)"
   ]
  },
  {
   "cell_type": "markdown",
   "id": "20a8e883",
   "metadata": {},
   "source": [
    "## statsmodels"
   ]
  },
  {
   "cell_type": "markdown",
   "id": "7e3d18c1",
   "metadata": {},
   "source": [
    "### 建模"
   ]
  },
  {
   "cell_type": "code",
   "execution_count": 58,
   "id": "b33467a2",
   "metadata": {},
   "outputs": [
    {
     "name": "stdout",
     "output_type": "stream",
     "text": [
      "Optimization terminated successfully.\n",
      "         Current function value: 0.324875\n",
      "         Iterations 8\n"
     ]
    },
    {
     "data": {
      "text/plain": [
       "const             4.388537\n",
       "acceleration_x    0.489617\n",
       "acceleration_y    6.906590\n",
       "acceleration_z   -2.459638\n",
       "gyro_x           -0.014715\n",
       "gyro_y           -0.161164\n",
       "gyro_z            0.134655\n",
       "dtype: float64"
      ]
     },
     "execution_count": 58,
     "metadata": {},
     "output_type": "execute_result"
    }
   ],
   "source": [
    "#建模\n",
    "#导入第三方模块\n",
    "import statsmodels.api as sm\n",
    "#拆分数据\n",
    "X_train, X_test, y_train, y_test = model_selection.train_test_split(X, y, test_size=0.25, random_state=1234)\n",
    "#为训练集和测试集数据的矩阵添加常数列1\n",
    "X_train2 = sm.add_constant(X_train)\n",
    "X_test2 = sm.add_constant(X_test)\n",
    "#拟合Logistic模型\n",
    "sm_logistic = sm.Logit(y_train, X_train2).fit()\n",
    "#返回模型参数\n",
    "sm_logistic.params"
   ]
  },
  {
   "cell_type": "markdown",
   "id": "df35cab6",
   "metadata": {},
   "source": [
    "### 模型预测"
   ]
  },
  {
   "cell_type": "code",
   "execution_count": 60,
   "id": "b53f073a",
   "metadata": {},
   "outputs": [
    {
     "data": {
      "text/plain": [
       "25365    0.540706\n",
       "41930    0.052846\n",
       "594      0.083316\n",
       "69382    0.023588\n",
       "87101    0.999483\n",
       "           ...   \n",
       "59284    0.999899\n",
       "85830    0.997302\n",
       "41669    0.066412\n",
       "45092    0.189987\n",
       "81236    0.946379\n",
       "Length: 22147, dtype: float64"
      ]
     },
     "execution_count": 60,
     "metadata": {},
     "output_type": "execute_result"
    }
   ],
   "source": [
    "sm_y_probability = sm_logistic.predict(X_test2)\n",
    "sm_y_probability"
   ]
  },
  {
   "cell_type": "markdown",
   "id": "2719e76d",
   "metadata": {},
   "source": [
    "### 模型评估"
   ]
  },
  {
   "cell_type": "markdown",
   "id": "035a2164",
   "metadata": {},
   "source": [
    "#### 混淆矩阵"
   ]
  },
  {
   "cell_type": "code",
   "execution_count": 61,
   "id": "be9e7f3f",
   "metadata": {},
   "outputs": [
    {
     "data": {
      "text/plain": [
       "array([[9967, 1124],\n",
       "       [2149, 8907]])"
      ]
     },
     "execution_count": 61,
     "metadata": {},
     "output_type": "execute_result"
    }
   ],
   "source": [
    "#根据概率值，将观测进行分类，以0.5作为阈值\n",
    "sm_pred_y = np.where(sm_y_probability >= 0.5, 1, 0)\n",
    "#混淆矩阵\n",
    "cm = metrics.confusion_matrix(y_test, sm_pred_y, labels=[0, 1])\n",
    "cm"
   ]
  },
  {
   "cell_type": "markdown",
   "id": "8fb74ade",
   "metadata": {},
   "source": [
    "#### 绘制ROC曲线"
   ]
  },
  {
   "cell_type": "code",
   "execution_count": 63,
   "id": "f905196b",
   "metadata": {},
   "outputs": [
    {
     "data": {
      "image/png": "[encoded data removed]",
      "text/plain": [
       "<Figure size 432x288 with 1 Axes>"
      ]
     },
     "metadata": {
      "needs_background": "light"
     },
     "output_type": "display_data"
    }
   ],
   "source": [
    "#计算真正率和假正率\n",
    "fpr, tpr, threshold = metrics.roc_curve(y_test, sm_y_probability)\n",
    "\n",
    "#计算AUC的值\n",
    "roc_auc = metrics.auc(fpr, tpr)\n",
    "\n",
    "#绘制面积图\n",
    "plt.stackplot(fpr, tpr, color='steelblue', alpha=0.5, edgecolor='black')\n",
    "#添加边际线\n",
    "plt.plot(fpr, tpr, color='black', lw=1)\n",
    "#添加对角线\n",
    "plt.plot([0,1], [0,1], color='red', linestyle='--')\n",
    "#添加文本信息\n",
    "plt.text(0.5, 0.3, 'ROC curve (area=%0.2f)'%roc_auc)\n",
    "#添加x轴与y轴标签\n",
    "plt.xlabel('1-Specificity')\n",
    "plt.ylabel('Sensitivity')\n",
    "#显示图形\n",
    "plt.show()"
   ]
  },
  {
   "cell_type": "markdown",
   "id": "572a1eaf",
   "metadata": {},
   "source": [
    "#### K-S曲线"
   ]
  },
  {
   "cell_type": "code",
   "execution_count": 65,
   "id": "61b9e127",
   "metadata": {},
   "outputs": [
    {
     "data": {
      "image/png": "[encoded data removed]",
      "text/plain": [
       "<Figure size 432x288 with 1 Axes>"
      ]
     },
     "metadata": {
      "needs_background": "light"
     },
     "output_type": "display_data"
    }
   ],
   "source": [
    "# 调用自定义函数，绘制K-S曲线\n",
    "#sm_y_probability.index = np.arange(len(sm_y_probability))\n",
    "plot_ks(y_test = y_test, y_score = sm_y_probability, positive_flag = 1)"
   ]
  }
 ],
 "metadata": {
  "kernelspec": {
   "display_name": "Python 3",
   "language": "python",
   "name": "python3"
  },
  "language_info": {
   "codemirror_mode": {
    "name": "ipython",
    "version": 3
   },
   "file_extension": ".py",
   "mimetype": "text/x-python",
   "name": "python",
   "nbconvert_exporter": "python",
   "pygments_lexer": "ipython3",
   "version": "3.7.10"
  },
  "toc": {
   "base_numbering": 1,
   "nav_menu": {},
   "number_sections": true,
   "sideBar": true,
   "skip_h1_title": false,
   "title_cell": "Table of Contents",
   "title_sidebar": "Contents",
   "toc_cell": false,
   "toc_position": {},
   "toc_section_display": true,
   "toc_window_display": false
  }
 },
 "nbformat": 4,
 "nbformat_minor": 5
}
