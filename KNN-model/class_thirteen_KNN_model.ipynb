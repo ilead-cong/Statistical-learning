{
 "cells": [
  {
   "cell_type": "markdown",
   "id": "6ae1e3ed",
   "metadata": {},
   "source": [
    "# KNN邻近模型"
   ]
  },
  {
   "cell_type": "markdown",
   "id": "f8c2867a",
   "metadata": {},
   "source": [
    "## 模型思想"
   ]
  },
  {
   "cell_type": "markdown",
   "id": "b30000d4",
   "metadata": {},
   "source": [
    "![jupyter](./class_thirteen_1.png)"
   ]
  },
  {
   "cell_type": "markdown",
   "id": "025976b2",
   "metadata": {},
   "source": [
    "模型的本质是寻找k个最近样本，然后基于最近样本做预测。对于离散型的因变量，从k个最近的已知类别样本中挑选出频率最高的类别用于未知样本的判断；对于连续型的因变量，则是将k个最近的已知样本的均值用于样本的预测"
   ]
  },
  {
   "cell_type": "markdown",
   "id": "3e66d539",
   "metadata": {},
   "source": [
    "## 模型执行步骤  \n",
    "1.确定未知样本近邻的个数k值  \n",
    "2.根据某种度量样本间相似度的指标（如欧式距离）将每一个未知类别样本的最近k个已知样本搜寻出来，形成一个个簇  \n",
    "3.对搜寻出来的已知样本进行投票，将各簇下类别最多的分类作为未知样本点的预测"
   ]
  },
  {
   "cell_type": "markdown",
   "id": "59c81df4",
   "metadata": {},
   "source": [
    "## k值选择  \n",
    "1.k值过于偏小，可能会导致模型过拟合；k值偏大，可能会使模型欠拟合  \n",
    "2.投票权重：已知样本距离未知样本比较远时，对应的权重就设置的低一点；否则权重就高一点；通常可以将权重设置为距离的倒数  \n",
    "3.多重交叉验证：将k取不同的值，然后再每种值下执行m重交叉验证，最后选出平均误差最小的k值"
   ]
  },
  {
   "cell_type": "markdown",
   "id": "fbe577b6",
   "metadata": {},
   "source": [
    "## 距离度量"
   ]
  },
  {
   "cell_type": "markdown",
   "id": "9a7ad0d3",
   "metadata": {},
   "source": [
    "### 欧氏距离"
   ]
  },
  {
   "cell_type": "markdown",
   "id": "f820e9d3",
   "metadata": {},
   "source": [
    "![jupyter](./class_thirteen_2.png)"
   ]
  },
  {
   "cell_type": "markdown",
   "id": "e139d768",
   "metadata": {},
   "source": [
    "### 曼哈顿距离"
   ]
  },
  {
   "cell_type": "markdown",
   "id": "dc1a820d",
   "metadata": {},
   "source": [
    "![jupyter](./class_thirteen_3.png)"
   ]
  },
  {
   "cell_type": "markdown",
   "id": "cc742a8e",
   "metadata": {},
   "source": [
    "### 余弦相似度"
   ]
  },
  {
   "cell_type": "markdown",
   "id": "e329bc8a",
   "metadata": {},
   "source": [
    "![jupyter](./class_thirteen_4.png)"
   ]
  },
  {
   "cell_type": "markdown",
   "id": "94a6a9a9",
   "metadata": {},
   "source": [
    "## K邻近模型"
   ]
  },
  {
   "cell_type": "markdown",
   "id": "4fd96490",
   "metadata": {},
   "source": [
    "neighbors.KNeighborsClassifier(n_neighbors=5, weights='uniform', p=2, metric='minkowski')  \n",
    "n_neighbors：用于指定邻近样本个数K，默认为5  \n",
    "weights：用于指定邻近样本的投票权重，默认为'uniform'，表示所有邻近样本投票权重一致；'distance',则表示投票权重与距离成反比，即邻近样本与未知类别的样本点距离越远，权重越小  \n",
    "metric：用于指定距离的度量指标，默认为闵可夫斯基距离  \n",
    "p：当参数metric为闵可夫斯基距离时：p=1，表示计算点之间的曼哈顿距离；p=2，表示计算点之间的欧式距离；该参数的默认值为2  "
   ]
  },
  {
   "cell_type": "markdown",
   "id": "97df34c0",
   "metadata": {},
   "source": [
    "## 分类模型"
   ]
  },
  {
   "cell_type": "code",
   "execution_count": 4,
   "id": "38af41aa",
   "metadata": {},
   "outputs": [
    {
     "data": {
      "text/html": [
       "<div>\n",
       "<style scoped>\n",
       "    .dataframe tbody tr th:only-of-type {\n",
       "        vertical-align: middle;\n",
       "    }\n",
       "\n",
       "    .dataframe tbody tr th {\n",
       "        vertical-align: top;\n",
       "    }\n",
       "\n",
       "    .dataframe thead th {\n",
       "        text-align: right;\n",
       "    }\n",
       "</style>\n",
       "<table border=\"1\" class=\"dataframe\">\n",
       "  <thead>\n",
       "    <tr style=\"text-align: right;\">\n",
       "      <th></th>\n",
       "      <th>STG</th>\n",
       "      <th>SCG</th>\n",
       "      <th>STR</th>\n",
       "      <th>LPR</th>\n",
       "      <th>PEG</th>\n",
       "      <th>UNS</th>\n",
       "    </tr>\n",
       "  </thead>\n",
       "  <tbody>\n",
       "    <tr>\n",
       "      <th>0</th>\n",
       "      <td>0.00</td>\n",
       "      <td>0.00</td>\n",
       "      <td>0.00</td>\n",
       "      <td>0.00</td>\n",
       "      <td>0.00</td>\n",
       "      <td>Very Low</td>\n",
       "    </tr>\n",
       "    <tr>\n",
       "      <th>1</th>\n",
       "      <td>0.08</td>\n",
       "      <td>0.08</td>\n",
       "      <td>0.10</td>\n",
       "      <td>0.24</td>\n",
       "      <td>0.90</td>\n",
       "      <td>High</td>\n",
       "    </tr>\n",
       "    <tr>\n",
       "      <th>2</th>\n",
       "      <td>0.06</td>\n",
       "      <td>0.06</td>\n",
       "      <td>0.05</td>\n",
       "      <td>0.25</td>\n",
       "      <td>0.33</td>\n",
       "      <td>Low</td>\n",
       "    </tr>\n",
       "    <tr>\n",
       "      <th>3</th>\n",
       "      <td>0.10</td>\n",
       "      <td>0.10</td>\n",
       "      <td>0.15</td>\n",
       "      <td>0.65</td>\n",
       "      <td>0.30</td>\n",
       "      <td>Middle</td>\n",
       "    </tr>\n",
       "    <tr>\n",
       "      <th>4</th>\n",
       "      <td>0.08</td>\n",
       "      <td>0.08</td>\n",
       "      <td>0.08</td>\n",
       "      <td>0.98</td>\n",
       "      <td>0.24</td>\n",
       "      <td>Low</td>\n",
       "    </tr>\n",
       "  </tbody>\n",
       "</table>\n",
       "</div>"
      ],
      "text/plain": [
       "    STG   SCG   STR   LPR   PEG       UNS\n",
       "0  0.00  0.00  0.00  0.00  0.00  Very Low\n",
       "1  0.08  0.08  0.10  0.24  0.90      High\n",
       "2  0.06  0.06  0.05  0.25  0.33       Low\n",
       "3  0.10  0.10  0.15  0.65  0.30    Middle\n",
       "4  0.08  0.08  0.08  0.98  0.24       Low"
      ]
     },
     "execution_count": 4,
     "metadata": {},
     "output_type": "execute_result"
    }
   ],
   "source": [
    "# 数据导入\n",
    "import pandas as pd\n",
    "knowledge = pd.read_excel(r'./data_class/Knowledge.xlsx')\n",
    "knowledge.head()"
   ]
  },
  {
   "cell_type": "code",
   "execution_count": 8,
   "id": "03d3dffa",
   "metadata": {},
   "outputs": [],
   "source": [
    "# 构造训练集和测试集\n",
    "from sklearn import model_selection\n",
    "predictors = knowledge.columns[:-1]\n",
    "x_train, x_test, y_train, y_test = model_selection.train_test_split(knowledge[predictors], knowledge.UNS, test_size=0.25, random_state=1234)"
   ]
  },
  {
   "cell_type": "code",
   "execution_count": 9,
   "id": "a007d7db",
   "metadata": {},
   "outputs": [],
   "source": [
    "import numpy as np\n",
    "from sklearn import neighbors\n",
    "import matplotlib.pyplot as plt"
   ]
  },
  {
   "cell_type": "code",
   "execution_count": 12,
   "id": "b5f0d3b3",
   "metadata": {},
   "outputs": [
    {
     "data": {
      "text/plain": [
       "array([1, 2, 3, 4, 5, 6, 7, 8])"
      ]
     },
     "execution_count": 12,
     "metadata": {},
     "output_type": "execute_result"
    }
   ],
   "source": [
    "#设置待测试的不同k值\n",
    "K = np.arange(1, np.ceil(np.log2(knowledge.shape[0])).astype(int))\n",
    "K"
   ]
  },
  {
   "cell_type": "code",
   "execution_count": 15,
   "id": "b5bd8be2",
   "metadata": {},
   "outputs": [
    {
     "data": {
      "text/plain": [
       "[0.844301075268817,\n",
       " 0.844301075268817,\n",
       " 0.8277419354838711,\n",
       " 0.8706451612903227,\n",
       " 0.8940860215053764,\n",
       " 0.8938709677419355,\n",
       " 0.8872043010752687,\n",
       " 0.8872043010752689]"
      ]
     },
     "execution_count": 15,
     "metadata": {},
     "output_type": "execute_result"
    }
   ],
   "source": [
    "# 使用10组交叉验证的方法， 比对每一个k值下KNN模型预测的准确率\n",
    "accuracy = []\n",
    "for k in K:\n",
    "    cv_result = model_selection.cross_val_score(neighbors.KNeighborsClassifier(n_neighbors=k, weights='distance'), x_train, y_train, cv=10, scoring='accuracy')\n",
    "    accuracy.append(cv_result.mean())\n",
    "accuracy"
   ]
  },
  {
   "cell_type": "code",
   "execution_count": 18,
   "id": "7b5e24f7",
   "metadata": {},
   "outputs": [
    {
     "data": {
      "text/plain": [
       "<function matplotlib.pyplot.show(close=None, block=None)>"
      ]
     },
     "execution_count": 18,
     "metadata": {},
     "output_type": "execute_result"
    },
    {
     "data": {
      "image/png": "[encoded data removed]",
      "text/plain": [
       "<Figure size 432x288 with 1 Axes>"
      ]
     },
     "metadata": {
      "needs_background": "light"
     },
     "output_type": "display_data"
    }
   ],
   "source": [
    "#绘制不同k值与平均预测准确率之间的折线图\n",
    "## 从k个平均准确率中挑选出最大值所对应的下标\n",
    "arg_max = np.array(accuracy).argmax()\n",
    "## 绘图\n",
    "plt.plot(K, accuracy)\n",
    "## 添加点图\n",
    "plt.scatter(K, accuracy)\n",
    "## 添加文字说明\n",
    "plt.text(K[arg_max], accuracy[arg_max], 'best k=%s'%int(K[arg_max]))\n",
    "plt.show"
   ]
  },
  {
   "cell_type": "code",
   "execution_count": 19,
   "id": "1fa67300",
   "metadata": {},
   "outputs": [],
   "source": [
    "from sklearn import metrics "
   ]
  },
  {
   "cell_type": "code",
   "execution_count": 20,
   "id": "5c0847e9",
   "metadata": {},
   "outputs": [
    {
     "data": {
      "text/html": [
       "<div>\n",
       "<style scoped>\n",
       "    .dataframe tbody tr th:only-of-type {\n",
       "        vertical-align: middle;\n",
       "    }\n",
       "\n",
       "    .dataframe tbody tr th {\n",
       "        vertical-align: top;\n",
       "    }\n",
       "\n",
       "    .dataframe thead th {\n",
       "        text-align: right;\n",
       "    }\n",
       "</style>\n",
       "<table border=\"1\" class=\"dataframe\">\n",
       "  <thead>\n",
       "    <tr style=\"text-align: right;\">\n",
       "      <th>UNS</th>\n",
       "      <th>High</th>\n",
       "      <th>Low</th>\n",
       "      <th>Middle</th>\n",
       "      <th>Very Low</th>\n",
       "    </tr>\n",
       "    <tr>\n",
       "      <th>row_0</th>\n",
       "      <th></th>\n",
       "      <th></th>\n",
       "      <th></th>\n",
       "      <th></th>\n",
       "    </tr>\n",
       "  </thead>\n",
       "  <tbody>\n",
       "    <tr>\n",
       "      <th>High</th>\n",
       "      <td>29</td>\n",
       "      <td>0</td>\n",
       "      <td>0</td>\n",
       "      <td>0</td>\n",
       "    </tr>\n",
       "    <tr>\n",
       "      <th>Low</th>\n",
       "      <td>0</td>\n",
       "      <td>34</td>\n",
       "      <td>3</td>\n",
       "      <td>5</td>\n",
       "    </tr>\n",
       "    <tr>\n",
       "      <th>Middle</th>\n",
       "      <td>1</td>\n",
       "      <td>0</td>\n",
       "      <td>23</td>\n",
       "      <td>0</td>\n",
       "    </tr>\n",
       "    <tr>\n",
       "      <th>Very Low</th>\n",
       "      <td>0</td>\n",
       "      <td>0</td>\n",
       "      <td>0</td>\n",
       "      <td>6</td>\n",
       "    </tr>\n",
       "  </tbody>\n",
       "</table>\n",
       "</div>"
      ],
      "text/plain": [
       "UNS       High  Low  Middle  Very Low\n",
       "row_0                                \n",
       "High        29    0       0         0\n",
       "Low          0   34       3         5\n",
       "Middle       1    0      23         0\n",
       "Very Low     0    0       0         6"
      ]
     },
     "execution_count": 20,
     "metadata": {},
     "output_type": "execute_result"
    }
   ],
   "source": [
    "# 重新构建模型，并将最佳近邻个数设置为5\n",
    "knn_class = neighbors.KNeighborsClassifier(n_neighbors=5, weights='distance')\n",
    "# 模型拟合\n",
    "knn_class.fit(x_train, y_train)\n",
    "# 模型在测试集上的预测\n",
    "predict = knn_class.predict(x_test)\n",
    "# 构建混淆矩阵\n",
    "cm = pd.crosstab(predict, y_test)\n",
    "cm"
   ]
  },
  {
   "cell_type": "code",
   "execution_count": 21,
   "id": "c39cf74f",
   "metadata": {},
   "outputs": [],
   "source": [
    "import seaborn as sns"
   ]
  },
  {
   "cell_type": "code",
   "execution_count": 22,
   "id": "1763704e",
   "metadata": {},
   "outputs": [
    {
     "data": {
      "image/png": "[encoded data removed]",
      "text/plain": [
       "<Figure size 432x288 with 2 Axes>"
      ]
     },
     "metadata": {
      "needs_background": "light"
     },
     "output_type": "display_data"
    }
   ],
   "source": [
    "# 将混淆矩阵构造成数据集， 并加上字段名和行名称\n",
    "cm = pd.DataFrame(cm)\n",
    "# 绘制热力图\n",
    "sns.heatmap(cm, annot=True, cmap='GnBu')\n",
    "# 添加x轴和y轴的标签\n",
    "plt.xlabel('real label')\n",
    "plt.ylabel('predict label')\n",
    "plt.show()"
   ]
  },
  {
   "cell_type": "code",
   "execution_count": 26,
   "id": "a192ff46",
   "metadata": {},
   "outputs": [
    {
     "data": {
      "text/plain": [
       "0.9108910891089109"
      ]
     },
     "execution_count": 26,
     "metadata": {},
     "output_type": "execute_result"
    }
   ],
   "source": [
    "# 模型整体的预测准确率\n",
    "metrics.accuracy_score(y_test, predict)"
   ]
  },
  {
   "cell_type": "code",
   "execution_count": 27,
   "id": "fde01154",
   "metadata": {},
   "outputs": [
    {
     "name": "stdout",
     "output_type": "stream",
     "text": [
      "              precision    recall  f1-score   support\n",
      "\n",
      "        High       1.00      0.97      0.98        30\n",
      "         Low       0.81      1.00      0.89        34\n",
      "      Middle       0.96      0.88      0.92        26\n",
      "    Very Low       1.00      0.55      0.71        11\n",
      "\n",
      "    accuracy                           0.91       101\n",
      "   macro avg       0.94      0.85      0.88       101\n",
      "weighted avg       0.93      0.91      0.91       101\n",
      "\n"
     ]
    }
   ],
   "source": [
    "# 分类模型的评估报告\n",
    "print(metrics.classification_report(y_test, predict))"
   ]
  },
  {
   "cell_type": "markdown",
   "id": "2f6b5fac",
   "metadata": {},
   "source": [
    "## 回归模型"
   ]
  },
  {
   "cell_type": "code",
   "execution_count": 29,
   "id": "ab65e988",
   "metadata": {},
   "outputs": [
    {
     "data": {
      "text/html": [
       "<div>\n",
       "<style scoped>\n",
       "    .dataframe tbody tr th:only-of-type {\n",
       "        vertical-align: middle;\n",
       "    }\n",
       "\n",
       "    .dataframe tbody tr th {\n",
       "        vertical-align: top;\n",
       "    }\n",
       "\n",
       "    .dataframe thead th {\n",
       "        text-align: right;\n",
       "    }\n",
       "</style>\n",
       "<table border=\"1\" class=\"dataframe\">\n",
       "  <thead>\n",
       "    <tr style=\"text-align: right;\">\n",
       "      <th></th>\n",
       "      <th>AT</th>\n",
       "      <th>V</th>\n",
       "      <th>AP</th>\n",
       "      <th>RH</th>\n",
       "      <th>PE</th>\n",
       "    </tr>\n",
       "  </thead>\n",
       "  <tbody>\n",
       "    <tr>\n",
       "      <th>0</th>\n",
       "      <td>14.96</td>\n",
       "      <td>41.76</td>\n",
       "      <td>1024.07</td>\n",
       "      <td>73.17</td>\n",
       "      <td>463.26</td>\n",
       "    </tr>\n",
       "    <tr>\n",
       "      <th>1</th>\n",
       "      <td>25.18</td>\n",
       "      <td>62.96</td>\n",
       "      <td>1020.04</td>\n",
       "      <td>59.08</td>\n",
       "      <td>444.37</td>\n",
       "    </tr>\n",
       "    <tr>\n",
       "      <th>2</th>\n",
       "      <td>5.11</td>\n",
       "      <td>39.40</td>\n",
       "      <td>1012.16</td>\n",
       "      <td>92.14</td>\n",
       "      <td>488.56</td>\n",
       "    </tr>\n",
       "    <tr>\n",
       "      <th>3</th>\n",
       "      <td>20.86</td>\n",
       "      <td>57.32</td>\n",
       "      <td>1010.24</td>\n",
       "      <td>76.64</td>\n",
       "      <td>446.48</td>\n",
       "    </tr>\n",
       "    <tr>\n",
       "      <th>4</th>\n",
       "      <td>10.82</td>\n",
       "      <td>37.50</td>\n",
       "      <td>1009.23</td>\n",
       "      <td>96.62</td>\n",
       "      <td>473.90</td>\n",
       "    </tr>\n",
       "  </tbody>\n",
       "</table>\n",
       "</div>"
      ],
      "text/plain": [
       "      AT      V       AP     RH      PE\n",
       "0  14.96  41.76  1024.07  73.17  463.26\n",
       "1  25.18  62.96  1020.04  59.08  444.37\n",
       "2   5.11  39.40  1012.16  92.14  488.56\n",
       "3  20.86  57.32  1010.24  76.64  446.48\n",
       "4  10.82  37.50  1009.23  96.62  473.90"
      ]
     },
     "execution_count": 29,
     "metadata": {},
     "output_type": "execute_result"
    }
   ],
   "source": [
    "# 导入数据\n",
    "ccpp = pd.read_excel(r'./data_class/CCPP.xlsx')\n",
    "ccpp.head()"
   ]
  },
  {
   "cell_type": "code",
   "execution_count": 30,
   "id": "d47c6d8e",
   "metadata": {},
   "outputs": [],
   "source": [
    "from sklearn.preprocessing import minmax_scale"
   ]
  },
  {
   "cell_type": "code",
   "execution_count": 33,
   "id": "eb4b47c9",
   "metadata": {},
   "outputs": [
    {
     "data": {
      "text/plain": [
       "array([[0.37252125, 0.29181495, 0.77159119, 0.63820375],\n",
       "       [0.66203966, 0.66903915, 0.6718634 , 0.44932976],\n",
       "       [0.09348442, 0.24982206, 0.47686216, 0.8924933 ],\n",
       "       ...,\n",
       "       [0.83597734, 0.87135231, 0.49566939, 0.1463807 ],\n",
       "       [0.64220963, 0.78451957, 0.51893096, 0.49369973],\n",
       "       [0.56062323, 0.66120996, 0.60232616, 0.56715818]])"
      ]
     },
     "execution_count": 33,
     "metadata": {},
     "output_type": "execute_result"
    }
   ],
   "source": [
    "# 数据标准化：对于不同度量单位的数据，需要进行标准化\n",
    "predictors = ccpp.columns[:-1]\n",
    "data = minmax_scale(ccpp[predictors])\n",
    "data"
   ]
  },
  {
   "cell_type": "code",
   "execution_count": 34,
   "id": "ba1af58f",
   "metadata": {},
   "outputs": [],
   "source": [
    "# 数据集拆分\n",
    "x_train, x_test, y_train, y_test = model_selection.train_test_split(data, ccpp.PE, test_size=0.25, random_state=1234)"
   ]
  },
  {
   "cell_type": "code",
   "execution_count": 35,
   "id": "a31dbec6",
   "metadata": {},
   "outputs": [
    {
     "data": {
      "text/plain": [
       "array([ 1,  2,  3,  4,  5,  6,  7,  8,  9, 10, 11, 12, 13])"
      ]
     },
     "execution_count": 35,
     "metadata": {},
     "output_type": "execute_result"
    }
   ],
   "source": [
    "# 设置待测试的不同k值\n",
    "K = np.arange(1, np.ceil(np.log2(ccpp.shape[0])).astype(int))\n",
    "K"
   ]
  },
  {
   "cell_type": "code",
   "execution_count": 37,
   "id": "2e27024a",
   "metadata": {},
   "outputs": [
    {
     "data": {
      "text/plain": [
       "[20.33826934563699,\n",
       " 16.217041218126834,\n",
       " 14.96891605007168,\n",
       " 14.397793803862973,\n",
       " 14.097370224457572,\n",
       " 13.903048322705775,\n",
       " 13.845159367748613,\n",
       " 13.889549060735254,\n",
       " 13.86668415088251,\n",
       " 13.879219529586749,\n",
       " 13.901341840751712,\n",
       " 13.984364297820136,\n",
       " 14.030171225085516]"
      ]
     },
     "execution_count": 37,
     "metadata": {},
     "output_type": "execute_result"
    }
   ],
   "source": [
    "# 使用10组交叉验证的方法， 比较每一个k值下KNN模型的MSE\n",
    "mse = []\n",
    "for k in K:\n",
    "    cv_result = model_selection.cross_val_score(neighbors.KNeighborsRegressor(n_neighbors=k, weights='distance'), x_train, y_train, cv=10, scoring='neg_mean_squared_error')\n",
    "    mse.append((-1*cv_result).mean())\n",
    "mse"
   ]
  },
  {
   "cell_type": "code",
   "execution_count": 38,
   "id": "97311edb",
   "metadata": {},
   "outputs": [
    {
     "data": {
      "image/png": "[encoded data removed]",
      "text/plain": [
       "<Figure size 432x288 with 1 Axes>"
      ]
     },
     "metadata": {
      "needs_background": "light"
     },
     "output_type": "display_data"
    }
   ],
   "source": [
    "# 从k个平均MSE中挑选出最小值所对应的下标\n",
    "arg_min = np.array(mse).argmin()\n",
    "# 绘制折线图\n",
    "plt.plot(K, mse)\n",
    "# 添加点\n",
    "plt.scatter(K, mse)\n",
    "#添加文字说明\n",
    "plt.text(K[arg_min], mse[arg_min] + 0.5, 'best k=%s'%int(K[arg_min]))\n",
    "plt.show()"
   ]
  },
  {
   "cell_type": "code",
   "execution_count": 39,
   "id": "16dbf0e6",
   "metadata": {},
   "outputs": [
    {
     "data": {
      "text/plain": [
       "12.814094947334913"
      ]
     },
     "execution_count": 39,
     "metadata": {},
     "output_type": "execute_result"
    }
   ],
   "source": [
    "# 重新构建模型， 并将最佳的近邻个数设置为7\n",
    "knn_reg = neighbors.KNeighborsRegressor(n_neighbors=7, weights='distance')\n",
    "knn_reg.fit(x_train, y_train)\n",
    "predict = knn_reg.predict(x_test)\n",
    "metrics.mean_squared_error(y_test, predict)"
   ]
  }
 ],
 "metadata": {
  "kernelspec": {
   "display_name": "Python 3",
   "language": "python",
   "name": "python3"
  },
  "language_info": {
   "codemirror_mode": {
    "name": "ipython",
    "version": 3
   },
   "file_extension": ".py",
   "mimetype": "text/x-python",
   "name": "python",
   "nbconvert_exporter": "python",
   "pygments_lexer": "ipython3",
   "version": "3.7.11"
  },
  "toc": {
   "base_numbering": 1,
   "nav_menu": {},
   "number_sections": true,
   "sideBar": true,
   "skip_h1_title": false,
   "title_cell": "Table of Contents",
   "title_sidebar": "Contents",
   "toc_cell": false,
   "toc_position": {},
   "toc_section_display": true,
   "toc_window_display": false
  }
 },
 "nbformat": 4,
 "nbformat_minor": 5
}
